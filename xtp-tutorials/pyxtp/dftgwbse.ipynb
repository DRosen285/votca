{
 "cells": [
  {
   "cell_type": "code",
   "execution_count": 3,
   "metadata": {},
   "outputs": [
    {
     "ename": "ImportError",
     "evalue": "libmkl_rt.so.2: cannot open shared object file: No such file or directory",
     "output_type": "error",
     "traceback": [
      "\u001b[0;31m---------------------------------------------------------------------------\u001b[0m",
      "\u001b[0;31mImportError\u001b[0m                               Traceback (most recent call last)",
      "Cell \u001b[0;32mIn [3], line 2\u001b[0m\n\u001b[1;32m      1\u001b[0m \u001b[38;5;124;03m\"\"\"Example to compute energies using XTP.\"\"\"\u001b[39;00m\n\u001b[0;32m----> 2\u001b[0m \u001b[38;5;28;01mfrom\u001b[39;00m \u001b[38;5;21;01mpyxtp\u001b[39;00m \u001b[38;5;28;01mimport\u001b[39;00m DFTGWBSE, Molecule, Visualization\n",
      "File \u001b[0;32m/usr/lib/python3/dist-packages/pyxtp/__init__.py:6\u001b[0m\n\u001b[1;32m      3\u001b[0m \u001b[39mimport\u001b[39;00m \u001b[39mlogging\u001b[39;00m\n\u001b[1;32m      5\u001b[0m \u001b[39mfrom\u001b[39;00m \u001b[39m.\u001b[39;00m\u001b[39m__version__\u001b[39;00m \u001b[39mimport\u001b[39;00m __version__\n\u001b[0;32m----> 6\u001b[0m \u001b[39mfrom\u001b[39;00m \u001b[39m.\u001b[39;00m\u001b[39mnumerical_gradient\u001b[39;00m \u001b[39mimport\u001b[39;00m NumericalGradient\n\u001b[1;32m      7\u001b[0m \u001b[39mfrom\u001b[39;00m \u001b[39m.\u001b[39;00m\u001b[39mdftgwbse\u001b[39;00m \u001b[39mimport\u001b[39;00m DFTGWBSE\n\u001b[1;32m      8\u001b[0m \u001b[39mfrom\u001b[39;00m \u001b[39m.\u001b[39;00m\u001b[39mmolecule\u001b[39;00m \u001b[39mimport\u001b[39;00m Molecule\n",
      "File \u001b[0;32m/usr/lib/python3/dist-packages/pyxtp/numerical_gradient.py:13\u001b[0m\n\u001b[1;32m     11\u001b[0m \u001b[39mfrom\u001b[39;00m \u001b[39m.\u001b[39;00m\u001b[39mmolecule\u001b[39;00m \u001b[39mimport\u001b[39;00m Molecule\n\u001b[1;32m     12\u001b[0m \u001b[39mfrom\u001b[39;00m \u001b[39m.\u001b[39;00m\u001b[39mutils\u001b[39;00m \u001b[39mimport\u001b[39;00m BOHR2ANG\n\u001b[0;32m---> 13\u001b[0m \u001b[39mfrom\u001b[39;00m \u001b[39m.\u001b[39;00m\u001b[39mdftgwbse\u001b[39;00m \u001b[39mimport\u001b[39;00m DFTGWBSE\n\u001b[1;32m     15\u001b[0m __all__ \u001b[39m=\u001b[39m [\u001b[39m\"\u001b[39m\u001b[39mNumericalGradient\u001b[39m\u001b[39m\"\u001b[39m]\n\u001b[1;32m     18\u001b[0m \u001b[39mclass\u001b[39;00m \u001b[39mNumericalGradient\u001b[39;00m:\n",
      "File \u001b[0;32m/usr/lib/python3/dist-packages/pyxtp/dftgwbse.py:9\u001b[0m\n\u001b[1;32m      6\u001b[0m \u001b[39mfrom\u001b[39;00m \u001b[39mpathlib\u001b[39;00m \u001b[39mimport\u001b[39;00m Path\n\u001b[1;32m      7\u001b[0m \u001b[39mfrom\u001b[39;00m \u001b[39mtyping\u001b[39;00m \u001b[39mimport\u001b[39;00m Any, Dict, Optional\n\u001b[0;32m----> 9\u001b[0m \u001b[39mfrom\u001b[39;00m \u001b[39m.\u001b[39;00m\u001b[39mcapture_standard_output\u001b[39;00m \u001b[39mimport\u001b[39;00m capture_standard_output\n\u001b[1;32m     10\u001b[0m \u001b[39mfrom\u001b[39;00m \u001b[39mpyxtp\u001b[39;00m \u001b[39mimport\u001b[39;00m xtp_binds\n\u001b[1;32m     12\u001b[0m \u001b[39mfrom\u001b[39;00m \u001b[39m.\u001b[39;00m\u001b[39mmolecule\u001b[39;00m \u001b[39mimport\u001b[39;00m Molecule\n",
      "File \u001b[0;32m/usr/lib/python3/dist-packages/pyxtp/capture_standard_output.py:3\u001b[0m\n\u001b[1;32m      1\u001b[0m \u001b[39m#!/usr/bin/env python\u001b[39;00m\n\u001b[1;32m      2\u001b[0m \u001b[39m\"\"\"Examples to show xtp_binds usage.\"\"\"\u001b[39;00m\n\u001b[0;32m----> 3\u001b[0m \u001b[39mfrom\u001b[39;00m \u001b[39mpyxtp\u001b[39;00m \u001b[39mimport\u001b[39;00m xtp_binds\n\u001b[1;32m      4\u001b[0m \u001b[39mfrom\u001b[39;00m \u001b[39mpathlib\u001b[39;00m \u001b[39mimport\u001b[39;00m Path\n\u001b[1;32m      5\u001b[0m \u001b[39mfrom\u001b[39;00m \u001b[39mmultiprocessing\u001b[39;00m \u001b[39mimport\u001b[39;00m cpu_count\n",
      "\u001b[0;31mImportError\u001b[0m: libmkl_rt.so.2: cannot open shared object file: No such file or directory"
     ]
    }
   ],
   "source": [
    "\"\"\"Example to compute energies using XTP.\"\"\"\n",
    "from pyxtp import DFTGWBSE, Molecule, Visualization"
   ]
  },
  {
   "cell_type": "code",
   "execution_count": 2,
   "metadata": {},
   "outputs": [
    {
     "name": "stdout",
     "output_type": "stream",
     "text": [
      " \n",
      ":: initializing oneAPI environment ...\n",
      "   zsh: ZSH_VERSION = 5.8.1\n",
      "   args: Using \"$@\" for setvars.sh arguments: --config=config_oneapi.txt\n",
      ":: advisor -- latest\n",
      ":: ccl -- latest\n",
      ":: compiler -- latest\n",
      ":: dal -- latest\n",
      ":: debugger -- latest\n",
      ":: dev-utilities -- latest\n",
      ":: dnnl -- latest\n",
      ":: dpcpp-ct -- latest\n",
      ":: dpl -- latest\n",
      ":: ipp -- latest\n",
      ":: ippcp -- latest\n",
      ":: ipp -- latest\n",
      ":: mkl -- latest\n",
      ":: mpi -- latest\n",
      ":: tbb -- latest\n",
      ":: vpl -- latest\n",
      ":: vtune -- latest\n",
      ":: oneAPI environment initialized ::\n",
      " \n"
     ]
    }
   ],
   "source": [
    "!source /opt/intel/oneapi/setvars.sh --config=config_oneapi.txt"
   ]
  },
  {
   "cell_type": "code",
   "execution_count": 5,
   "metadata": {},
   "outputs": [
    {
     "data": {
      "text/plain": [
       "environ{'ELECTRON_RUN_AS_NODE': '1',\n",
       "        'GJS_DEBUG_TOPICS': 'JS ERROR;JS LOG',\n",
       "        'CONDA_PROMPT_MODIFIER': '(base) ',\n",
       "        'SNAP_INSTANCE_KEY': '',\n",
       "        'USER': 'nico',\n",
       "        'SNAP_COMMON': '/var/snap/code/common',\n",
       "        'LC_TIME': 'nl_NL.UTF-8',\n",
       "        'XDG_SESSION_TYPE': 'wayland',\n",
       "        'SHLVL': '1',\n",
       "        'LESS': '-R',\n",
       "        'HOME': '/home/nico',\n",
       "        'CONDA_SHLVL': '1',\n",
       "        'SNAP_LIBRARY_PATH': '/var/lib/snapd/lib/gl:/var/lib/snapd/lib/gl32:/var/lib/snapd/void',\n",
       "        'OLDPWD': '/home/nico',\n",
       "        'DESKTOP_SESSION': 'ubuntu',\n",
       "        'SNAP_USER_DATA': '/home/nico/snap/code/107',\n",
       "        'LSCOLORS': 'Gxfxcxdxbxegedabagacad',\n",
       "        'ZSH': '/home/nico/.oh-my-zsh',\n",
       "        'GIO_LAUNCHED_DESKTOP_FILE': '/usr/share/applications/terminator.desktop',\n",
       "        'GNOME_SHELL_SESSION_MODE': 'ubuntu',\n",
       "        'GTK_MODULES': 'gail:atk-bridge',\n",
       "        'PAGER': 'cat',\n",
       "        'LC_MONETARY': 'nl_NL.UTF-8',\n",
       "        'MANAGERPID': '1075',\n",
       "        'SYSTEMD_EXEC_PID': '1282',\n",
       "        'DBUS_SESSION_BUS_ADDRESS': 'unix:path=/run/user/1000/bus',\n",
       "        'SNAP_REVISION': '107',\n",
       "        'COLORTERM': 'truecolor',\n",
       "        '_CE_M': '',\n",
       "        'TERMINATOR_DBUS_NAME': 'net.tenshu.Terminator25ef4b219e3b005583550f2b0f9f990c3',\n",
       "        'GIO_LAUNCHED_DESKTOP_FILE_PID': '6839',\n",
       "        'WAYLAND_DISPLAY': 'wayland-0',\n",
       "        'LOGNAME': 'nico',\n",
       "        'SNAP_CONTEXT': 'E3haurhXjvc6zmuTWnfjMK9uOXYtOpBa0ON-UAoz86oNuzfTetSZ',\n",
       "        'JOURNAL_STREAM': '8:23733',\n",
       "        'XDG_SESSION_CLASS': 'user',\n",
       "        'SNAP_VERSION': 'e7f30e38',\n",
       "        'USERNAME': 'nico',\n",
       "        'TERM': 'xterm-color',\n",
       "        'GNOME_DESKTOP_SESSION_ID': 'this-is-deprecated',\n",
       "        'SNAP_INSTANCE_NAME': 'code',\n",
       "        '_CE_CONDA': '',\n",
       "        'PATH': '/bin:/home/nico/miniconda3/bin:/home/nico/miniconda3/condabin:/usr/local/sbin:/usr/local/bin:/usr/sbin:/usr/bin:/sbin:/bin:/usr/games:/usr/local/games:/snap/bin:/snap/bin',\n",
       "        'SESSION_MANAGER': 'local/nico-VirtualBox:@/tmp/.ICE-unix/1250,unix/nico-VirtualBox:/tmp/.ICE-unix/1250',\n",
       "        'INVOCATION_ID': '63a2f3b2166f49f38e97c81b8e6b60c0',\n",
       "        'XDG_MENU_PREFIX': 'gnome-',\n",
       "        'LC_ADDRESS': 'nl_NL.UTF-8',\n",
       "        'GNOME_SETUP_DISPLAY': ':1',\n",
       "        'SNAP_DATA': '/var/snap/code/107',\n",
       "        'XDG_RUNTIME_DIR': '/run/user/1000',\n",
       "        'DISPLAY': ':0',\n",
       "        'TERMINATOR_DBUS_PATH': '/net/tenshu/Terminator2',\n",
       "        'LANG': 'en_US.UTF-8',\n",
       "        'XDG_CURRENT_DESKTOP': 'Unity',\n",
       "        'IBUS_DISABLE_SNOOPER': '1',\n",
       "        'LC_TELEPHONE': 'nl_NL.UTF-8',\n",
       "        'XMODIFIERS': '@im=ibus',\n",
       "        'XDG_SESSION_DESKTOP': 'ubuntu',\n",
       "        'XAUTHORITY': '/run/user/1000/.mutter-Xwaylandauth.UI9HS1',\n",
       "        'LS_COLORS': 'rs=0:di=01;34:ln=01;36:mh=00:pi=40;33:so=01;35:do=01;35:bd=40;33;01:cd=40;33;01:or=40;31;01:mi=00:su=37;41:sg=30;43:ca=30;41:tw=30;42:ow=34;42:st=37;44:ex=01;32:*.tar=01;31:*.tgz=01;31:*.arc=01;31:*.arj=01;31:*.taz=01;31:*.lha=01;31:*.lz4=01;31:*.lzh=01;31:*.lzma=01;31:*.tlz=01;31:*.txz=01;31:*.tzo=01;31:*.t7z=01;31:*.zip=01;31:*.z=01;31:*.dz=01;31:*.gz=01;31:*.lrz=01;31:*.lz=01;31:*.lzo=01;31:*.xz=01;31:*.zst=01;31:*.tzst=01;31:*.bz2=01;31:*.bz=01;31:*.tbz=01;31:*.tbz2=01;31:*.tz=01;31:*.deb=01;31:*.rpm=01;31:*.jar=01;31:*.war=01;31:*.ear=01;31:*.sar=01;31:*.rar=01;31:*.alz=01;31:*.ace=01;31:*.zoo=01;31:*.cpio=01;31:*.7z=01;31:*.rz=01;31:*.cab=01;31:*.wim=01;31:*.swm=01;31:*.dwm=01;31:*.esd=01;31:*.jpg=01;35:*.jpeg=01;35:*.mjpg=01;35:*.mjpeg=01;35:*.gif=01;35:*.bmp=01;35:*.pbm=01;35:*.pgm=01;35:*.ppm=01;35:*.tga=01;35:*.xbm=01;35:*.xpm=01;35:*.tif=01;35:*.tiff=01;35:*.png=01;35:*.svg=01;35:*.svgz=01;35:*.mng=01;35:*.pcx=01;35:*.mov=01;35:*.mpg=01;35:*.mpeg=01;35:*.m2v=01;35:*.mkv=01;35:*.webm=01;35:*.webp=01;35:*.ogm=01;35:*.mp4=01;35:*.m4v=01;35:*.mp4v=01;35:*.vob=01;35:*.qt=01;35:*.nuv=01;35:*.wmv=01;35:*.asf=01;35:*.rm=01;35:*.rmvb=01;35:*.flc=01;35:*.avi=01;35:*.fli=01;35:*.flv=01;35:*.gl=01;35:*.dl=01;35:*.xcf=01;35:*.xwd=01;35:*.yuv=01;35:*.cgm=01;35:*.emf=01;35:*.ogv=01;35:*.ogx=01;35:*.aac=00;36:*.au=00;36:*.flac=00;36:*.m4a=00;36:*.mid=00;36:*.midi=00;36:*.mka=00;36:*.mp3=00;36:*.mpc=00;36:*.ogg=00;36:*.ra=00;36:*.wav=00;36:*.oga=00;36:*.opus=00;36:*.spx=00;36:*.xspf=00;36:',\n",
       "        'SSH_AGENT_LAUNCHER': 'gnome-keyring',\n",
       "        'SNAP_USER_COMMON': '/home/nico/snap/code/common',\n",
       "        'SSH_AUTH_SOCK': '/run/user/1000/keyring/ssh',\n",
       "        'GSETTINGS_SCHEMA_DIR': '/snap/code/107/usr/share/glib-2.0/schemas',\n",
       "        'SNAP_ARCH': 'amd64',\n",
       "        'SNAP_COOKIE': 'E3haurhXjvc6zmuTWnfjMK9uOXYtOpBa0ON-UAoz86oNuzfTetSZ',\n",
       "        'CONDA_PYTHON_EXE': '/home/nico/miniconda3/bin/python',\n",
       "        'SHELL': '/usr/bin/zsh',\n",
       "        'LC_NAME': 'nl_NL.UTF-8',\n",
       "        'TERMINATOR_UUID': 'urn:uuid:3e18d93f-b721-4385-93e5-8dd27224a220',\n",
       "        'GDK_PIXBUF_MODULEDIR': '/snap/code/107/usr/lib/x86_64-linux-gnu/gdk-pixbuf-2.0/2.10.0/loaders',\n",
       "        'QT_ACCESSIBILITY': '1',\n",
       "        'SNAP_REEXEC': '',\n",
       "        'GDMSESSION': 'ubuntu',\n",
       "        'CONDA_DEFAULT_ENV': 'base',\n",
       "        'SNAP_NAME': 'code',\n",
       "        'LC_MEASUREMENT': 'nl_NL.UTF-8',\n",
       "        'GDK_PIXBUF_MODULE_FILE': '/home/nico/snap/code/common/.cache/gdk-pixbuf-loaders.cache',\n",
       "        'GJS_DEBUG_OUTPUT': 'stderr',\n",
       "        'LC_IDENTIFICATION': 'nl_NL.UTF-8',\n",
       "        'QT_IM_MODULE': 'ibus',\n",
       "        'PWD': '/home/nico/votca',\n",
       "        'CONDA_EXE': '/home/nico/miniconda3/bin/conda',\n",
       "        'SNAP_REAL_HOME': '/home/nico',\n",
       "        'XDG_DATA_DIRS': '/usr/local/share/:/usr/share/:/var/lib/snapd/desktop',\n",
       "        'SNAP': '/snap/code/107',\n",
       "        'LC_NUMERIC': 'nl_NL.UTF-8',\n",
       "        'CONDA_PREFIX': '/home/nico/miniconda3',\n",
       "        'LC_PAPER': 'nl_NL.UTF-8',\n",
       "        'VTE_VERSION': '6800',\n",
       "        'VSCODE_CWD': '/home/nico/votca',\n",
       "        'APPLICATION_INSIGHTS_NO_DIAGNOSTIC_CHANNEL': '1',\n",
       "        'VSCODE_CLI': '1',\n",
       "        'ELECTRON_NO_ATTACH_CONSOLE': '1',\n",
       "        'CHROME_DESKTOP': 'code-url-handler.desktop',\n",
       "        'ORIGINAL_XDG_CURRENT_DESKTOP': 'ubuntu:GNOME',\n",
       "        'GDK_BACKEND': 'x11',\n",
       "        'VSCODE_NLS_CONFIG': '{\"locale\":\"en-us\",\"availableLanguages\":{},\"_languagePackSupport\":true}',\n",
       "        'VSCODE_CODE_CACHE_PATH': '/home/nico/.config/Code/CachedData/e7f30e38c5a4efafeec8ad52861eb772a9ee4dfb',\n",
       "        'VSCODE_IPC_HOOK': '/run/user/1000/vscode-785f64db-1.71.1-main.sock',\n",
       "        'VSCODE_PID': '14080',\n",
       "        'VSCODE_AMD_ENTRYPOINT': 'vs/workbench/api/node/extensionHostProcess',\n",
       "        'VSCODE_HANDLES_UNCAUGHT_ERRORS': 'true',\n",
       "        'PYTHONPATH': '/home/nico/.vscode/extensions/ms-toolsai.jupyter-2022.8.1002431955/pythonFiles:/home/nico/.vscode/extensions/ms-toolsai.jupyter-2022.8.1002431955/pythonFiles/lib/python',\n",
       "        'PYTHONUNBUFFERED': '1',\n",
       "        'PYTHONIOENCODING': 'utf-8',\n",
       "        'JUPYTER_PATH': '/home/nico/.vscode/extensions/ms-toolsai.jupyter-2022.8.1002431955/temp/jupyter',\n",
       "        'JPY_PARENT_PID': '31714',\n",
       "        'CLICOLOR': '1',\n",
       "        'GIT_PAGER': 'cat',\n",
       "        'MPLBACKEND': 'module://matplotlib_inline.backend_inline',\n",
       "        'PYDEVD_IPYTHON_COMPATIBLE_DEBUGGING': '1'}"
      ]
     },
     "execution_count": 5,
     "metadata": {},
     "output_type": "execute_result"
    }
   ],
   "source": [
    "import os\n",
    "os.environ"
   ]
  },
  {
   "cell_type": "code",
   "execution_count": 6,
   "metadata": {},
   "outputs": [
    {
     "name": "stdout",
     "output_type": "stream",
     "text": [
      "zsh:1: command not found: icc\n"
     ]
    }
   ],
   "source": [
    "!icc --help"
   ]
  },
  {
   "cell_type": "code",
   "execution_count": null,
   "metadata": {},
   "outputs": [],
   "source": []
  }
 ],
 "metadata": {
  "kernelspec": {
   "display_name": "Python 3.10.4 64-bit",
   "language": "python",
   "name": "python3"
  },
  "language_info": {
   "codemirror_mode": {
    "name": "ipython",
    "version": 3
   },
   "file_extension": ".py",
   "mimetype": "text/x-python",
   "name": "python",
   "nbconvert_exporter": "python",
   "pygments_lexer": "ipython3",
   "version": "3.10.4"
  },
  "orig_nbformat": 4,
  "vscode": {
   "interpreter": {
    "hash": "916dbcbb3f70747c44a77c7bcd40155683ae19c65e1c03b4aa3499c5328201f1"
   }
  }
 },
 "nbformat": 4,
 "nbformat_minor": 2
}
