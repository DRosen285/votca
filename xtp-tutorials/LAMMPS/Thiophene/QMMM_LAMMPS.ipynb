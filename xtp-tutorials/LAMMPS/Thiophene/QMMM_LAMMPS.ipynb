{
 "cells": [
  {
   "cell_type": "markdown",
   "metadata": {},
   "source": [
    "# QMMM workflow using LAMMPS and VOTCA-XTP"
   ]
  },
  {
   "cell_type": "markdown",
   "metadata": {},
   "source": [
    "## What is this tutorial about\n",
    "In this tutorial, we will learn how to set and perform excited state calculation using the Votca XTP library. We will use thiophene as our QM region."
   ]
  },
  {
   "cell_type": "markdown",
   "metadata": {},
   "source": [
    "## Requirements\n",
    "* You will need to install **VOTCA** using the instructions described [here](https://github.com/votca/votca/blob/master/share/doc/INSTALL.rst)\n",
    "* Once the installation is completed you need to activate the VOTCA enviroment by running the `VOTCARC.bash` script that has been installed at the bin subfolder for the path that you have provided for the installation step above"
   ]
  },
  {
   "cell_type": "markdown",
   "metadata": {},
   "source": [
    "## Interacting with the XTP command line interface\n",
    "The XTP package offers the following command line interface that the user can interact with:\n",
    "* [xtp_map](https://www.votca.org/xtp/xtp_map.html)\n",
    "* [xtp_parallel](https://www.votca.org/xtp/xtp_parallel.html)\n",
    "* [xtp_run](https://www.votca.org/xtp/xtp_run.html)\n",
    "* [xtp_tools](https://www.votca.org/xtp/xtp_tools.html)\n",
    "\n",
    "Run the following command to view the help message of `xtp_tools`:"
   ]
  },
  {
   "cell_type": "code",
   "execution_count": 25,
   "metadata": {},
   "outputs": [
    {
     "name": "stdout",
     "output_type": "stream",
     "text": [
      "==================================================\r\n",
      "========   VOTCA (http://www.votca.org)   ========\r\n",
      "==================================================\r\n",
      "\r\n",
      "please submit bugs to https://github.com/votca/xtp/issues\r\n",
      "\r\n",
      "xtp_tools, version 2022-dev gitid: b5d4bc84e (dirty) (compiled Oct 13 2021, 10:59:51)\r\n",
      "votca_csg, version 2022-dev gitid: b5d4bc84e (dirty) (compiled Oct 13 2021, 10:54:12)\r\n",
      "votca_tools, version 2022-dev gitid: b5d4bc84e (dirty) (compiled Oct 13 2021, 10:53:04)\r\n",
      "\r\n",
      "Runs excitation/charge transport tools\r\n",
      "\r\n",
      "\r\n",
      "\r\n",
      "Allowed options:\r\n",
      "  -h [ --help ]                 display this help and exit\r\n",
      "  --verbose                     be loud and noisy\r\n",
      "  --verbose1                    be very loud and noisy\r\n",
      "  -v [ --verbose2 ]             be extremly loud and noisy\r\n",
      "  -o [ --options ] arg          Tool user options.\r\n",
      "  -t [ --nthreads ] arg (=1)    number of threads to create\r\n",
      "  -e [ --execute ] arg        Name of Tool to run\r\n",
      "  -l [ --list ]               Lists all available Tools\r\n",
      "  -d [ --description ] arg    Short description of a Tools\r\n",
      "  -c [ --cmdoptions ] arg     Modify options via command line by e.g. '-c \r\n",
      "                              xmltag.subtag=value'. Use whitespace to separate \r\n",
      "                              multiple options\r\n",
      "  -p [ --printoptions ] arg   Prints xml options of a Tool\r\n",
      "  -g [ --gpus ] arg (=-1)       Number of gpus to use\r\n",
      "\r\n"
     ]
    }
   ],
   "source": [
    "!xtp_tools -h"
   ]
  },
  {
   "cell_type": "markdown",
   "metadata": {},
   "source": [
    "### Note\n",
    "> * In Jupyter the `!` symbol means: *run the following command as a standard unix command*\n",
    "> * In Jupyter the command `%env` set an environmental variable"
   ]
  },
  {
   "cell_type": "markdown",
   "metadata": {},
   "source": [
    "## Setting the environment\n"
   ]
  },
  {
   "cell_type": "markdown",
   "metadata": {},
   "source": [
    "Remove previous hdf5 file"
   ]
  },
  {
   "cell_type": "code",
   "execution_count": 2,
   "metadata": {},
   "outputs": [],
   "source": [
    "!rm -f state.hdf5"
   ]
  },
  {
   "cell_type": "markdown",
   "metadata": {},
   "source": [
    "## Generate the topology from the Gromacs file\n",
    "We will first generate the mapping from MD coordinates to segments, creating an [hdf5 file](https://www.hdfgroup.org/solutions/hdf5/) to store the results. You can explore the generated `state.hdf5` file with e.g. hdf5itebrowser. In Python, you can use the [h5py library](https://www.h5py.org/). The command to generate the mapping is the following,"
   ]
  },
  {
   "cell_type": "code",
   "execution_count": 3,
   "metadata": {},
   "outputs": [],
   "source": [
    "!xtp_map -v -t MD_FILES/newfile.data -c MD_FILES/traj.dump -s system.xml -f state.hdf5 -i 99 > mapping.out"
   ]
  },
  {
   "cell_type": "markdown",
   "metadata": {},
   "source": [
    "##  Check the mapping\n",
    "\n",
    "Let us first output `.pdb` files for the segments, qmmolecules and classical segments in order to check the mapping. So we have to pass the calculator the filename. Votca has two ways to specify options for calculators. Using a file with the `-o` option or for quick things using the `-c` option on the command line, we will use both."
   ]
  },
  {
   "cell_type": "markdown",
   "metadata": {},
   "source": [
    "In the [mapchecker section of the manual](https://www.votca.org/xtp/mapchecker.html) you can find a table with the `mapchecker` input variables and their corresponding defaults. Finally, the following command run the check"
   ]
  },
  {
   "cell_type": "code",
   "execution_count": 4,
   "metadata": {},
   "outputs": [
    {
     "name": "stdout",
     "output_type": "stream",
     "text": [
      "==================================================\n",
      "========   VOTCA (http://www.votca.org)   ========\n",
      "==================================================\n",
      "\n",
      "please submit bugs to https://github.com/votca/xtp/issues\n",
      "\n",
      "xtp_run, version 2022-dev gitid: b5d4bc84e (dirty) (compiled Oct 13 2021, 10:59:51)\n",
      "votca_csg, version 2022-dev gitid: b5d4bc84e (dirty) (compiled Oct 13 2021, 10:54:12)\n",
      "votca_tools, version 2022-dev gitid: b5d4bc84e (dirty) (compiled Oct 13 2021, 10:53:04)\n",
      "\n",
      "Initializing calculator\n",
      "... mapchecker\n",
      "1 frames in statefile, Ids are: 10000 \n",
      "Starting at frame 10000\n",
      "Evaluating frame 10000\n",
      "Import MD Topology (i.e. frame 10000) from state.hdf5\n",
      ".... \n",
      "... mapchecker\n",
      " Using 1 threads\n",
      "Writing segments to md_segments_step_10000.pdb\n",
      "Writing qmmolecules to qm_segments_n_step_10000.pdb\n",
      "Writing polarsegments to mp_segments_e_step_10000.pdb\n",
      "Writing polarsegments to mp_segments_h_step_10000.pdb\n",
      "Changes have not been written to state file.\n"
     ]
    }
   ],
   "source": [
    "!xtp_run -e mapchecker -c map_file=system.xml -f state.hdf5"
   ]
  },
  {
   "cell_type": "markdown",
   "metadata": {},
   "source": [
    "## Neighborlist Calculation\n",
    "The following step is to determine the neighbouring pairs for exciton transport."
   ]
  },
  {
   "cell_type": "markdown",
   "metadata": {},
   "source": [
    "We will use a cutoff of 1.5 nm. If you want to have a look at an option just the `-d` option with the calculator name"
   ]
  },
  {
   "cell_type": "code",
   "execution_count": 5,
   "metadata": {},
   "outputs": [
    {
     "name": "stdout",
     "output_type": "stream",
     "text": [
      " \u001b[0;35mneighborlist:  \u001b[0;31mDetermines neighbouring pairs for exciton transport\u001b[0;39m\r\n",
      "   OPTION      \u001b[0;34mDEFAULT\u001b[0;32m    UNIT           \u001b[0;39mDESCRIPTION\r\n",
      "   segmentpairs\u001b[0;34m(OPTIONAL)\u001b[0;32m                \u001b[0;39mlist of pairs of molecules for which to create pairs\r\n",
      "    pair       \u001b[0;34m\u001b[0;32m                          \u001b[0;39mDefinition of one pair\r\n",
      "     type      \u001b[0;34m(REQUIRED)\u001b[0;32m                \u001b[0;39mnames of two segmenttypes to create a pair\r\n",
      "     cutoff    \u001b[0;34m(REQUIRED)\u001b[0;32m [nm]           \u001b[0;39mcutoff value if the segmentname method is used\r\n",
      "   constant    \u001b[0;34m(1.5)\u001b[0;32m      [nm]           \u001b[0;39mcontant cutoff for all segmenttypes\r\n",
      "   exciton_cutoff\u001b[0;34m(OPTIONAL)\u001b[0;32m              \u001b[0;39mcutoff for classical exciton transition charge treatment\r\n",
      "Done - stopping here\r\n"
     ]
    }
   ],
   "source": [
    "!xtp_run -d neighborlist"
   ]
  },
  {
   "cell_type": "code",
   "execution_count": 6,
   "metadata": {},
   "outputs": [
    {
     "name": "stdout",
     "output_type": "stream",
     "text": [
      "==================================================\n",
      "========   VOTCA (http://www.votca.org)   ========\n",
      "==================================================\n",
      "\n",
      "please submit bugs to https://github.com/votca/xtp/issues\n",
      "\n",
      "xtp_run, version 2022-dev gitid: b5d4bc84e (dirty) (compiled Oct 13 2021, 10:59:51)\n",
      "votca_csg, version 2022-dev gitid: b5d4bc84e (dirty) (compiled Oct 13 2021, 10:54:12)\n",
      "votca_tools, version 2022-dev gitid: b5d4bc84e (dirty) (compiled Oct 13 2021, 10:53:04)\n",
      "\n",
      "Initializing calculator\n",
      "... neighborlist\n",
      "1 frames in statefile, Ids are: 10000 \n",
      "Starting at frame 10000\n",
      "Evaluating frame 10000\n",
      "Import MD Topology (i.e. frame 10000) from state.hdf5\n",
      ".... \n",
      "... neighborlist\n",
      " Using 1 threads\n",
      "Evaluating 1000 segments for neighborlist. \n",
      " ... ... Evaluating \n",
      "0%   10   20   30   40   50   60   70   80   90   100%\n",
      "|----|----|----|----|----|----|----|----|----|----|\n",
      "***************************************************\n",
      "\n",
      " ... ... Created 90067 direct pairs.Wrote MD topology (step = 10000, time = 0) to state.hdf5\n",
      "... . \n"
     ]
    }
   ],
   "source": [
    "!xtp_run -e neighborlist -c constant=1.5 -f state.hdf5"
   ]
  },
  {
   "cell_type": "markdown",
   "metadata": {},
   "source": [
    "## Read reorganization energies\n",
    "In this step we will read the in site reorganization energies and store them in the `state.hdf5` file. We just need to copy the input file and execute the calculation."
   ]
  },
  {
   "cell_type": "code",
   "execution_count": 7,
   "metadata": {},
   "outputs": [
    {
     "name": "stdout",
     "output_type": "stream",
     "text": [
      "==================================================\n",
      "========   VOTCA (http://www.votca.org)   ========\n",
      "==================================================\n",
      "\n",
      "please submit bugs to https://github.com/votca/xtp/issues\n",
      "\n",
      "xtp_run, version 2022-dev gitid: b5d4bc84e (dirty) (compiled Oct 13 2021, 10:59:51)\n",
      "votca_csg, version 2022-dev gitid: b5d4bc84e (dirty) (compiled Oct 13 2021, 10:54:12)\n",
      "votca_tools, version 2022-dev gitid: b5d4bc84e (dirty) (compiled Oct 13 2021, 10:53:04)\n",
      "\n",
      "Initializing calculator\n",
      "... einternal\n",
      "1 frames in statefile, Ids are: 10000 \n",
      "Starting at frame 10000\n",
      "Evaluating frame 10000\n",
      "Import MD Topology (i.e. frame 10000) from state.hdf5\n",
      ".... \n",
      "... einternal\n",
      " Using 1 threads\n",
      "... ... Site, reorg. energies from system.xml.\n",
      "\n",
      "... ... Read in site, reorg. energies for 1000 segments. Wrote MD topology (step = 10000, time = 0) to state.hdf5\n",
      "... . \n"
     ]
    }
   ],
   "source": [
    "!xtp_run -e einternal -f state.hdf5"
   ]
  },
  {
   "cell_type": "markdown",
   "metadata": {},
   "source": [
    "## Compute site energy\n",
    "In this step we will perform some *QMMM* calculations to compute the site energies. The `qmmm_mm.xml` file contains more options to perform the *MM* calculations."
   ]
  },
  {
   "cell_type": "code",
   "execution_count": 8,
   "metadata": {},
   "outputs": [
    {
     "name": "stdout",
     "output_type": "stream",
     "text": [
      "==================================================\n",
      "========   VOTCA (http://www.votca.org)   ========\n",
      "==================================================\n",
      "\n",
      "please submit bugs to https://github.com/votca/xtp/issues\n",
      "\n",
      "xtp_parallel, version 2022-dev gitid: b5d4bc84e (dirty) (compiled Oct 13 2021, 10:59:51)\n",
      "votca_csg, version 2022-dev gitid: b5d4bc84e (dirty) (compiled Oct 13 2021, 10:54:12)\n",
      "votca_tools, version 2022-dev gitid: b5d4bc84e (dirty) (compiled Oct 13 2021, 10:53:04)\n",
      "\n",
      "Initializing calculator\n",
      "... qmmm\n",
      "\n",
      "... ... Initialized with 1 threads.\n",
      "\n",
      "... ... Using 1 openmp threads for 1x1=1 total threads.\n",
      "1 frames in statefile, Ids are: 10000 \n",
      "Starting at frame 10000\n",
      "Evaluating frame 10000\n",
      "Import MD Topology (i.e. frame 10000) from state.hdf5\n",
      ".... \n",
      "... qmmm \n",
      "... ... Writing job file qmmm_mm_jobs.xml\n",
      "... ... In total 3000 jobs\n",
      "Changes have not been written to state file.\n"
     ]
    }
   ],
   "source": [
    "!xtp_parallel -e qmmm -o qmmm_mm.xml -f state.hdf5 -j \"write\""
   ]
  },
  {
   "cell_type": "markdown",
   "metadata": {},
   "source": [
    "The previous command generates a `qmmm_mm_jobs.xml` containing 3000 *MM* jobs to compute, if you examine that file, it should look something like:\n",
    "```xml\n",
    "<jobs>\n",
    "        <job>\n",
    "                <id>0</id>\n",
    "                <tag>thiophene_0:n</tag>\n",
    "                <input>\n",
    "                        <site_energies>0:n</site_energies>\n",
    "                        <regions>\n",
    "                                <region>\n",
    "                                        <id>0</id>\n",
    "                                        <segments>0:n</segments>\n",
    "                                </region>\n",
    "                        </regions>\n",
    "                </input>\n",
    "                <status>AVAILABLE</status>\n",
    "        </job>\n",
    "```"
   ]
  },
  {
   "cell_type": "markdown",
   "metadata": {},
   "source": [
    "Let us run just the first 4 jobs by settings all jobs `status` to `COMPLETE` except for the first four. This can be easily done with [sed](https://www.gnu.org/software/sed/manual/sed.html) as follows,"
   ]
  },
  {
   "cell_type": "code",
   "execution_count": 9,
   "metadata": {},
   "outputs": [],
   "source": [
    "!sed -i \"s/AVAILABLE/COMPLETE/g\" qmmm_mm_jobs.xml\n",
    "!sed -i '0,/COMPLETE/s/COMPLETE/AVAILABLE/' qmmm_mm_jobs.xml\n",
    "!sed -i '0,/COMPLETE/s/COMPLETE/AVAILABLE/' qmmm_mm_jobs.xml\n",
    "!sed -i '0,/COMPLETE/s/COMPLETE/AVAILABLE/' qmmm_mm_jobs.xml\n",
    "!sed -i '0,/COMPLETE/s/COMPLETE/AVAILABLE/' qmmm_mm_jobs.xml"
   ]
  },
  {
   "cell_type": "markdown",
   "metadata": {},
   "source": [
    "Now we can run the jobs and save the results in the state file"
   ]
  },
  {
   "cell_type": "code",
   "execution_count": 10,
   "metadata": {},
   "outputs": [
    {
     "name": "stdout",
     "output_type": "stream",
     "text": [
      "==================================================\n",
      "========   VOTCA (http://www.votca.org)   ========\n",
      "==================================================\n",
      "\n",
      "please submit bugs to https://github.com/votca/xtp/issues\n",
      "\n",
      "xtp_parallel, version 2022-dev gitid: b5d4bc84e (dirty) (compiled Oct 13 2021, 10:59:51)\n",
      "votca_csg, version 2022-dev gitid: b5d4bc84e (dirty) (compiled Oct 13 2021, 10:54:12)\n",
      "votca_tools, version 2022-dev gitid: b5d4bc84e (dirty) (compiled Oct 13 2021, 10:53:04)\n",
      "\n",
      "Initializing calculator\n",
      "... qmmm\n",
      "\n",
      "... ... Initialized with 1 threads.\n",
      "\n",
      "... ... Using 1 openmp threads for 1x1=1 total threads.\n",
      "1 frames in statefile, Ids are: 10000 \n",
      "Starting at frame 10000\n",
      "Evaluating frame 10000\n",
      "Import MD Topology (i.e. frame 10000) from state.hdf5\n",
      ".... \n",
      "... qmmm \n",
      "MST ERR Job file = 'qmmm_mm_jobs.xml', cache size =  8\n",
      "MST ERR Initialize jobs from qmmm_mm_jobs.xml\n",
      "MST ERR Registered 3000 jobs.\n",
      "T00 ERR ... Requesting next job\n",
      "T00 ERR ... Assign jobs from stack\n",
      "T00 ERR ... Next job: ID = 0=> [ 0%] \n",
      "T00 ERR ...  Regions created\n",
      "T00 ERR ... Id: 0 type: polarregion size: 2 charge[e]= -2.77556e-16\n",
      "T00 ERR ... Id: 1 type: staticregion size: 81 charge[e]= -1.78191e-14\n",
      "T00 ERR ... 2021-10-13 13:58:51 Writing jobtopology to MMMM/frame_10000/job_0_thiophene_0:n/regions.pdb\n",
      "T00 ERR ... 2021-10-13 13:58:51 Only 1 scf region is used. The remaining regions are static. So no inter regions scf is required. \n",
      "T00 ERR ... 2021-10-13 13:58:51 --Inter Region SCF Iteration 1 of 1\n",
      "T00 ERR ... 2021-10-13 13:58:51 Evaluating polarregion 0\n",
      "T00 ERR ... 2021-10-13 13:58:51 Evaluating interaction between polarregion 0 and staticregion 1\n",
      "T00 ERR ... 2021-10-13 13:58:51 Starting Solving for classical polarization with 54 degrees of freedom.\n",
      "T00 ERR ... 2021-10-13 13:58:51 CG: #iterations: 6, estimated error: 1.81713e-05\n",
      "T00 ERR ...   Total static energy [hrt]= -0.004971088488\n",
      "T00 ERR ...   Total polar energy [hrt]= -0.0007676658977\n",
      "T00 ERR ...  Total energy [hrt]= -0.005738754386\n",
      "T00 ERR ... 2021-10-13 13:58:51 Evaluating staticregion 1\n",
      "T00 ERR ... 2021-10-13 13:58:51 Writing checkpoint to checkpoint_iter_1.hdf5\n",
      "T00 ERR ... Reporting job results\n",
      "\n",
      "T00 ERR ... Requesting next job\n",
      "T00 ERR ... Next job: ID = 1\n",
      "T00 ERR ...  Regions created\n",
      "T00 ERR ... Id: 0 type: polarregion size: 2 charge[e]= -1\n",
      "T00 ERR ... Id: 1 type: staticregion size: 81 charge[e]= -1.781907955e-14\n",
      "T00 ERR ... 2021-10-13 13:58:51 Writing jobtopology to MMMM/frame_10000/job_1_thiophene_0:e/regions.pdb\n",
      "T00 ERR ... 2021-10-13 13:58:51 Only 1 scf region is used. The remaining regions are static. So no inter regions scf is required. \n",
      "T00 ERR ... 2021-10-13 13:58:51 --Inter Region SCF Iteration 1 of 1\n",
      "T00 ERR ... 2021-10-13 13:58:51 Evaluating polarregion 0\n",
      "T00 ERR ... 2021-10-13 13:58:51 Evaluating interaction between polarregion 0 and staticregion 1\n",
      "T00 ERR ... 2021-10-13 13:58:51 Starting Solving for classical polarization with 54 degrees of freedom.\n",
      "T00 ERR ... 2021-10-13 13:58:51 CG: #iterations: 7, estimated error: 2.932571714e-05\n",
      "T00 ERR ...   Total static energy [hrt]= -0.003915405303\n",
      "T00 ERR ...   Total polar energy [hrt]= -0.006268779815\n",
      "T00 ERR ...  Total energy [hrt]= -0.01018418512\n",
      "T00 ERR ... 2021-10-13 13:58:51 Evaluating staticregion 1\n",
      "T00 ERR ... 2021-10-13 13:58:51 Writing checkpoint to checkpoint_iter_1.hdf5\n",
      "T00 ERR ... Reporting job results\n",
      "\n",
      "T00 ERR ... Requesting next job\n",
      "T00 ERR ... Next job: ID = 2\n",
      "T00 ERR ...  Regions created\n",
      "T00 ERR ... Id: 0 type: polarregion size: 2 charge[e]= 1\n",
      "T00 ERR ... Id: 1 type: staticregion size: 81 charge[e]= -1.781907955e-14\n",
      "T00 ERR ... 2021-10-13 13:58:52 Writing jobtopology to MMMM/frame_10000/job_2_thiophene_0:h/regions.pdb\n",
      "T00 ERR ... 2021-10-13 13:58:52 Only 1 scf region is used. The remaining regions are static. So no inter regions scf is required. \n",
      "T00 ERR ... 2021-10-13 13:58:52 --Inter Region SCF Iteration 1 of 1\n",
      "T00 ERR ... 2021-10-13 13:58:52 Evaluating polarregion 0\n",
      "T00 ERR ... 2021-10-13 13:58:52 Evaluating interaction between polarregion 0 and staticregion 1\n",
      "T00 ERR ... 2021-10-13 13:58:52 Starting Solving for classical polarization with 54 degrees of freedom.\n",
      "T00 ERR ... 2021-10-13 13:58:52 CG: #iterations: 7, estimated error: 2.093123816e-05\n",
      "T00 ERR ...   Total static energy [hrt]= -0.005431444746\n",
      "T00 ERR ...   Total polar energy [hrt]= -0.004771992159\n",
      "T00 ERR ...  Total energy [hrt]= -0.01020343691\n",
      "T00 ERR ... 2021-10-13 13:58:52 Evaluating staticregion 1\n",
      "T00 ERR ... 2021-10-13 13:58:52 Writing checkpoint to checkpoint_iter_1.hdf5\n",
      "T00 ERR ... Reporting job results\n",
      "\n",
      "T00 ERR ... Requesting next job\n",
      "T00 ERR ... Next job: ID = 3\n",
      "T00 ERR ...  Regions created\n",
      "T00 ERR ... Id: 0 type: polarregion size: 2 charge[e]= -2.775557562e-16\n",
      "T00 ERR ... Id: 1 type: staticregion size: 77 charge[e]= -1.693090113e-14\n",
      "T00 ERR ... 2021-10-13 13:58:52 Writing jobtopology to MMMM/frame_10000/job_3_thiophene_1:n/regions.pdb\n",
      "T00 ERR ... 2021-10-13 13:58:52 Only 1 scf region is used. The remaining regions are static. So no inter regions scf is required. \n",
      "T00 ERR ... 2021-10-13 13:58:52 --Inter Region SCF Iteration 1 of 1\n",
      "T00 ERR ... 2021-10-13 13:58:52 Evaluating polarregion 0\n",
      "T00 ERR ... 2021-10-13 13:58:52 Evaluating interaction between polarregion 0 and staticregion 1\n",
      "T00 ERR ... 2021-10-13 13:58:52 Starting Solving for classical polarization with 54 degrees of freedom.\n",
      "T00 ERR ... 2021-10-13 13:58:52 CG: #iterations: 5, estimated error: 3.321625188e-05\n",
      "T00 ERR ...   Total static energy [hrt]= -0.003424359186\n",
      "T00 ERR ...   Total polar energy [hrt]= -0.0005740411819\n",
      "T00 ERR ...  Total energy [hrt]= -0.003998400368\n",
      "T00 ERR ... 2021-10-13 13:58:52 Evaluating staticregion 1\n",
      "T00 ERR ... 2021-10-13 13:58:52 Writing checkpoint to checkpoint_iter_1.hdf5\n",
      "T00 ERR ... Reporting job results\n",
      "\n",
      "T00 ERR ... Requesting next job\n",
      "T00 ERR ... Assign jobs from stack\n",
      "T00 ERR ... Sync did not yield any new jobs.\n",
      "T00 ERR ... Next job: ID = - (none available)\n",
      "MST ERR Assign jobs from stack\n",
      "Changes have not been written to state file.\n",
      "==================================================\n",
      "========   VOTCA (http://www.votca.org)   ========\n",
      "==================================================\n",
      "\n",
      "please submit bugs to https://github.com/votca/xtp/issues\n",
      "\n",
      "xtp_parallel, version 2022-dev gitid: b5d4bc84e (dirty) (compiled Oct 13 2021, 10:59:51)\n",
      "votca_csg, version 2022-dev gitid: b5d4bc84e (dirty) (compiled Oct 13 2021, 10:54:12)\n",
      "votca_tools, version 2022-dev gitid: b5d4bc84e (dirty) (compiled Oct 13 2021, 10:53:04)\n",
      "\n",
      "Initializing calculator\n",
      "... qmmm\n",
      "\n",
      "... ... Initialized with 1 threads.\n",
      "\n",
      "... ... Using 1 openmp threads for 1x1=1 total threads.\n",
      "1 frames in statefile, Ids are: 10000 \n",
      "Starting at frame 10000\n",
      "Evaluating frame 10000\n",
      "Import MD Topology (i.e. frame 10000) from state.hdf5\n",
      ".... \n",
      "... qmmm \n",
      "Found 1 states of type e\n",
      "Found 1 states of type h\n",
      "Found 2 states of type n\n",
      "2996 incomplete jobs found.\n",
      "\n",
      "Wrote MD topology (step = 10000, time = 0) to state.hdf5\n",
      "... . \n"
     ]
    }
   ],
   "source": [
    "!xtp_parallel -e qmmm -o qmmm_mm.xml -f state.hdf5 -j \"run\"\n",
    "!xtp_parallel -e qmmm -o qmmm_mm.xml -f state.hdf5 -j \"read\""
   ]
  },
  {
   "cell_type": "markdown",
   "metadata": {},
   "source": [
    "## Site energy and pair energy analysis\n",
    "In this step we generate an histogram and compute the correlation function of site energies and pair energy differences."
   ]
  },
  {
   "cell_type": "code",
   "execution_count": 11,
   "metadata": {},
   "outputs": [
    {
     "name": "stdout",
     "output_type": "stream",
     "text": [
      "==================================================\n",
      "========   VOTCA (http://www.votca.org)   ========\n",
      "==================================================\n",
      "\n",
      "please submit bugs to https://github.com/votca/xtp/issues\n",
      "\n",
      "xtp_run, version 2022-dev gitid: b5d4bc84e (dirty) (compiled Oct 13 2021, 10:59:51)\n",
      "votca_csg, version 2022-dev gitid: b5d4bc84e (dirty) (compiled Oct 13 2021, 10:54:12)\n",
      "votca_tools, version 2022-dev gitid: b5d4bc84e (dirty) (compiled Oct 13 2021, 10:53:04)\n",
      "\n",
      "Initializing calculator\n",
      "... eanalyze\n",
      "1 frames in statefile, Ids are: 10000 \n",
      "Starting at frame 10000\n",
      "Evaluating frame 10000\n",
      "Import MD Topology (i.e. frame 10000) from state.hdf5\n",
      ".... \n",
      "... eanalyze\n",
      " Using 1 threads\n",
      "... ... Short-listed 1000 segments (pattern='*')\n",
      "... ... ... NOTE Statistics of site energies and spatial correlations thereof are based on the short-listed segments only. \n",
      "... ... ...      Statistics of site-energy differences operate on the full list.\n",
      "... ... excited state e\n",
      "... ... excited state h\n",
      "... ... excited state s\n",
      "... ... excited state t\n",
      "Changes have not been written to state file.\n"
     ]
    }
   ],
   "source": [
    "!xtp_run -e eanalyze -f state.hdf5"
   ]
  },
  {
   "cell_type": "markdown",
   "metadata": {},
   "source": [
    "You should now see a set of files prefixed with `eanalyze` containing the histrogram and correlation functions."
   ]
  },
  {
   "cell_type": "code",
   "execution_count": 12,
   "metadata": {},
   "outputs": [
    {
     "name": "stdout",
     "output_type": "stream",
     "text": [
      "eanalyze.pairhist_e.out  eanalyze.pairlist_s.out  eanalyze.sitehist_e.out\r\n",
      "eanalyze.pairhist_h.out  eanalyze.pairlist_t.out  eanalyze.sitehist_h.out\r\n",
      "eanalyze.pairhist_s.out  eanalyze.sitecorr_e.out  eanalyze.sitehist_s.out\r\n",
      "eanalyze.pairhist_t.out  eanalyze.sitecorr_h.out  eanalyze.sitehist_t.out\r\n",
      "eanalyze.pairlist_e.out  eanalyze.sitecorr_s.out\r\n",
      "eanalyze.pairlist_h.out  eanalyze.sitecorr_t.out\r\n"
     ]
    }
   ],
   "source": [
    "!ls eanalyze*"
   ]
  },
  {
   "cell_type": "markdown",
   "metadata": {},
   "source": [
    "## QM energy calculation\n",
    "Our next task is to perform the qm calculations for each segment that we have stored in the hdf5 file. The calculations take place in 3 stages: write the jobs to a file, perform the computation and finally save the results to the state file. We created a small option file to make the calculation cheaper."
   ]
  },
  {
   "cell_type": "code",
   "execution_count": 13,
   "metadata": {},
   "outputs": [
    {
     "name": "stdout",
     "output_type": "stream",
     "text": [
      "<?xml version=\"1.0\"?>\r\n",
      "<options>\r\n",
      "  <eqm help=\"Executes qm calculations for individual molecules\" section=\"sec:eqm\">\r\n",
      "    <map_file>system.xml</map_file>\r\n",
      "    <gwbse>\r\n",
      "      <gw>\r\n",
      "        <mode>G0W0</mode>\r\n",
      "      </gw>\r\n",
      "      <ranges>full</ranges>\r\n",
      "    </gwbse>\r\n",
      "    <dftpackage>\r\n",
      "      <basisset>3-21G</basisset>\r\n",
      "      <auxbasisset>aux-def2-svp</auxbasisset>\r\n",
      "    </dftpackage>\r\n",
      "  </eqm>\r\n",
      "</options>"
     ]
    }
   ],
   "source": [
    "!cat eqm.xml"
   ]
  },
  {
   "cell_type": "markdown",
   "metadata": {},
   "source": [
    "For the sake of computational time let just compute the `gw` approximation and the `singlet`. You can also request the `triplet` or `all`,  see the [gwbse sectionfor the eqm calculator](https://www.votca.org/xtp/eqm.html)."
   ]
  },
  {
   "cell_type": "markdown",
   "metadata": {},
   "source": [
    "First we will write the job in a file and enable only the first 2 jobs"
   ]
  },
  {
   "cell_type": "code",
   "execution_count": 32,
   "metadata": {},
   "outputs": [
    {
     "name": "stdout",
     "output_type": "stream",
     "text": [
      "==================================================\n",
      "========   VOTCA (http://www.votca.org)   ========\n",
      "==================================================\n",
      "\n",
      "please submit bugs to https://github.com/votca/xtp/issues\n",
      "\n",
      "xtp_parallel, version 2022-dev gitid: f9c696d44 (dirty) (compiled Oct 13 2021, 14:21:07)\n",
      "votca_csg, version 2022-dev gitid: f9c696d44 (dirty) (compiled Oct 13 2021, 14:21:03)\n",
      "votca_tools, version 2022-dev gitid: f9c696d44 (dirty) (compiled Oct 13 2021, 14:21:02)\n",
      "\n",
      "Initializing calculator\n",
      "... eqm\n",
      "\n",
      "... ... Initialized with 1 threads.\n",
      "\n",
      "... ... Using 1 openmp threads for 1x1=1 total threads.\n",
      "1 frames in statefile, Ids are: 10000 \n",
      "Starting at frame 10000\n",
      "Evaluating frame 10000\n",
      "Import MD Topology (i.e. frame 10000) from state.hdf5\n",
      ".... \n",
      "... eqm \n",
      "... ... Writing job file: eqm.jobs with 1000 jobs\n",
      "Changes have not been written to state file.\n"
     ]
    }
   ],
   "source": [
    "!xtp_parallel -e eqm -o eqm.xml -f state.hdf5 -j \"write\"\n",
    "!sed -i \"s/AVAILABLE/COMPLETE/g\" eqm.jobs\n",
    "!sed -i '0,/COMPLETE/s/COMPLETE/AVAILABLE/' eqm.jobs\n",
    "!sed -i '0,/COMPLETE/s/COMPLETE/AVAILABLE/' eqm.jobs"
   ]
  },
  {
   "cell_type": "markdown",
   "metadata": {},
   "source": [
    "Now, let run these 2 jobs"
   ]
  },
  {
   "cell_type": "markdown",
   "metadata": {},
   "source": [
    "Here we used some more options. `-o` allows us to read in a file with options. `-j` changes the writing to running in this case. `-x` determines how many cores should be used for each job. We can also run multiple jobs in parallel using `-p`"
   ]
  },
  {
   "cell_type": "code",
   "execution_count": 33,
   "metadata": {},
   "outputs": [
    {
     "name": "stdout",
     "output_type": "stream",
     "text": [
      "==================================================\n",
      "========   VOTCA (http://www.votca.org)   ========\n",
      "==================================================\n",
      "\n",
      "please submit bugs to https://github.com/votca/xtp/issues\n",
      "\n",
      "xtp_parallel, version 2022-dev gitid: f9c696d44 (dirty) (compiled Oct 13 2021, 14:21:07)\n",
      "votca_csg, version 2022-dev gitid: f9c696d44 (dirty) (compiled Oct 13 2021, 14:21:03)\n",
      "votca_tools, version 2022-dev gitid: f9c696d44 (dirty) (compiled Oct 13 2021, 14:21:02)\n",
      "\n",
      "Initializing calculator\n",
      "... eqm\n",
      "\n",
      "... ... Initialized with 1 threads.\n",
      "\n",
      "... ... Using 4 openmp threads for 1x4=4 total threads.\n",
      "1 frames in statefile, Ids are: 10000 \n",
      "Starting at frame 10000\n",
      "Evaluating frame 10000\n",
      "Import MD Topology (i.e. frame 10000) from state.hdf5\n",
      ".... \n",
      "... eqm \n",
      "MST ERR Job file = 'eqm.jobs', lock file = 'state.hdf5', cache size =  8\n",
      "MST ERR Initialize jobs from eqm.jobs\n",
      "MST INF Lock & load \n",
      "MST WAR Imposed lock on state.hdf5\n",
      "MST WAR Sleep ... state.hdf5\n",
      "MST WAR Wake up ... state.hdf5\n",
      "MST ERR Registered 1000 jobs.\n",
      "MST WAR Releasing state.hdf5. \n",
      "T00 ERR ... Requesting next job\n",
      "T00 WAR ... Imposed lock on state.hdf5\n",
      "T00 WAR ... Sleep ... state.hdf5\n",
      "T00 WAR ... Wake up ... state.hdf5\n",
      "T00 INF ... Update internal structures from job file\n",
      "T00 INF ... Create job-file back-up\n",
      "T00 ERR ... Assign jobs from stack\n",
      "T00 WAR ... Releasing state.hdf5. \n",
      "T00 ERR ... Next job: ID = 0=> [ 0%] \n",
      "T00 ERR ... 2021-10-13 14:44:3 Evaluating site 0\n",
      "T00 ERR ... Running DFT\n",
      "T00 ERR ... Running GWBSE\n",
      "T00 ERR ... Running ESPFIT\n",
      "T00 ERR ... ===== Running on 4 threads ===== \n",
      "T00 INF ... 2021-10-13 14:44:9 Done setting up CHELPG grid with 7763 points \n",
      "T00 INF ... 2021-10-13 14:44:9 Setup fine Numerical Grid with 38278 gridpoints.\n",
      "T00 ERR ... 2021-10-13 14:44:9 Calculated Densities at Numerical Grid, Number of electrons is 0.00238838\n",
      "T00 ERR ... =======================\n",
      "T00 ERR ... WARNING: Calculated Densities at Numerical Grid, Number of electrons 0.00238838 is far away from the the real value -1.19436e-15, you should increase the accuracy of the integration grid.\n",
      "T00 ERR ... WARNING: Electronnumber set to -1.19436e-15\n",
      "T00 ERR ... =======================\n",
      "T00 ERR ... 2021-10-13 14:44:9 Calculating ESP at CHELPG grid points\n",
      "T00 INF ... 2021-10-13 14:44:10 Electron contribution calculated\n",
      "T00 ERR ... 2021-10-13 14:44:10 Netcharge constrained to 0\n",
      "T00 INF ... 2021-10-13 14:44:10 Setting up Matrices for fitting of size 10 x 10\n",
      "T00 INF ... 2021-10-13 14:44:10 Using 9 Fittingcenters and 7763 Gridpoints.\n",
      "T00 INF ... 2021-10-13 14:44:10 Solving linear Equation \n",
      "T00 INF ... 2021-10-13 14:44:10 SVD Done. \n",
      "T00 ERR ...  Sum of fitted charges: -7.15573e-18\n",
      "T00 ERR ...  RMSE of fit:  0.000341877\n",
      "T00 ERR ...  RRMSE of fit: 0.959063\n",
      "T00 ERR ... El Dipole from fitted charges [e*bohr]:\n",
      "\t\t dx = -0.0011 dy = +0.0003 dz = -0.0004 |d|^2 = +0.0000\n",
      "T00 ERR ... El Dipole from exact qm density [e*bohr]:\n",
      "\t\t dx = -0.7565 dy = +0.1728 dz = -0.3172 |d|^2 = +0.7027\n",
      "T00 ERR ... Written charges to MP_FILES/frame_10000/n2s1/thiophene_0_n2s1.mps\n",
      "T00 ERR ... 2021-10-13 14:44:10 Finished evaluating site 0\n",
      "T00 ERR ... Saving data to molecule_0.orb\n",
      "T00 ERR ... Reporting job results\n",
      "\n",
      "T00 ERR ... Requesting next job\n",
      "T00 ERR ... Next job: ID = 1\n",
      "T00 ERR ... 2021-10-13 14:44:10 Evaluating site 1\n",
      "T00 ERR ... Running DFT\n",
      "T00 ERR ... Running GWBSE\n",
      "T00 ERR ... Running ESPFIT\n",
      "T00 ERR ... ===== Running on 4 threads ===== \n",
      "T00 INF ... 2021-10-13 14:44:16 Done setting up CHELPG grid with 7765 points \n",
      "T00 INF ... 2021-10-13 14:44:16 Setup fine Numerical Grid with 38278 gridpoints.\n",
      "T00 ERR ... 2021-10-13 14:44:16 Calculated Densities at Numerical Grid, Number of electrons is 0.00238832\n",
      "T00 ERR ... =======================\n",
      "T00 ERR ... WARNING: Calculated Densities at Numerical Grid, Number of electrons 0.00238832 is far away from the the real value 6.45317e-16, you should increase the accuracy of the integration grid.\n",
      "T00 ERR ... WARNING: Electronnumber set to 6.45317e-16\n",
      "T00 ERR ... =======================\n",
      "T00 ERR ... 2021-10-13 14:44:16 Calculating ESP at CHELPG grid points\n",
      "T00 INF ... 2021-10-13 14:44:16 Electron contribution calculated\n",
      "T00 ERR ... 2021-10-13 14:44:16 Netcharge constrained to 0\n",
      "T00 INF ... 2021-10-13 14:44:16 Setting up Matrices for fitting of size 10 x 10\n",
      "T00 INF ... 2021-10-13 14:44:16 Using 9 Fittingcenters and 7765 Gridpoints.\n",
      "T00 INF ... 2021-10-13 14:44:16 Solving linear Equation \n",
      "T00 INF ... 2021-10-13 14:44:16 SVD Done. \n",
      "T00 ERR ...  Sum of fitted charges: 2.81893e-18\n",
      "T00 ERR ...  RMSE of fit:  0.000341848\n",
      "T00 ERR ...  RRMSE of fit: 0.958922\n",
      "T00 ERR ... El Dipole from fitted charges [e*bohr]:\n",
      "\t\t dx = -0.0003 dy = -0.0012 dz = +0.0004 |d|^2 = +0.0000\n",
      "T00 ERR ... El Dipole from exact qm density [e*bohr]:\n",
      "\t\t dx = -0.2127 dy = -0.7708 dz = +0.2517 |d|^2 = +0.7027\n",
      "T00 ERR ... Written charges to MP_FILES/frame_10000/n2s1/thiophene_1_n2s1.mps\n",
      "T00 ERR ... 2021-10-13 14:44:16 Finished evaluating site 1\n",
      "T00 ERR ... Saving data to molecule_1.orb\n",
      "T00 ERR ... Reporting job results\n",
      "\n",
      "T00 ERR ... Requesting next job\n",
      "T00 WAR ... Imposed lock on state.hdf5\n",
      "T00 WAR ... Sleep ... state.hdf5\n",
      "T00 WAR ... Wake up ... state.hdf5\n",
      "T00 INF ... Update internal structures from job file\n",
      "T00 INF ... Create job-file back-up\n",
      "T00 ERR ... Assign jobs from stack\n",
      "T00 WAR ... Releasing state.hdf5. \n",
      "T00 ERR ... Sync did not yield any new jobs.\n",
      "T00 ERR ... Next job: ID = - (none available)\n",
      "MST WAR Imposed lock on state.hdf5\n",
      "MST WAR Sleep ... state.hdf5\n",
      "MST WAR Wake up ... state.hdf5\n",
      "MST INF Update internal structures from job file\n",
      "MST INF Create job-file back-up\n",
      "MST ERR Assign jobs from stack\n",
      "MST WAR Releasing state.hdf5. \n",
      "Changes have not been written to state file.\n"
     ]
    }
   ],
   "source": [
    "!xtp_parallel -v -e eqm -o eqm.xml -f state.hdf5 -j run -x 4"
   ]
  },
  {
   "cell_type": "markdown",
   "metadata": {},
   "source": [
    "## QM calculation for pairs\n",
    "In the following step we will run QM calculations for each pair in the hdf5 file. As the calculations on the previous step, we will first write the jobs in a file, then run them and finally store the results in the state file."
   ]
  },
  {
   "cell_type": "markdown",
   "metadata": {},
   "source": [
    "As in the previous section, we set the GWBSE mode to `G0W0`and the `ranges` to `full`, but we compute only the `gw` approximation. We do not need the BSE results for the coupling calculations. For more information, check the [iqm calculator options](https://www.votca.org/xtp/iqm.html). We also want to compute the `singlet` couplings. "
   ]
  },
  {
   "cell_type": "markdown",
   "metadata": {},
   "source": [
    "Before running the calculations, we need to specify in the `iqm` input which states to read into the jobfile for each segment type."
   ]
  },
  {
   "cell_type": "markdown",
   "metadata": {},
   "source": [
    "Now, let's write the jobs to the file"
   ]
  },
  {
   "cell_type": "code",
   "execution_count": null,
   "metadata": {},
   "outputs": [],
   "source": [
    "!xtp_parallel -e iqm -o iqm.xml -f state.hdf5 -s 0 -j \"write\""
   ]
  },
  {
   "cell_type": "markdown",
   "metadata": {},
   "source": [
    "From the jobs that we just write down, let's make available only the first job"
   ]
  },
  {
   "cell_type": "code",
   "execution_count": null,
   "metadata": {},
   "outputs": [],
   "source": [
    "!sed -i \"s/AVAILABLE/COMPLETE/g\" iqm.jobs\n",
    "!sed -i '0,/COMPLETE/s/COMPLETE/AVAILABLE/' iqm.jobs"
   ]
  },
  {
   "cell_type": "markdown",
   "metadata": {},
   "source": [
    "Now we can run and store the jobs results"
   ]
  },
  {
   "cell_type": "code",
   "execution_count": null,
   "metadata": {},
   "outputs": [],
   "source": [
    "!xtp_parallel -e iqm -o iqm.xml -f state.hdf5 -s 0 -j run -q 1 -x 4"
   ]
  },
  {
   "cell_type": "markdown",
   "metadata": {},
   "source": [
    "Finally, we read the results into the state"
   ]
  },
  {
   "cell_type": "code",
   "execution_count": null,
   "metadata": {},
   "outputs": [],
   "source": [
    "!xtp_parallel -e iqm -o iqm.xml -f state.hdf5 -j \"read\""
   ]
  },
  {
   "cell_type": "markdown",
   "metadata": {},
   "source": [
    "## QMMM Calculations\n",
    "We will run the *QMMM* calculations we will use the pregenerated `qmmm.jobs` file in the current work directory, so we can directly run the calculations. We also provide an option file in the `OPTIONFILES` folder. In qmmm calculations you can use the `jobfile` tag inside the optionfile to modify options from the jobfile. Here we modify the size of the staticregion."
   ]
  },
  {
   "cell_type": "code",
   "execution_count": null,
   "metadata": {},
   "outputs": [],
   "source": [
    "!cat qmmm.xml"
   ]
  },
  {
   "cell_type": "markdown",
   "metadata": {},
   "source": [
    "In the jobfile we then provide the specific option"
   ]
  },
  {
   "cell_type": "code",
   "execution_count": null,
   "metadata": {},
   "outputs": [],
   "source": [
    "!cat qmmm.jobs"
   ]
  },
  {
   "cell_type": "code",
   "execution_count": null,
   "metadata": {},
   "outputs": [],
   "source": [
    "!xtp_parallel -e qmmm -o qmmm.xml -f state.hdf5 -j run -x 4"
   ]
  },
  {
   "cell_type": "markdown",
   "metadata": {},
   "source": [
    "We can if we want plot the spectra from both calculations, for which we have to read the energies and oscillator strengths from the checkpoint files. We need the h5py package for python for it."
   ]
  },
  {
   "cell_type": "code",
   "execution_count": null,
   "metadata": {},
   "outputs": [],
   "source": [
    "import h5py\n",
    "import numpy as np\n",
    "\n",
    "def getEnergies(orb):\n",
    "    a=orb['region_0']['orbitals']['BSE_singlet']['eigenvalues'][()]\n",
    "    a.flatten()\n",
    "    return a.flatten()\n",
    "\n",
    "def trans_sort(index):\n",
    "    return int(index[3:])\n",
    "\n",
    "def getOscillators(orb):\n",
    "    energies=getEnergies(orb)\n",
    "    transdip=[]\n",
    "    for k in sorted(orb['region_0']['orbitals']['transition_dipoles'].keys(),key=trans_sort):\n",
    "        transdip.append(np.array(orb['region_0']['orbitals']['transition_dipoles'][k][()]))\n",
    "    d2=[]\n",
    "    for b in transdip:\n",
    "        d2.append(np.sum(b**2))    \n",
    "    d2=np.array(d2)\n",
    "    oscs=2/3.0*energies*d2\n",
    "    return oscs\n",
    "\n",
    "def getSpectrum(filename):\n",
    "    orb=h5py.File(filename,'r')\n",
    "    e=getEnergies(orb)*27.2114\n",
    "    osc=getOscillators(orb)\n",
    "    return e,osc"
   ]
  },
  {
   "cell_type": "markdown",
   "metadata": {},
   "source": [
    "You will find the orb files in the `QMMM/frame_10000` folder."
   ]
  },
  {
   "cell_type": "code",
   "execution_count": null,
   "metadata": {},
   "outputs": [],
   "source": [
    "spectrum_static=getSpectrum(\"QMMM/frame_10000/job_1_static/checkpoint_iter_1.hdf5\")\n",
    "spectrum_vacuum=getSpectrum(\"QMMM/frame_10000/job_0_vacuum/checkpoint_iter_1.hdf5\")\n",
    "\n",
    "import matplotlib.pyplot as plt\n",
    "%matplotlib inline\n",
    "plt.rcParams['figure.figsize'] = [12, 8]"
   ]
  },
  {
   "cell_type": "code",
   "execution_count": null,
   "metadata": {},
   "outputs": [],
   "source": [
    "plt.vlines(spectrum_static[0],0,spectrum_static[1],label=\"static\",color='r')\n",
    "plt.vlines(spectrum_vacuum[0],0,spectrum_vacuum[1],label=\"vacuum\",color='g')\n",
    "plt.xlabel(\"energy [eV]\")\n",
    "plt.ylabel(\"intensity\")\n",
    "plt.legend()\n",
    "plt.show()"
   ]
  },
  {
   "cell_type": "code",
   "execution_count": null,
   "metadata": {},
   "outputs": [],
   "source": []
  }
 ],
 "metadata": {
  "kernelspec": {
   "display_name": "Python 3 (ipykernel)",
   "language": "python",
   "name": "python3"
  },
  "language_info": {
   "codemirror_mode": {
    "name": "ipython",
    "version": 3
   },
   "file_extension": ".py",
   "mimetype": "text/x-python",
   "name": "python",
   "nbconvert_exporter": "python",
   "pygments_lexer": "ipython3",
   "version": "3.8.10"
  }
 },
 "nbformat": 4,
 "nbformat_minor": 4
}
