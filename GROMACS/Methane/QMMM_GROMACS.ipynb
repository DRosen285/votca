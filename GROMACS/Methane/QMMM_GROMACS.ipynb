{
 "cells": [
  {
   "cell_type": "markdown",
   "metadata": {},
   "source": [
    "# QMMM workflow using GROMACS and VOTCA-XTP"
   ]
  },
  {
   "cell_type": "markdown",
   "metadata": {},
   "source": [
    "## What is this tutorial about\n",
    "In this tutorial, we will learn how to set and perform excited state calculation using the Votca XTP library. We will use methane as our QM region."
   ]
  },
  {
   "cell_type": "markdown",
   "metadata": {},
   "source": [
    "## Requirements\n",
    "* You will need to install **VOTCA** using the instructions described [here](https://github.com/votca/votca/blob/master/share/doc/INSTALL.rst)\n",
    "* Once the installation is completed you need to activate the VOTCA enviroment by running the `VOTCARC.bash` script that has been installed at the bin subfolder for the path that you have provided for the installation step above"
   ]
  },
  {
   "cell_type": "markdown",
   "metadata": {},
   "source": [
    "## Interacting with the XTP command line interface\n",
    "The XTP package offers the following command line interface that the user can interact with:\n",
    "* [xtp_map](https://www.votca.org/xtp/xtp_map.html)\n",
    "* [xtp_parallel](https://www.votca.org/xtp/xtp_parallel.html)\n",
    "* [xtp_run](https://www.votca.org/xtp/xtp_run.html)\n",
    "* [xtp_tools](https://www.votca.org/xtp/xtp_tools.html)\n",
    "\n",
    "Run the following command to view the help message of `xtp_tools`:"
   ]
  },
  {
   "cell_type": "code",
   "execution_count": 1,
   "metadata": {},
   "outputs": [
    {
     "name": "stdout",
     "output_type": "stream",
     "text": [
      "==================================================\r\n",
      "========   VOTCA (http://www.votca.org)   ========\r\n",
      "==================================================\r\n",
      "\r\n",
      "please submit bugs to https://github.com/votca/xtp/issues\r\n",
      "\r\n",
      "xtp_tools, version 2022-dev gitid: b4c29aa (dirty) (compiled Jul  7 2021, 17:32:21)\r\n",
      "votca_csg, version 2022-dev gitid: b4c29aa (dirty) (compiled Jul  7 2021, 16:43:14)\r\n",
      "votca_tools, version 2022-dev gitid: b4c29aa (dirty) (compiled Jul  7 2021, 16:39:10)\r\n",
      "\r\n",
      "Runs excitation/charge transport tools\r\n",
      "\r\n",
      "\r\n",
      "\r\n",
      "Allowed options:\r\n",
      "  -h [ --help ]                 display this help and exit\r\n",
      "  --verbose                     be loud and noisy\r\n",
      "  --verbose1                    be very loud and noisy\r\n",
      "  -v [ --verbose2 ]             be extremly loud and noisy\r\n",
      "  -o [ --options ] arg          Tool user options.\r\n",
      "  -t [ --nthreads ] arg (=1)    number of threads to create\r\n",
      "  -e [ --execute ] arg        Name of Tool to run\r\n",
      "  -l [ --list ]               Lists all available Tools\r\n",
      "  -d [ --description ] arg    Short description of a Tools\r\n",
      "  -c [ --cmdoptions ] arg     Modify options via command line by e.g. '-c \r\n",
      "                              xmltag.subtag=value'. Use whitespace to separate \r\n",
      "                              multiple options\r\n",
      "  -p [ --printoptions ] arg   Prints xml options of a Tool\r\n",
      "  -g [ --gpus ] arg (=-1)       Number of gpus to use\r\n",
      "\r\n"
     ]
    }
   ],
   "source": [
    "!xtp_tools -h"
   ]
  },
  {
   "cell_type": "markdown",
   "metadata": {},
   "source": [
    "### Note\n",
    "> * In Jupyter the `!` symbol means: *run the following command as a standard unix command*\n",
    "> * In Jupyter the command `%env` set an environmental variable"
   ]
  },
  {
   "cell_type": "markdown",
   "metadata": {},
   "source": [
    "## Setting the environment\n"
   ]
  },
  {
   "cell_type": "markdown",
   "metadata": {},
   "source": [
    "Create a folder to store the input `Options` for XTP"
   ]
  },
  {
   "cell_type": "code",
   "execution_count": 2,
   "metadata": {},
   "outputs": [],
   "source": [
    "!mkdir -p OPTIONFILES"
   ]
  },
  {
   "cell_type": "markdown",
   "metadata": {},
   "source": [
    "Remove previous hdf5 file"
   ]
  },
  {
   "cell_type": "code",
   "execution_count": 3,
   "metadata": {},
   "outputs": [],
   "source": [
    "!rm -f state.hdf5"
   ]
  },
  {
   "cell_type": "code",
   "execution_count": 4,
   "metadata": {},
   "outputs": [],
   "source": [
    "from xml_editor import add_section, edit_calculator\n",
    "import os"
   ]
  },
  {
   "cell_type": "markdown",
   "metadata": {},
   "source": [
    "## Generate the topology from the Gromacs file"
   ]
  },
  {
   "cell_type": "markdown",
   "metadata": {},
   "source": [
    "runs the mapping from MD coordinates to segments and creates an [hdf5 file](https://www.hdfgroup.org/solutions/hdf5/). You can explore the generated `state.hdf5` file with e.g. hdf5itebrowser. In Python, you can use the [h5py library](https://www.h5py.org/)."
   ]
  },
  {
   "cell_type": "code",
   "execution_count": 5,
   "metadata": {},
   "outputs": [
    {
     "name": "stdout",
     "output_type": "stream",
     "text": [
      "==================================================\n",
      "========   VOTCA (http://www.votca.org)   ========\n",
      "==================================================\n",
      "\n",
      "please submit bugs to https://github.com/votca/xtp/issues\n",
      "\n",
      "xtp_map, version 2022-dev gitid: b4c29aa (dirty) (compiled Jul  7 2021, 17:32:21)\n",
      "votca_csg, version 2022-dev gitid: b4c29aa (dirty) (compiled Jul  7 2021, 16:43:14)\n",
      "votca_tools, version 2022-dev gitid: b4c29aa (dirty) (compiled Jul  7 2021, 16:39:10)\n",
      "\n",
      "Reading file MD_FILES/topol.tpr, VERSION 5.1.1 (single precision)\n",
      "Note: file tpx version 103, software tpx version 122\n",
      "Creating statefile state.hdf5\n",
      "Frame with id 0 was not in statefile state.hdf5 ,adding it now.\n",
      "Wrote MD topology (step = 0, time = 0) to state.hdf5\n",
      "... . \n"
     ]
    }
   ],
   "source": [
    "!xtp_map -t MD_FILES/topol.tpr -c MD_FILES/conf.gro -s system.xml -f state.hdf5"
   ]
  },
  {
   "cell_type": "markdown",
   "metadata": {},
   "source": [
    "##  Check the mapping\n",
    "\n",
    "Let us first output `.pdb` files for the segments, qmmolecules and classical segments in order to check the mapping. Use `xtp_run -d mapchecker` to see all options `mapchecker` calculator takes. We use the `-c` option to change one option on the commandline."
   ]
  },
  {
   "cell_type": "markdown",
   "metadata": {},
   "source": [
    "In the [mapchecker section of the manual](https://votca.github.io/xtp/mapchecker.html) you can find a table with the `mapchecker` input variables and their corresponding defaults. Finally, the following command run the check"
   ]
  },
  {
   "cell_type": "code",
   "execution_count": 7,
   "metadata": {},
   "outputs": [
    {
     "name": "stdout",
     "output_type": "stream",
     "text": [
      "<mapchecker help=\"Outputs .pdb files for segments, qmmolecules and classical segments to check the mapping\" injected=\"true\" section=\"sec:mapchecker\">\n",
      "\t<qm_states default=\"n\" help=\"qmstates states to check\">n</qm_states>\n",
      "\t<mp_states default=\"e h\" help=\"multipole states to check\">e h</mp_states>\n",
      "\t<map_file default=\"votca_map.xml\" help=\"xml file with segment definition\" injected=\"true\">system.xml</map_file>\n",
      "\t<md_pdbfile default=\"md_segments.pdb\" help=\"PDB file with the MD calculation\">md_segments.pdb</md_pdbfile>\n",
      "\t<qm_pdbfile default=\"qm_segments.pdb\" help=\"PDB file with the QM calculation\">qm_segments.pdb</qm_pdbfile>\n",
      "\t<mp_pdbfile default=\"mp_segments.pdb\" help=\"PDB file with the MP segments\">mp_segments.pdb</mp_pdbfile>\n",
      "</mapchecker>\n",
      "\n",
      "==================================================\n",
      "========   VOTCA (http://www.votca.org)   ========\n",
      "==================================================\n",
      "\n",
      "please submit bugs to https://github.com/votca/xtp/issues\n",
      "\n",
      "xtp_run, version 2022-dev gitid: b4c29aa (dirty) (compiled Jul  7 2021, 17:32:21)\n",
      "votca_csg, version 2022-dev gitid: b4c29aa (dirty) (compiled Jul  7 2021, 16:43:14)\n",
      "votca_tools, version 2022-dev gitid: b4c29aa (dirty) (compiled Jul  7 2021, 16:39:10)\n",
      "\n",
      "Initializing calculator\n",
      "... mapchecker\n",
      "1 frames in statefile, Ids are: 0 \n",
      "Starting at frame 0\n",
      "Evaluating frame 0\n",
      "Import MD Topology (i.e. frame 0) from state.hdf5\n",
      ".... \n",
      "... mapchecker\n",
      " Using 1 threads\n",
      "Writing segments to md_segments_step_0.pdb\n",
      "Writing qmmolecules to qm_segments_n_step_0.pdb\n",
      "Writing polarsegments to mp_segments_e_step_0.pdb\n",
      "Writing polarsegments to mp_segments_h_step_0.pdb\n",
      "Changes have not been written to state file.\n"
     ]
    }
   ],
   "source": [
    "!xtp_run -e mapchecker -c map_file=system.xml -f state.hdf5"
   ]
  },
  {
   "cell_type": "markdown",
   "metadata": {},
   "source": [
    "## Neighborlist Calculation"
   ]
  },
  {
   "cell_type": "markdown",
   "metadata": {},
   "source": [
    "The following step is to determine the neighbouring pairs for exciton transport. See the [neighborlist options](https://www.votca.org/xtp/neighborlist.html) for further information. "
   ]
  },
  {
   "cell_type": "markdown",
   "metadata": {},
   "source": [
    "Finally, we can run the calculation using 4 threads"
   ]
  },
  {
   "cell_type": "code",
   "execution_count": 8,
   "metadata": {},
   "outputs": [
    {
     "name": "stdout",
     "output_type": "stream",
     "text": [
      "<neighborlist help=\"Determines neighbouring pairs for exciton transport\" injected=\"true\" section=\"sec:neighborlist\">\n",
      "\t<constant choices=\"float+\" default=\"1.5\" help=\"cutoff for all other types of pairs if the constant method is used\" injected=\"true\" unit=\"nm\">0.6</constant>\n",
      "\t<exciton_cutoff choices=\"float+\" default=\"OPTIONAL\" help=\"cutoff for classical exciton transition charge treatment\" injected=\"true\" units=\"nm\">0.5</exciton_cutoff>\n",
      "</neighborlist>\n",
      "\n",
      "==================================================\n",
      "========   VOTCA (http://www.votca.org)   ========\n",
      "==================================================\n",
      "\n",
      "please submit bugs to https://github.com/votca/xtp/issues\n",
      "\n",
      "xtp_run, version 2022-dev gitid: b4c29aa (dirty) (compiled Jul  7 2021, 17:32:21)\n",
      "votca_csg, version 2022-dev gitid: b4c29aa (dirty) (compiled Jul  7 2021, 16:43:14)\n",
      "votca_tools, version 2022-dev gitid: b4c29aa (dirty) (compiled Jul  7 2021, 16:39:10)\n",
      "\n",
      "Initializing calculator\n",
      "... neighborlist\n",
      "1 frames in statefile, Ids are: 0 \n",
      "Starting at frame 0\n",
      "Evaluating frame 0\n",
      "Import MD Topology (i.e. frame 0) from state.hdf5\n",
      ".... \n",
      "... neighborlist\n",
      " Using 4 threads\n",
      "Evaluating 1000 segments for neighborlist. \n",
      " ... ... Evaluating \n",
      "0%   10   20   30   40   50   60   70   80   90   100%\n",
      "|----|----|----|----|----|----|----|----|----|----|\n",
      "***************************************************\n",
      "\n",
      " ... ... Created 21093 direct pairs.\n",
      " ... ... Determining classical pairs \n",
      " ... ... Found 8586 classical pairs \n",
      "Wrote MD topology (step = 0, time = 0) to state.hdf5\n",
      "... . \n"
     ]
    }
   ],
   "source": [
    "!xtp_run -e neighborlist -c exciton_cutoff=0.5 constant=0.6 -f state.hdf5 -t 4"
   ]
  },
  {
   "cell_type": "markdown",
   "metadata": {},
   "source": [
    "## Read reorganization energies\n",
    "In this step we will read the in site reorganization energies and store them in the `state.hdf5` file. We just need to copy the input file and execute the calculation. The side energies have to be calculated by the user beforehand and put into an xml file. We added them to `system.xml`"
   ]
  },
  {
   "cell_type": "code",
   "execution_count": 10,
   "metadata": {},
   "outputs": [
    {
     "name": "stdout",
     "output_type": "stream",
     "text": [
      "<einternal help=\"Reads in site and reorganosation energies and writes them to the state file\" injected=\"true\" section=\"sec:einternal\">\n",
      "\t<energies_file default=\"system.xml\" help=\"input file with vacuum site, reorganization (charging, discharging) energies\" injected=\"true\">system.xml</energies_file>\n",
      "</einternal>\n",
      "\n",
      "==================================================\n",
      "========   VOTCA (http://www.votca.org)   ========\n",
      "==================================================\n",
      "\n",
      "please submit bugs to https://github.com/votca/xtp/issues\n",
      "\n",
      "xtp_run, version 2022-dev gitid: b4c29aa (dirty) (compiled Jul  7 2021, 17:32:21)\n",
      "votca_csg, version 2022-dev gitid: b4c29aa (dirty) (compiled Jul  7 2021, 16:43:14)\n",
      "votca_tools, version 2022-dev gitid: b4c29aa (dirty) (compiled Jul  7 2021, 16:39:10)\n",
      "\n",
      "Initializing calculator\n",
      "... einternal\n",
      "1 frames in statefile, Ids are: 0 \n",
      "Starting at frame 0\n",
      "Evaluating frame 0\n",
      "Import MD Topology (i.e. frame 0) from state.hdf5\n",
      ".... \n",
      "... einternal\n",
      " Using 1 threads\n",
      "... ... Site, reorg. energies from system.xml.\n",
      "\n",
      "... ... Read in site, reorg. energies for 1000 segments. Wrote MD topology (step = 0, time = 0) to state.hdf5\n",
      "... . \n"
     ]
    }
   ],
   "source": [
    "!xtp_run -e einternal -c energies_file=system.xml -f state.hdf5"
   ]
  },
  {
   "cell_type": "markdown",
   "metadata": {},
   "source": [
    "## Compute site energy\n",
    "In this step we will perform some *QMMM* calculations to compute the site energies. The `qmmm_mm.xml` file contains some predefined settings to perform the *MM* calculations. Let us first copy these settings into the state file. Instead of using the `-c` option we now use the `-o` option to read in options from an xml file."
   ]
  },
  {
   "cell_type": "code",
   "execution_count": 38,
   "metadata": {},
   "outputs": [
    {
     "name": "stdout",
     "output_type": "stream",
     "text": [
      "<>\r\n",
      "\t<options injected=\"true\">\r\n",
      "\t\t<qmmm help=\"Executes qmmm calculations for individual molecules and clusters\" injected=\"true\" section=\"sec:qmmm\">\r\n",
      "\t\t\t<print_regions_pdb choices=\"bool\" default=\"true\" help=\"print the geometry of the regions to a pdb file\"/>\r\n",
      "\t\t\t<max_iterations choices=\"int+\" default=\"100\" help=\"max iterations for qmmm scf loop\"/>\r\n",
      "\t\t\t<map_file default=\"votca_map.xml\" help=\"xml file with segment definition\" injected=\"true\">system.xml</map_file>\r\n",
      "\t\t\t<job_file default=\"qmmm_jobs.xml\" help=\"name of jobfile to which jobs are written\" injected=\"true\">qmmm_mm_jobs.xml</job_file>\r\n",
      "\t\t\t<io_states default=\"n e h\" help=\"states to write jobs for and which to parse from jobfile\" injected=\"true\">n e h s1</io_states>\r\n",
      "\t\t\t<regions default=\"REQUIRED\" help=\"Definitions of all regions inside qmmmm\" injected=\"true\" list=\"\">\r\n",
      "\t\t\t\t<polarregion default=\"OPTIONAL\" help=\"polar region with polarisation dipoles and thole damping\" injected=\"true\" link=\"region.xml\">\r\n",
      "\t\t\t\t\t<polar help=\"Options for the electrostatic interaction\" link=\"polar.xml\">\r\n",
      "\t\t\t\t\t\t<tolerance_energy default=\"1e-5\" help=\"Energy change as convergence criterion\"/>\r\n",
      "\t\t\t\t\t\t<tolerance_dipole default=\"1e-5\" help=\"Field change as convergence criterion\"/>\r\n",
      "\t\t\t\t\t\t<max_iter default=\"500\" help=\"Maximum number of iterations\"/>\r\n",
      "\t\t\t\t\t\t<exp_damp default=\"0.39\" help=\"Thole sharpness parameter\"/>\r\n",
      "\t\t\t\t\t</polar>\r\n",
      "\t\t\t\t\t<delta_e choices=\"float+\" default=\"5e-5\" help=\"if energy difference for this region is below this value it is considered converged\" unit=\"Hartree\"/>\r\n",
      "\t\t\t\t\t<delta_d choices=\"float+\" default=\"5e-5\" help=\"if RMS difference of all dipoles in the is below this value it is considered converged\" unit=\"bohr\"/>\r\n",
      "\t\t\t\t\t<id choices=\"int+\" default=\"REQUIRED\" help=\"id of the region, first region has to have id 0, ids must be consecutive\" injected=\"true\">0</id>\r\n",
      "\t\t\t\t\t<segments default=\"OPTIONAL\" help=\"List of segments to include in the region separated by a whitespace. Each segment is defined by an index and a qmstate or a filename for the coordinates. e.g 1:s3 or 0:ORFILES/methane.xyz\" injected=\"true\">jobfile</segments>\r\n",
      "\t\t\t\t\t<cutoff help=\"specifies the cutoff around either an another region or explicit segments in this region\" injected=\"true\">\r\n",
      "\t\t\t\t\t\t<radius choices=\"float+\" default=\"REQUIRED\" help=\"radius\" injected=\"true\" unit=\"nm\">0.5</radius>\r\n",
      "\t\t\t\t\t\t<geometry default=\"n\" help=\"geometry that should be used for mapping all the segments in the radius\" injected=\"true\">n</geometry>\r\n",
      "\t\t\t\t\t\t<region choices=\"int+\" default=\"REQUIRED\" help=\"Id of the region the cutoff should refer to, can be the same as this region's id, if segments are specified\" injected=\"true\">0</region>\r\n",
      "\t\t\t\t\t\t<explicit_segs choices=\"bool\" default=\"false\" help=\"specifies if cutoff with respect to other region should be only towards segments specified explicitly using the `segments` tag\"/>\r\n",
      "\t\t\t\t\t</cutoff>\r\n",
      "\t\t\t\t</polarregion>\r\n",
      "\t\t\t\t<staticregion default=\"OPTIONAL\" injected=\"true\" link=\"region.xml\">\r\n",
      "\t\t\t\t\t<id choices=\"int+\" default=\"REQUIRED\" help=\"id of the region, first region has to have id 0, ids must be consecutive\" injected=\"true\">1</id>\r\n",
      "\t\t\t\t\t<segments default=\"OPTIONAL\" help=\"List of segments to include in the region separated by a whitespace. Each segment is defined by an index and a qmstate or a filename for the coordinates. e.g 1:s3 or 0:ORFILES/methane.xyz\"/>\r\n",
      "\t\t\t\t\t<cutoff help=\"specifies the cutoff around either an another region or explicit segments in this region\" injected=\"true\">\r\n",
      "\t\t\t\t\t\t<radius choices=\"float+\" default=\"REQUIRED\" help=\"radius\" injected=\"true\" unit=\"nm\">1.4</radius>\r\n",
      "\t\t\t\t\t\t<geometry default=\"n\" help=\"geometry that should be used for mapping all the segments in the radius\"/>\r\n",
      "\t\t\t\t\t\t<region choices=\"int+\" default=\"REQUIRED\" help=\"Id of the region the cutoff should refer to, can be the same as this region's id, if segments are specified\" injected=\"true\">0</region>\r\n",
      "\t\t\t\t\t\t<explicit_segs choices=\"bool\" default=\"false\" help=\"specifies if cutoff with respect to other region should be only towards segments specified explicitly using the `segments` tag\" injected=\"true\">true</explicit_segs>\r\n",
      "\t\t\t\t\t</cutoff>\r\n",
      "\t\t\t\t</staticregion>\r\n",
      "\t\t\t</regions>\r\n",
      "\t\t</qmmm>\r\n",
      "\t</options>\r\n",
      "</>\r\n",
      "\r\n",
      "<qmmm help=\"Executes qmmm calculations for individual molecules and clusters\" injected=\"true\" section=\"sec:qmmm\">\r\n",
      "\t<print_regions_pdb choices=\"bool\" default=\"true\" help=\"print the geometry of the regions to a pdb file\">true</print_regions_pdb>\r\n",
      "\t<max_iterations choices=\"int+\" default=\"100\" help=\"max iterations for qmmm scf loop\">100</max_iterations>\r\n",
      "\t<map_file default=\"votca_map.xml\" help=\"xml file with segment definition\" injected=\"true\">system.xml</map_file>\r\n",
      "\t<job_file default=\"qmmm_jobs.xml\" help=\"name of jobfile to which jobs are written\" injected=\"true\">qmmm_mm_jobs.xml</job_file>\r\n",
      "\t<io_states default=\"n e h\" help=\"states to write jobs for and which to parse from jobfile\" injected=\"true\">n e h s1</io_states>\r\n",
      "\t<regions default=\"REQUIRED\" help=\"Definitions of all regions inside qmmmm\" injected=\"true\" list=\"\">\r\n",
      "\t\t<polarregion default=\"OPTIONAL\" help=\"polar region with polarisation dipoles and thole damping\" injected=\"true\" link=\"region.xml\">\r\n",
      "\t\t\t<polar help=\"Options for the electrostatic interaction\" link=\"polar.xml\">\r\n",
      "\t\t\t\t<tolerance_energy default=\"1e-5\" help=\"Energy change as convergence criterion\">1e-5</tolerance_energy>\r\n",
      "\t\t\t\t<tolerance_dipole default=\"1e-5\" help=\"Field change as convergence criterion\">1e-5</tolerance_dipole>\r\n",
      "\t\t\t\t<max_iter default=\"500\" help=\"Maximum number of iterations\">500</max_iter>\r\n",
      "\t\t\t\t<exp_damp default=\"0.39\" help=\"Thole sharpness parameter\">0.39</exp_damp>\r\n",
      "\t\t\t</polar>\r\n",
      "\t\t\t<delta_e choices=\"float+\" default=\"5e-5\" help=\"if energy difference for this region is below this value it is considered converged\" unit=\"Hartree\">5e-5</delta_e>\r\n",
      "\t\t\t<delta_d choices=\"float+\" default=\"5e-5\" help=\"if RMS difference of all dipoles in the is below this value it is considered converged\" unit=\"bohr\">5e-5</delta_d>\r\n",
      "\t\t\t<id choices=\"int+\" default=\"REQUIRED\" help=\"id of the region, first region has to have id 0, ids must be consecutive\" injected=\"true\">0</id>\r\n",
      "\t\t\t<segments default=\"OPTIONAL\" help=\"List of segments to include in the region separated by a whitespace. Each segment is defined by an index and a qmstate or a filename for the coordinates. e.g 1:s3 or 0:ORFILES/methane.xyz\" injected=\"true\">jobfile</segments>\r\n",
      "\t\t\t<cutoff help=\"specifies the cutoff around either an another region or explicit segments in this region\" injected=\"true\">\r\n",
      "\t\t\t\t<radius choices=\"float+\" default=\"REQUIRED\" help=\"radius\" injected=\"true\" unit=\"nm\">0.5</radius>\r\n",
      "\t\t\t\t<geometry default=\"n\" help=\"geometry that should be used for mapping all the segments in the radius\" injected=\"true\">n</geometry>\r\n",
      "\t\t\t\t<region choices=\"int+\" default=\"REQUIRED\" help=\"Id of the region the cutoff should refer to, can be the same as this region's id, if segments are specified\" injected=\"true\">0</region>\r\n",
      "\t\t\t\t<explicit_segs choices=\"bool\" default=\"false\" help=\"specifies if cutoff with respect to other region should be only towards segments specified explicitly using the `segments` tag\">false</explicit_segs>\r\n",
      "\t\t\t</cutoff>\r\n",
      "\t\t</polarregion>\r\n",
      "\t\t<staticregion default=\"OPTIONAL\" injected=\"true\" link=\"region.xml\">\r\n",
      "\t\t\t<id choices=\"int+\" default=\"REQUIRED\" help=\"id of the region, first region has to have id 0, ids must be consecutive\" injected=\"true\">1</id>\r\n",
      "\t\t\t<cutoff help=\"specifies the cutoff around either an another region or explicit segments in this region\" injected=\"true\">\r\n",
      "\t\t\t\t<radius choices=\"float+\" default=\"REQUIRED\" help=\"radius\" injected=\"true\" unit=\"nm\">1.4</radius>\r\n",
      "\t\t\t\t<geometry default=\"n\" help=\"geometry that should be used for mapping all the segments in the radius\">n</geometry>\r\n",
      "\t\t\t\t<region choices=\"int+\" default=\"REQUIRED\" help=\"Id of the region the cutoff should refer to, can be the same as this region's id, if segments are specified\" injected=\"true\">0</region>\r\n",
      "\t\t\t\t<explicit_segs choices=\"bool\" default=\"false\" help=\"specifies if cutoff with respect to other region should be only towards segments specified explicitly using the `segments` tag\" injected=\"true\">true</explicit_segs>\r\n",
      "\t\t\t</cutoff>\r\n",
      "\t\t</staticregion>\r\n",
      "\t</regions>\r\n",
      "</qmmm>\r\n",
      "\r\n",
      "==================================================\r\n",
      "========   VOTCA (http://www.votca.org)   ========\r\n",
      "==================================================\r\n",
      "\r\n",
      "please submit bugs to https://github.com/votca/xtp/issues\r\n",
      "\r\n",
      "xtp_parallel, version 2022-dev gitid: b4c29aa (dirty) (compiled Jul  7 2021, 17:32:21)\r\n",
      "votca_csg, version 2022-dev gitid: b4c29aa (dirty) (compiled Jul  7 2021, 16:43:14)\r\n",
      "votca_tools, version 2022-dev gitid: b4c29aa (dirty) (compiled Jul  7 2021, 16:39:10)\r\n",
      "\r\n",
      "Initializing calculator\r\n",
      "... qmmm\r\n",
      "\r\n",
      "... ... Initialized with 1 threads.\r\n",
      "\r\n",
      "... ... Using 1 openmp threads for 1x1=1 total threads.\r\n",
      "1 frames in statefile, Ids are: 0 \r\n",
      "Starting at frame 0\r\n",
      "Evaluating frame 0\r\n",
      "Import MD Topology (i.e. frame 0) from state.hdf5\r\n"
     ]
    },
    {
     "name": "stdout",
     "output_type": "stream",
     "text": [
      ".... \n",
      "... qmmm \n",
      "... ... Writing job file qmmm_mm_jobs.xml\n",
      "... ... In total 4001 jobs\n",
      "Changes have not been written to state file.\n"
     ]
    }
   ],
   "source": [
    "!cp qmmm_mm.xml OPTIONFILES\n",
    "!xtp_parallel -e qmmm -o OPTIONFILES/qmmm_mm.xml -f state.hdf5 -j \"write\""
   ]
  },
  {
   "cell_type": "markdown",
   "metadata": {},
   "source": [
    "The previous command generates a `qmmm_mm_jobs.xml` containing 4000 *MM* jobs to compute, if you examine that file, it should look something like"
   ]
  },
  {
   "cell_type": "markdown",
   "metadata": {},
   "source": [
    "```xml\n",
    "<jobs>\n",
    "  <job>\n",
    "    <id>0</id>\n",
    "    <tag>Methane_0:n</tag>\n",
    "    <input>\n",
    "      <site_energies>0:n</site_energies>\n",
    "      <regions>\n",
    "        <region>\n",
    "          <id>0</id>\n",
    "          <segments>0:n</segments>\n",
    "        </region>\n",
    "      </regions>\n",
    "    </input>\n",
    "    <status>AVAILABLE</status>\n",
    "  </job>    \n",
    "...\n",
    "```"
   ]
  },
  {
   "cell_type": "markdown",
   "metadata": {},
   "source": [
    "Let us run just the first 4 jobs by settings all jobs `status` to `COMPLETE` except for the first four. This can be easily done with [sed](https://www.gnu.org/software/sed/manual/sed.html) as follows,"
   ]
  },
  {
   "cell_type": "code",
   "execution_count": 39,
   "metadata": {},
   "outputs": [],
   "source": [
    "!sed -i \"s/AVAILABLE/COMPLETE/g\" qmmm_mm_jobs.xml\n",
    "!sed -i '0,/COMPLETE/s/COMPLETE/AVAILABLE/' qmmm_mm_jobs.xml\n",
    "!sed -i '0,/COMPLETE/s/COMPLETE/AVAILABLE/' qmmm_mm_jobs.xml\n",
    "!sed -i '0,/COMPLETE/s/COMPLETE/AVAILABLE/' qmmm_mm_jobs.xml\n",
    "!sed -i '0,/COMPLETE/s/COMPLETE/AVAILABLE/' qmmm_mm_jobs.xml"
   ]
  },
  {
   "cell_type": "markdown",
   "metadata": {},
   "source": [
    "Now we can run the jobs and save the results in the state file"
   ]
  },
  {
   "cell_type": "code",
   "execution_count": 37,
   "metadata": {},
   "outputs": [
    {
     "name": "stdout",
     "output_type": "stream",
     "text": [
      "<>\r\n",
      "\t<options injected=\"true\">\r\n",
      "\t\t<qmmm help=\"Executes qmmm calculations for individual molecules and clusters\" injected=\"true\" section=\"sec:qmmm\">\r\n",
      "\t\t\t<print_regions_pdb choices=\"bool\" default=\"true\" help=\"print the geometry of the regions to a pdb file\"/>\r\n",
      "\t\t\t<max_iterations choices=\"int+\" default=\"100\" help=\"max iterations for qmmm scf loop\"/>\r\n",
      "\t\t\t<map_file default=\"votca_map.xml\" help=\"xml file with segment definition\" injected=\"true\">system.xml</map_file>\r\n",
      "\t\t\t<job_file default=\"qmmm_jobs.xml\" help=\"name of jobfile to which jobs are written\" injected=\"true\">qmmm_mm_jobs.xml</job_file>\r\n",
      "\t\t\t<io_states default=\"n e h\" help=\"states to write jobs for and which to parse from jobfile\" injected=\"true\">n e h s1</io_states>\r\n",
      "\t\t\t<regions default=\"REQUIRED\" help=\"Definitions of all regions inside qmmmm\" injected=\"true\" list=\"\">\r\n",
      "\t\t\t\t<polarregion default=\"OPTIONAL\" help=\"polar region with polarisation dipoles and thole damping\" injected=\"true\" link=\"region.xml\">\r\n",
      "\t\t\t\t\t<polar help=\"Options for the electrostatic interaction\" link=\"polar.xml\">\r\n",
      "\t\t\t\t\t\t<tolerance_energy default=\"1e-5\" help=\"Energy change as convergence criterion\"/>\r\n",
      "\t\t\t\t\t\t<tolerance_dipole default=\"1e-5\" help=\"Field change as convergence criterion\"/>\r\n",
      "\t\t\t\t\t\t<max_iter default=\"500\" help=\"Maximum number of iterations\"/>\r\n",
      "\t\t\t\t\t\t<exp_damp default=\"0.39\" help=\"Thole sharpness parameter\"/>\r\n",
      "\t\t\t\t\t</polar>\r\n",
      "\t\t\t\t\t<delta_e choices=\"float+\" default=\"5e-5\" help=\"if energy difference for this region is below this value it is considered converged\" unit=\"Hartree\"/>\r\n",
      "\t\t\t\t\t<delta_d choices=\"float+\" default=\"5e-5\" help=\"if RMS difference of all dipoles in the is below this value it is considered converged\" unit=\"bohr\"/>\r\n",
      "\t\t\t\t\t<id choices=\"int+\" default=\"REQUIRED\" help=\"id of the region, first region has to have id 0, ids must be consecutive\" injected=\"true\">0</id>\r\n",
      "\t\t\t\t\t<segments default=\"OPTIONAL\" help=\"List of segments to include in the region separated by a whitespace. Each segment is defined by an index and a qmstate or a filename for the coordinates. e.g 1:s3 or 0:ORFILES/methane.xyz\" injected=\"true\">jobfile</segments>\r\n",
      "\t\t\t\t\t<cutoff help=\"specifies the cutoff around either an another region or explicit segments in this region\" injected=\"true\">\r\n",
      "\t\t\t\t\t\t<radius choices=\"float+\" default=\"REQUIRED\" help=\"radius\" injected=\"true\" unit=\"nm\">0.5</radius>\r\n",
      "\t\t\t\t\t\t<geometry default=\"n\" help=\"geometry that should be used for mapping all the segments in the radius\" injected=\"true\">n</geometry>\r\n",
      "\t\t\t\t\t\t<region choices=\"int+\" default=\"REQUIRED\" help=\"Id of the region the cutoff should refer to, can be the same as this region's id, if segments are specified\" injected=\"true\">0</region>\r\n",
      "\t\t\t\t\t\t<explicit_segs choices=\"bool\" default=\"false\" help=\"specifies if cutoff with respect to other region should be only towards segments specified explicitly using the `segments` tag\"/>\r\n",
      "\t\t\t\t\t</cutoff>\r\n",
      "\t\t\t\t</polarregion>\r\n",
      "\t\t\t\t<staticregion default=\"OPTIONAL\" injected=\"true\" link=\"region.xml\">\r\n",
      "\t\t\t\t\t<id choices=\"int+\" default=\"REQUIRED\" help=\"id of the region, first region has to have id 0, ids must be consecutive\" injected=\"true\">1</id>\r\n",
      "\t\t\t\t\t<segments default=\"OPTIONAL\" help=\"List of segments to include in the region separated by a whitespace. Each segment is defined by an index and a qmstate or a filename for the coordinates. e.g 1:s3 or 0:ORFILES/methane.xyz\"/>\r\n",
      "\t\t\t\t\t<cutoff help=\"specifies the cutoff around either an another region or explicit segments in this region\" injected=\"true\">\r\n",
      "\t\t\t\t\t\t<radius choices=\"float+\" default=\"REQUIRED\" help=\"radius\" injected=\"true\" unit=\"nm\">1.4</radius>\r\n",
      "\t\t\t\t\t\t<geometry default=\"n\" help=\"geometry that should be used for mapping all the segments in the radius\"/>\r\n",
      "\t\t\t\t\t\t<region choices=\"int+\" default=\"REQUIRED\" help=\"Id of the region the cutoff should refer to, can be the same as this region's id, if segments are specified\" injected=\"true\">0</region>\r\n",
      "\t\t\t\t\t\t<explicit_segs choices=\"bool\" default=\"false\" help=\"specifies if cutoff with respect to other region should be only towards segments specified explicitly using the `segments` tag\" injected=\"true\">true</explicit_segs>\r\n",
      "\t\t\t\t\t</cutoff>\r\n",
      "\t\t\t\t</staticregion>\r\n",
      "\t\t\t</regions>\r\n",
      "\t\t</qmmm>\r\n",
      "\t</options>\r\n",
      "</>\r\n",
      "\r\n",
      "<qmmm help=\"Executes qmmm calculations for individual molecules and clusters\" injected=\"true\" section=\"sec:qmmm\">\r\n",
      "\t<print_regions_pdb choices=\"bool\" default=\"true\" help=\"print the geometry of the regions to a pdb file\">true</print_regions_pdb>\r\n",
      "\t<max_iterations choices=\"int+\" default=\"100\" help=\"max iterations for qmmm scf loop\">100</max_iterations>\r\n",
      "\t<map_file default=\"votca_map.xml\" help=\"xml file with segment definition\" injected=\"true\">system.xml</map_file>\r\n",
      "\t<job_file default=\"qmmm_jobs.xml\" help=\"name of jobfile to which jobs are written\" injected=\"true\">qmmm_mm_jobs.xml</job_file>\r\n",
      "\t<io_states default=\"n e h\" help=\"states to write jobs for and which to parse from jobfile\" injected=\"true\">n e h s1</io_states>\r\n",
      "\t<regions default=\"REQUIRED\" help=\"Definitions of all regions inside qmmmm\" injected=\"true\" list=\"\">\r\n",
      "\t\t<polarregion default=\"OPTIONAL\" help=\"polar region with polarisation dipoles and thole damping\" injected=\"true\" link=\"region.xml\">\r\n",
      "\t\t\t<polar help=\"Options for the electrostatic interaction\" link=\"polar.xml\">\r\n",
      "\t\t\t\t<tolerance_energy default=\"1e-5\" help=\"Energy change as convergence criterion\">1e-5</tolerance_energy>\r\n",
      "\t\t\t\t<tolerance_dipole default=\"1e-5\" help=\"Field change as convergence criterion\">1e-5</tolerance_dipole>\r\n",
      "\t\t\t\t<max_iter default=\"500\" help=\"Maximum number of iterations\">500</max_iter>\r\n",
      "\t\t\t\t<exp_damp default=\"0.39\" help=\"Thole sharpness parameter\">0.39</exp_damp>\r\n",
      "\t\t\t</polar>\r\n",
      "\t\t\t<delta_e choices=\"float+\" default=\"5e-5\" help=\"if energy difference for this region is below this value it is considered converged\" unit=\"Hartree\">5e-5</delta_e>\r\n",
      "\t\t\t<delta_d choices=\"float+\" default=\"5e-5\" help=\"if RMS difference of all dipoles in the is below this value it is considered converged\" unit=\"bohr\">5e-5</delta_d>\r\n",
      "\t\t\t<id choices=\"int+\" default=\"REQUIRED\" help=\"id of the region, first region has to have id 0, ids must be consecutive\" injected=\"true\">0</id>\r\n",
      "\t\t\t<segments default=\"OPTIONAL\" help=\"List of segments to include in the region separated by a whitespace. Each segment is defined by an index and a qmstate or a filename for the coordinates. e.g 1:s3 or 0:ORFILES/methane.xyz\" injected=\"true\">jobfile</segments>\r\n",
      "\t\t\t<cutoff help=\"specifies the cutoff around either an another region or explicit segments in this region\" injected=\"true\">\r\n",
      "\t\t\t\t<radius choices=\"float+\" default=\"REQUIRED\" help=\"radius\" injected=\"true\" unit=\"nm\">0.5</radius>\r\n",
      "\t\t\t\t<geometry default=\"n\" help=\"geometry that should be used for mapping all the segments in the radius\" injected=\"true\">n</geometry>\r\n",
      "\t\t\t\t<region choices=\"int+\" default=\"REQUIRED\" help=\"Id of the region the cutoff should refer to, can be the same as this region's id, if segments are specified\" injected=\"true\">0</region>\r\n",
      "\t\t\t\t<explicit_segs choices=\"bool\" default=\"false\" help=\"specifies if cutoff with respect to other region should be only towards segments specified explicitly using the `segments` tag\">false</explicit_segs>\r\n",
      "\t\t\t</cutoff>\r\n",
      "\t\t</polarregion>\r\n",
      "\t\t<staticregion default=\"OPTIONAL\" injected=\"true\" link=\"region.xml\">\r\n",
      "\t\t\t<id choices=\"int+\" default=\"REQUIRED\" help=\"id of the region, first region has to have id 0, ids must be consecutive\" injected=\"true\">1</id>\r\n",
      "\t\t\t<cutoff help=\"specifies the cutoff around either an another region or explicit segments in this region\" injected=\"true\">\r\n",
      "\t\t\t\t<radius choices=\"float+\" default=\"REQUIRED\" help=\"radius\" injected=\"true\" unit=\"nm\">1.4</radius>\r\n",
      "\t\t\t\t<geometry default=\"n\" help=\"geometry that should be used for mapping all the segments in the radius\">n</geometry>\r\n",
      "\t\t\t\t<region choices=\"int+\" default=\"REQUIRED\" help=\"Id of the region the cutoff should refer to, can be the same as this region's id, if segments are specified\" injected=\"true\">0</region>\r\n",
      "\t\t\t\t<explicit_segs choices=\"bool\" default=\"false\" help=\"specifies if cutoff with respect to other region should be only towards segments specified explicitly using the `segments` tag\" injected=\"true\">true</explicit_segs>\r\n",
      "\t\t\t</cutoff>\r\n",
      "\t\t</staticregion>\r\n",
      "\t</regions>\r\n",
      "</qmmm>\r\n",
      "\r\n",
      "==================================================\r\n",
      "========   VOTCA (http://www.votca.org)   ========\r\n",
      "==================================================\r\n",
      "\r\n",
      "please submit bugs to https://github.com/votca/xtp/issues\r\n",
      "\r\n",
      "xtp_parallel, version 2022-dev gitid: b4c29aa (dirty) (compiled Jul  7 2021, 17:32:21)\r\n",
      "votca_csg, version 2022-dev gitid: b4c29aa (dirty) (compiled Jul  7 2021, 16:43:14)\r\n",
      "votca_tools, version 2022-dev gitid: b4c29aa (dirty) (compiled Jul  7 2021, 16:39:10)\r\n",
      "\r\n",
      "Initializing calculator\r\n",
      "... qmmm\r\n",
      "\r\n",
      "... ... Initialized with 1 threads.\r\n",
      "\r\n",
      "... ... Using 2 openmp threads for 1x2=2 total threads.\r\n",
      "1 frames in statefile, Ids are: 0 \r\n",
      "Starting at frame 0\r\n",
      "Evaluating frame 0\r\n",
      "Import MD Topology (i.e. frame 0) from state.hdf5\r\n"
     ]
    },
    {
     "name": "stdout",
     "output_type": "stream",
     "text": [
      ".... \n",
      "... qmmm \n",
      "MST ERR Job file = 'qmmm_mm_jobs.xml', cache size =  8\n",
      "MST ERR Initialize jobs from qmmm_mm_jobs.xml\n",
      "MST ERR Registered 4000 jobs.\n",
      "T00 ERR ... Requesting next job\n",
      "T00 ERR ... Assign jobs from stack\n",
      "T00 ERR ... Next job: ID = 0=> [ 0%] \n",
      "T00 ERR ...  Regions created\n",
      "T00 ERR ... Id: 0 type: polarregion size: 17 charge[e]= -9.29812e-16\n",
      "T00 ERR ... Id: 1 type: staticregion size: 254 charge[e]= -1.4086e-14\n",
      "T00 ERR ... 2021-7-9 21:39:48 Writing jobtopology to MMMM/frame_0/job_0_Methane_0:n/regions.pdb\n",
      "T00 ERR ... 2021-7-9 21:39:48 Only 1 scf region is used. The remaining regions are static. So no inter regions scf is required. \n",
      "T00 ERR ... 2021-7-9 21:39:48 --Inter Region SCF Iteration 1 of 1\n",
      "T00 ERR ... 2021-7-9 21:39:48 Evaluating polarregion 0\n",
      "T00 ERR ... 2021-7-9 21:39:48 Evaluating interaction between polarregion 0 and staticregion 1\n",
      "T00 ERR ... 2021-7-9 21:39:48 Starting Solving for classical polarization with 255 degrees of freedom.\n",
      "T00 ERR ... 2021-7-9 21:39:48 CG: #iterations: 7, estimated error: 4.15528e-06\n",
      "T00 ERR ...   Total static energy [hrt]= 8.121948104e-05\n",
      "T00 ERR ...   Total polar energy [hrt]= -0.0001235439304\n",
      "T00 ERR ...  Total energy [hrt]= -4.232444937e-05\n",
      "T00 ERR ... 2021-7-9 21:39:48 Evaluating staticregion 1\n",
      "T00 ERR ... 2021-7-9 21:39:48 Writing checkpoint to checkpoint_iter_1.hdf5\n",
      "T00 ERR ... Reporting job results\n",
      "\n",
      "T00 ERR ... Requesting next job\n",
      "T00 ERR ... Next job: ID = 1\n",
      "T00 ERR ...  Regions created\n",
      "T00 ERR ... Id: 0 type: polarregion size: 17 charge[e]= -1\n",
      "T00 ERR ... Id: 1 type: staticregion size: 254 charge[e]= -1.408595462e-14\n",
      "T00 ERR ... 2021-7-9 21:39:48 Writing jobtopology to MMMM/frame_0/job_1_Methane_0:e/regions.pdb\n",
      "T00 ERR ... 2021-7-9 21:39:48 Only 1 scf region is used. The remaining regions are static. So no inter regions scf is required. \n",
      "T00 ERR ... 2021-7-9 21:39:48 --Inter Region SCF Iteration 1 of 1\n",
      "T00 ERR ... 2021-7-9 21:39:48 Evaluating polarregion 0\n",
      "T00 ERR ... 2021-7-9 21:39:48 Evaluating interaction between polarregion 0 and staticregion 1\n",
      "T00 ERR ... 2021-7-9 21:39:48 Starting Solving for classical polarization with 255 degrees of freedom.\n",
      "T00 ERR ... 2021-7-9 21:39:48 CG: #iterations: 27, estimated error: 6.094533301e-06\n",
      "T00 ERR ...   Total static energy [hrt]= -0.0009055590147\n",
      "T00 ERR ...   Total polar energy [hrt]= -0.03058901395\n",
      "T00 ERR ...  Total energy [hrt]= -0.03149457297\n",
      "T00 ERR ... 2021-7-9 21:39:48 Evaluating staticregion 1\n",
      "T00 ERR ... 2021-7-9 21:39:48 Writing checkpoint to checkpoint_iter_1.hdf5\n",
      "T00 ERR ... Reporting job results\n",
      "\n",
      "T00 ERR ... Requesting next job\n",
      "T00 ERR ... Next job: ID = 2\n",
      "T00 ERR ...  Regions created\n",
      "T00 ERR ... Id: 0 type: polarregion size: 17 charge[e]= 1\n",
      "T00 ERR ... Id: 1 type: staticregion size: 254 charge[e]= -1.408595462e-14\n",
      "T00 ERR ... 2021-7-9 21:39:48 Writing jobtopology to MMMM/frame_0/job_2_Methane_0:h/regions.pdb\n",
      "T00 ERR ... 2021-7-9 21:39:48 Only 1 scf region is used. The remaining regions are static. So no inter regions scf is required. \n",
      "T00 ERR ... 2021-7-9 21:39:48 --Inter Region SCF Iteration 1 of 1\n",
      "T00 ERR ... 2021-7-9 21:39:48 Evaluating polarregion 0\n",
      "T00 ERR ... 2021-7-9 21:39:48 Evaluating interaction between polarregion 0 and staticregion 1\n",
      "T00 ERR ... 2021-7-9 21:39:48 Starting Solving for classical polarization with 255 degrees of freedom.\n",
      "T00 ERR ... 2021-7-9 21:39:48 CG: #iterations: 7, estimated error: 3.581023691e-06\n",
      "T00 ERR ...   Total static energy [hrt]= 0.001994038371\n",
      "T00 ERR ...   Total polar energy [hrt]= -0.02768723938\n",
      "T00 ERR ...  Total energy [hrt]= -0.02569320101\n",
      "T00 ERR ... 2021-7-9 21:39:48 Evaluating staticregion 1\n",
      "T00 ERR ... 2021-7-9 21:39:48 Writing checkpoint to checkpoint_iter_1.hdf5\n",
      "T00 ERR ... Reporting job results\n",
      "\n",
      "T00 ERR ... Requesting next job\n",
      "T00 ERR ... Next job: ID = 3\n",
      "T00 ERR ...  Regions created\n",
      "T00 ERR ... Id: 0 type: polarregion size: 17 charge[e]= -7.632783294e-16\n",
      "T00 ERR ... Id: 1 type: staticregion size: 254 charge[e]= -1.408595462e-14\n",
      "T00 ERR ... 2021-7-9 21:39:48 Writing jobtopology to MMMM/frame_0/job_3_Methane_0:s1/regions.pdb\n",
      "T00 ERR ... 2021-7-9 21:39:48 Only 1 scf region is used. The remaining regions are static. So no inter regions scf is required. \n",
      "T00 ERR ... 2021-7-9 21:39:48 --Inter Region SCF Iteration 1 of 1\n",
      "T00 ERR ... 2021-7-9 21:39:48 Evaluating polarregion 0\n",
      "T00 ERR ... 2021-7-9 21:39:48 Evaluating interaction between polarregion 0 and staticregion 1\n",
      "T00 ERR ... 2021-7-9 21:39:48 Starting Solving for classical polarization with 255 degrees of freedom.\n",
      "T00 ERR ... 2021-7-9 21:39:48 CG: #iterations: 7, estimated error: 5.171454294e-06\n",
      "T00 ERR ...   Total static energy [hrt]= 0.0002401293715\n",
      "T00 ERR ...   Total polar energy [hrt]= -0.0004782854375\n",
      "T00 ERR ...  Total energy [hrt]= -0.000238156066\n",
      "T00 ERR ... 2021-7-9 21:39:48 Evaluating staticregion 1\n",
      "T00 ERR ... 2021-7-9 21:39:48 Writing checkpoint to checkpoint_iter_1.hdf5\n",
      "T00 ERR ... Reporting job results\n",
      "\n",
      "T00 ERR ... Requesting next job\n",
      "T00 ERR ... Assign jobs from stack\n",
      "T00 ERR ... Sync did not yield any new jobs.\n",
      "T00 ERR ... Next job: ID = - (none available)\n",
      "MST ERR Assign jobs from stack\n",
      "Changes have not been written to state file.\n",
      "<>\n",
      "\t<options injected=\"true\">\n",
      "\t\t<qmmm help=\"Executes qmmm calculations for individual molecules and clusters\" injected=\"true\" section=\"sec:qmmm\">\n",
      "\t\t\t<print_regions_pdb choices=\"bool\" default=\"true\" help=\"print the geometry of the regions to a pdb file\"/>\n",
      "\t\t\t<max_iterations choices=\"int+\" default=\"100\" help=\"max iterations for qmmm scf loop\"/>\n",
      "\t\t\t<map_file default=\"votca_map.xml\" help=\"xml file with segment definition\" injected=\"true\">system.xml</map_file>\n",
      "\t\t\t<job_file default=\"qmmm_jobs.xml\" help=\"name of jobfile to which jobs are written\" injected=\"true\">qmmm_mm_jobs.xml</job_file>\n",
      "\t\t\t<io_states default=\"n e h\" help=\"states to write jobs for and which to parse from jobfile\" injected=\"true\">n e h s1</io_states>\n",
      "\t\t\t<regions default=\"REQUIRED\" help=\"Definitions of all regions inside qmmmm\" injected=\"true\" list=\"\">\n",
      "\t\t\t\t<polarregion default=\"OPTIONAL\" help=\"polar region with polarisation dipoles and thole damping\" injected=\"true\" link=\"region.xml\">\n",
      "\t\t\t\t\t<polar help=\"Options for the electrostatic interaction\" link=\"polar.xml\">\n",
      "\t\t\t\t\t\t<tolerance_energy default=\"1e-5\" help=\"Energy change as convergence criterion\"/>\n",
      "\t\t\t\t\t\t<tolerance_dipole default=\"1e-5\" help=\"Field change as convergence criterion\"/>\n",
      "\t\t\t\t\t\t<max_iter default=\"500\" help=\"Maximum number of iterations\"/>\n",
      "\t\t\t\t\t\t<exp_damp default=\"0.39\" help=\"Thole sharpness parameter\"/>\n",
      "\t\t\t\t\t</polar>\n",
      "\t\t\t\t\t<delta_e choices=\"float+\" default=\"5e-5\" help=\"if energy difference for this region is below this value it is considered converged\" unit=\"Hartree\"/>\n",
      "\t\t\t\t\t<delta_d choices=\"float+\" default=\"5e-5\" help=\"if RMS difference of all dipoles in the is below this value it is considered converged\" unit=\"bohr\"/>\n",
      "\t\t\t\t\t<id choices=\"int+\" default=\"REQUIRED\" help=\"id of the region, first region has to have id 0, ids must be consecutive\" injected=\"true\">0</id>\n",
      "\t\t\t\t\t<segments default=\"OPTIONAL\" help=\"List of segments to include in the region separated by a whitespace. Each segment is defined by an index and a qmstate or a filename for the coordinates. e.g 1:s3 or 0:ORFILES/methane.xyz\" injected=\"true\">jobfile</segments>\n",
      "\t\t\t\t\t<cutoff help=\"specifies the cutoff around either an another region or explicit segments in this region\" injected=\"true\">\n",
      "\t\t\t\t\t\t<radius choices=\"float+\" default=\"REQUIRED\" help=\"radius\" injected=\"true\" unit=\"nm\">0.5</radius>\n",
      "\t\t\t\t\t\t<geometry default=\"n\" help=\"geometry that should be used for mapping all the segments in the radius\" injected=\"true\">n</geometry>\n",
      "\t\t\t\t\t\t<region choices=\"int+\" default=\"REQUIRED\" help=\"Id of the region the cutoff should refer to, can be the same as this region's id, if segments are specified\" injected=\"true\">0</region>\n",
      "\t\t\t\t\t\t<explicit_segs choices=\"bool\" default=\"false\" help=\"specifies if cutoff with respect to other region should be only towards segments specified explicitly using the `segments` tag\"/>\n",
      "\t\t\t\t\t</cutoff>\n",
      "\t\t\t\t</polarregion>\n",
      "\t\t\t\t<staticregion default=\"OPTIONAL\" injected=\"true\" link=\"region.xml\">\n",
      "\t\t\t\t\t<id choices=\"int+\" default=\"REQUIRED\" help=\"id of the region, first region has to have id 0, ids must be consecutive\" injected=\"true\">1</id>\n",
      "\t\t\t\t\t<segments default=\"OPTIONAL\" help=\"List of segments to include in the region separated by a whitespace. Each segment is defined by an index and a qmstate or a filename for the coordinates. e.g 1:s3 or 0:ORFILES/methane.xyz\"/>\n",
      "\t\t\t\t\t<cutoff help=\"specifies the cutoff around either an another region or explicit segments in this region\" injected=\"true\">\n",
      "\t\t\t\t\t\t<radius choices=\"float+\" default=\"REQUIRED\" help=\"radius\" injected=\"true\" unit=\"nm\">1.4</radius>\n",
      "\t\t\t\t\t\t<geometry default=\"n\" help=\"geometry that should be used for mapping all the segments in the radius\"/>\n",
      "\t\t\t\t\t\t<region choices=\"int+\" default=\"REQUIRED\" help=\"Id of the region the cutoff should refer to, can be the same as this region's id, if segments are specified\" injected=\"true\">0</region>\n",
      "\t\t\t\t\t\t<explicit_segs choices=\"bool\" default=\"false\" help=\"specifies if cutoff with respect to other region should be only towards segments specified explicitly using the `segments` tag\" injected=\"true\">true</explicit_segs>\n",
      "\t\t\t\t\t</cutoff>\n",
      "\t\t\t\t</staticregion>\n",
      "\t\t\t</regions>\n",
      "\t\t</qmmm>\n",
      "\t</options>\n",
      "</>\n",
      "\n",
      "<qmmm help=\"Executes qmmm calculations for individual molecules and clusters\" injected=\"true\" section=\"sec:qmmm\">\n",
      "\t<print_regions_pdb choices=\"bool\" default=\"true\" help=\"print the geometry of the regions to a pdb file\">true</print_regions_pdb>\n",
      "\t<max_iterations choices=\"int+\" default=\"100\" help=\"max iterations for qmmm scf loop\">100</max_iterations>\n",
      "\t<map_file default=\"votca_map.xml\" help=\"xml file with segment definition\" injected=\"true\">system.xml</map_file>\n",
      "\t<job_file default=\"qmmm_jobs.xml\" help=\"name of jobfile to which jobs are written\" injected=\"true\">qmmm_mm_jobs.xml</job_file>\n",
      "\t<io_states default=\"n e h\" help=\"states to write jobs for and which to parse from jobfile\" injected=\"true\">n e h s1</io_states>\n",
      "\t<regions default=\"REQUIRED\" help=\"Definitions of all regions inside qmmmm\" injected=\"true\" list=\"\">\n",
      "\t\t<polarregion default=\"OPTIONAL\" help=\"polar region with polarisation dipoles and thole damping\" injected=\"true\" link=\"region.xml\">\n",
      "\t\t\t<polar help=\"Options for the electrostatic interaction\" link=\"polar.xml\">\n",
      "\t\t\t\t<tolerance_energy default=\"1e-5\" help=\"Energy change as convergence criterion\">1e-5</tolerance_energy>\n",
      "\t\t\t\t<tolerance_dipole default=\"1e-5\" help=\"Field change as convergence criterion\">1e-5</tolerance_dipole>\n",
      "\t\t\t\t<max_iter default=\"500\" help=\"Maximum number of iterations\">500</max_iter>\n",
      "\t\t\t\t<exp_damp default=\"0.39\" help=\"Thole sharpness parameter\">0.39</exp_damp>\n",
      "\t\t\t</polar>\n",
      "\t\t\t<delta_e choices=\"float+\" default=\"5e-5\" help=\"if energy difference for this region is below this value it is considered converged\" unit=\"Hartree\">5e-5</delta_e>\n",
      "\t\t\t<delta_d choices=\"float+\" default=\"5e-5\" help=\"if RMS difference of all dipoles in the is below this value it is considered converged\" unit=\"bohr\">5e-5</delta_d>\n",
      "\t\t\t<id choices=\"int+\" default=\"REQUIRED\" help=\"id of the region, first region has to have id 0, ids must be consecutive\" injected=\"true\">0</id>\n",
      "\t\t\t<segments default=\"OPTIONAL\" help=\"List of segments to include in the region separated by a whitespace. Each segment is defined by an index and a qmstate or a filename for the coordinates. e.g 1:s3 or 0:ORFILES/methane.xyz\" injected=\"true\">jobfile</segments>\n",
      "\t\t\t<cutoff help=\"specifies the cutoff around either an another region or explicit segments in this region\" injected=\"true\">\n",
      "\t\t\t\t<radius choices=\"float+\" default=\"REQUIRED\" help=\"radius\" injected=\"true\" unit=\"nm\">0.5</radius>\n",
      "\t\t\t\t<geometry default=\"n\" help=\"geometry that should be used for mapping all the segments in the radius\" injected=\"true\">n</geometry>\n",
      "\t\t\t\t<region choices=\"int+\" default=\"REQUIRED\" help=\"Id of the region the cutoff should refer to, can be the same as this region's id, if segments are specified\" injected=\"true\">0</region>\n",
      "\t\t\t\t<explicit_segs choices=\"bool\" default=\"false\" help=\"specifies if cutoff with respect to other region should be only towards segments specified explicitly using the `segments` tag\">false</explicit_segs>\n",
      "\t\t\t</cutoff>\n",
      "\t\t</polarregion>\n",
      "\t\t<staticregion default=\"OPTIONAL\" injected=\"true\" link=\"region.xml\">\n",
      "\t\t\t<id choices=\"int+\" default=\"REQUIRED\" help=\"id of the region, first region has to have id 0, ids must be consecutive\" injected=\"true\">1</id>\n",
      "\t\t\t<cutoff help=\"specifies the cutoff around either an another region or explicit segments in this region\" injected=\"true\">\n",
      "\t\t\t\t<radius choices=\"float+\" default=\"REQUIRED\" help=\"radius\" injected=\"true\" unit=\"nm\">1.4</radius>\n",
      "\t\t\t\t<geometry default=\"n\" help=\"geometry that should be used for mapping all the segments in the radius\">n</geometry>\n",
      "\t\t\t\t<region choices=\"int+\" default=\"REQUIRED\" help=\"Id of the region the cutoff should refer to, can be the same as this region's id, if segments are specified\" injected=\"true\">0</region>\n",
      "\t\t\t\t<explicit_segs choices=\"bool\" default=\"false\" help=\"specifies if cutoff with respect to other region should be only towards segments specified explicitly using the `segments` tag\" injected=\"true\">true</explicit_segs>\n",
      "\t\t\t</cutoff>\n",
      "\t\t</staticregion>\n",
      "\t</regions>\n",
      "</qmmm>\n",
      "\n",
      "==================================================\n",
      "========   VOTCA (http://www.votca.org)   ========\n",
      "==================================================\n",
      "\n",
      "please submit bugs to https://github.com/votca/xtp/issues\n",
      "\n",
      "xtp_parallel, version 2022-dev gitid: b4c29aa (dirty) (compiled Jul  7 2021, 17:32:21)\n",
      "votca_csg, version 2022-dev gitid: b4c29aa (dirty) (compiled Jul  7 2021, 16:43:14)\n",
      "votca_tools, version 2022-dev gitid: b4c29aa (dirty) (compiled Jul  7 2021, 16:39:10)\n",
      "\n",
      "Initializing calculator\n",
      "... qmmm\n",
      "\n",
      "... ... Initialized with 1 threads.\n",
      "\n",
      "... ... Using 1 openmp threads for 1x1=1 total threads.\n",
      "1 frames in statefile, Ids are: 0 \n",
      "Starting at frame 0\n",
      "Evaluating frame 0\n",
      "Import MD Topology (i.e. frame 0) from state.hdf5\n"
     ]
    },
    {
     "name": "stdout",
     "output_type": "stream",
     "text": [
      ".... \n",
      "... qmmm \n",
      "Found 1 states of type e\n",
      "Found 1 states of type h\n",
      "Found 1 states of type s\n",
      "Found 1 states of type n\n",
      "3996 incomplete jobs found.\n",
      "\n",
      "Wrote MD topology (step = 0, time = 0) to state.hdf5\n",
      "... . \n"
     ]
    }
   ],
   "source": [
    "!xtp_parallel -e qmmm -o OPTIONFILES/qmmm_mm.xml -f state.hdf5 -x 2 -j \"run\"\n",
    "!xtp_parallel -e qmmm -o OPTIONFILES/qmmm_mm.xml -f state.hdf5 -j \"read\""
   ]
  },
  {
   "cell_type": "markdown",
   "metadata": {},
   "source": [
    "## Site energy and pair energy analysis\n",
    "In this step we generate an histogram and compute the correlation function of site energies and pair energy differences."
   ]
  },
  {
   "cell_type": "code",
   "execution_count": null,
   "metadata": {},
   "outputs": [],
   "source": [
    "\n",
    "!xtp_run -e eanalyze -o OPTIONFILES/eanalyze.xml -f state.hdf5"
   ]
  },
  {
   "cell_type": "markdown",
   "metadata": {},
   "source": [
    "You should now see a set of files prefixed with `eanalyze` containing the histrogram and correlation functions."
   ]
  },
  {
   "cell_type": "code",
   "execution_count": null,
   "metadata": {},
   "outputs": [],
   "source": [
    "!ls eanalyze*"
   ]
  },
  {
   "cell_type": "markdown",
   "metadata": {},
   "source": [
    "## QM energy calculation\n",
    "Our next task is to perform the qm calculations for each segment that we have stored in the hdf5 file. The calculations take place in 3 stages: write the jobs to a file, perform the computation and finally save the results to the state file. We will first copy the input into our local folder"
   ]
  },
  {
   "cell_type": "code",
   "execution_count": null,
   "metadata": {},
   "outputs": [],
   "source": [
    "!cp \"$VOTCASHARE/xtp/xml/eqm.xml\" OPTIONFILES/"
   ]
  },
  {
   "cell_type": "markdown",
   "metadata": {},
   "source": [
    "Now we set the GWBSE mode to `G0W0`,  the `ranges` to `full` and the `basisset` and `auxbasisset` to `3-21G` and `aux-def2-svp`. For more information, check the [eqm calculator options](https://votca.github.io/xtp/eqm.html)."
   ]
  },
  {
   "cell_type": "code",
   "execution_count": null,
   "metadata": {},
   "outputs": [],
   "source": [
    "edit_calculator(\"eqm\", \"gwbse_options.gwbse.ranges\", \"full\")\n",
    "edit_calculator(\"eqm\", \"gwbse_options.gwbse.mode\", \"G0W0\")\n",
    "edit_calculator(\"eqm\", \"gwbse_options.gwbse.qp_solver\", \"fixedpoint\")\n",
    "edit_calculator(\"eqm\", \"gwbse_options.gwbse.qp_grid_steps\", \"100\")\n",
    "edit_calculator(\"eqm\", \"gwbse_options.gwbse.qp_grid_spacing\", \"0.01\")\n",
    "edit_calculator(\"eqm\", \"gwbse_options.gwbse.exctotal\", \"10\")\n",
    "edit_calculator(\"eqm\", \"map_file\", \"system.xml\")\n",
    "edit_calculator(\"eqm\", \"basisset\", \"3-21G\")\n",
    "edit_calculator(\"eqm\", \"auxbasisset\", \"aux-def2-svp\")"
   ]
  },
  {
   "cell_type": "markdown",
   "metadata": {},
   "source": [
    "For the sake of computational time let just compute the `gw` approximation and the `singlet`. You can also request the `triplet` or `all`,  see the [gwbse sectionfor the eqm calculator](https://www.votca.org/xtp/eqm.html)."
   ]
  },
  {
   "cell_type": "code",
   "execution_count": null,
   "metadata": {},
   "outputs": [],
   "source": [
    "edit_calculator(\"eqm\", \"gwbse_options.gwbse.tasks\", \"gw,singlets\")"
   ]
  },
  {
   "cell_type": "markdown",
   "metadata": {},
   "source": [
    "First we will write the job in a file and enable only the first 2,"
   ]
  },
  {
   "cell_type": "code",
   "execution_count": null,
   "metadata": {},
   "outputs": [],
   "source": [
    "!xtp_parallel -e eqm -o OPTIONFILES/eqm.xml -f state.hdf5 -s 0 -j \"write\"\n",
    "!sed -i \"s/AVAILABLE/COMPLETE/g\" eqm.jobs\n",
    "!sed -i '0,/COMPLETE/s/COMPLETE/AVAILABLE/' eqm.jobs\n",
    "!sed -i '0,/COMPLETE/s/COMPLETE/AVAILABLE/' eqm.jobs\n"
   ]
  },
  {
   "cell_type": "markdown",
   "metadata": {},
   "source": [
    "Now, let run these 2 jobs"
   ]
  },
  {
   "cell_type": "code",
   "execution_count": null,
   "metadata": {},
   "outputs": [],
   "source": [
    "!xtp_parallel -e eqm -o OPTIONFILES/eqm.xml -f state.hdf5 -x 2 -s 0 -j run -q 1"
   ]
  },
  {
   "cell_type": "markdown",
   "metadata": {},
   "source": [
    "## QM calculation for pairs\n",
    "In the following step we will run QM calculations for each pair in the hdf5 file. As the calculations on the previous step, we will first write the jobs in a file, then run them and finally store the results in the state file. First, we need to copy the input to our local folder"
   ]
  },
  {
   "cell_type": "code",
   "execution_count": null,
   "metadata": {},
   "outputs": [],
   "source": [
    "!cp \"$VOTCASHARE/xtp/xml/iqm.xml\" OPTIONFILES/"
   ]
  },
  {
   "cell_type": "markdown",
   "metadata": {},
   "source": [
    "As in the previous section, we set the GWBSE mode to `G0W0`, the `ranges` to `full` and the `basisset` and `auxbasisset` to `3-21G` and `aux-def2-svp`. But we compute only the `gw` approximation. We are also going to compute a single excited state. For more information, check the [iqm calculator options](https://www.votca.org/xtp/iqm.html). We also want to compute the `singlet` couplings. "
   ]
  },
  {
   "cell_type": "code",
   "execution_count": null,
   "metadata": {},
   "outputs": [],
   "source": [
    "edit_calculator(\"iqm\", \"states\", \"1\")\n",
    "edit_calculator(\"iqm\", \"map_file\", \"system.xml\")\n",
    "edit_calculator(\"iqm\", \"gwbse_options.gwbse.ranges\", \"full\")\n",
    "edit_calculator(\"iqm\", \"gwbse_options.gwbse.tasks\", \"gw\")\n",
    "edit_calculator(\"iqm\", \"gwbse_options.gwbse.qp_solver\", \"fixedpoint\")\n",
    "edit_calculator(\"iqm\", \"gwbse_options.gwbse.qp_grid_steps\", \"100\")\n",
    "edit_calculator(\"iqm\", \"gwbse_options.gwbse.qp_grid_spacing\", \"0.01\")\n",
    "edit_calculator(\"iqm\", \"gwbse_options.gwbse.exctotal\", \"10\")\n",
    "edit_calculator(\"iqm\", \"bsecoupling.spin\", \"singlet\")\n",
    "edit_calculator(\"iqm\", \"basisset\", \"3-21G\")\n",
    "edit_calculator(\"iqm\", \"auxbasisset\", \"aux-def2-svp\")"
   ]
  },
  {
   "cell_type": "markdown",
   "metadata": {},
   "source": [
    "Before running the calculations, we need to specify in the `iqm` input which states to read into the jobfile for each segment type. The following *XML* snippet needs to be added"
   ]
  },
  {
   "cell_type": "code",
   "execution_count": null,
   "metadata": {},
   "outputs": [],
   "source": [
    "readjobfile = \"\"\"\n",
    "<readjobfile help=\"which states to read into the jobfile for each segment type\">\n",
    "     <singlet>Methane:s1</singlet>\n",
    "     <triplet>Methane:t1</triplet>\n",
    "     <electron>Methane:e1</electron>\n",
    "     <hole>Methane:h1</hole>\n",
    "</readjobfile>\n",
    "\"\"\""
   ]
  },
  {
   "cell_type": "markdown",
   "metadata": {},
   "source": [
    "The following code add the `readjobfile` section,"
   ]
  },
  {
   "cell_type": "code",
   "execution_count": null,
   "metadata": {},
   "outputs": [],
   "source": [
    "add_section(\"iqm\", readjobfile)"
   ]
  },
  {
   "cell_type": "markdown",
   "metadata": {},
   "source": [
    "Now, let's write the jobs to the file"
   ]
  },
  {
   "cell_type": "code",
   "execution_count": null,
   "metadata": {},
   "outputs": [],
   "source": [
    "!xtp_parallel -e iqm -o OPTIONFILES/iqm.xml -f state.hdf5 -s 0 -j \"write\""
   ]
  },
  {
   "cell_type": "markdown",
   "metadata": {},
   "source": [
    "From the jobs that we just write down, let's make available only the first job"
   ]
  },
  {
   "cell_type": "code",
   "execution_count": null,
   "metadata": {},
   "outputs": [],
   "source": [
    "!sed -i \"s/AVAILABLE/COMPLETE/g\" iqm.jobs\n",
    "!sed -i '0,/COMPLETE/s/COMPLETE/AVAILABLE/' iqm.jobs"
   ]
  },
  {
   "cell_type": "markdown",
   "metadata": {},
   "source": [
    "Now we can run and store the jobs results"
   ]
  },
  {
   "cell_type": "code",
   "execution_count": null,
   "metadata": {},
   "outputs": [],
   "source": [
    "!xtp_parallel -e iqm -o OPTIONFILES/iqm.xml -f state.hdf5 -x 2 -s 0 -j run -q 1"
   ]
  },
  {
   "cell_type": "markdown",
   "metadata": {},
   "source": [
    "Finally, we read the results into the state"
   ]
  },
  {
   "cell_type": "code",
   "execution_count": null,
   "metadata": {},
   "outputs": [],
   "source": [
    "!xtp_parallel -e iqm -o OPTIONFILES/iqm.xml -f state.hdf5 -j \"read\""
   ]
  },
  {
   "cell_type": "markdown",
   "metadata": {},
   "source": [
    "## Coupling\n",
    "We can now compute the classical coupling of transition in the aformentioned three stages,"
   ]
  },
  {
   "cell_type": "code",
   "execution_count": null,
   "metadata": {},
   "outputs": [],
   "source": [
    "!cp \"${VOTCASHARE}/xtp/xml/iexcitoncl.xml\" OPTIONFILES"
   ]
  },
  {
   "cell_type": "markdown",
   "metadata": {},
   "source": [
    "We need to change in the `iexcitoncl` input the name `map_file` option and add the state. check all the available of the [iexcitoncl calculator](https://www.votca.org/xtp/iexcitoncl.html)."
   ]
  },
  {
   "cell_type": "code",
   "execution_count": null,
   "metadata": {},
   "outputs": [],
   "source": [
    "edit_calculator(\"iexcitoncl\", \"map_file\", \"system.xml\")"
   ]
  },
  {
   "cell_type": "code",
   "execution_count": null,
   "metadata": {},
   "outputs": [],
   "source": [
    "state = \"<states>Methane:n2s1</states>\"\n",
    "add_section(\"iexcitoncl\", state)"
   ]
  },
  {
   "cell_type": "code",
   "execution_count": null,
   "metadata": {},
   "outputs": [],
   "source": [
    "!xtp_parallel -e iexcitoncl -o OPTIONFILES/iexcitoncl.xml -f state.hdf5 -j \"write\""
   ]
  },
  {
   "cell_type": "code",
   "execution_count": null,
   "metadata": {},
   "outputs": [],
   "source": [
    "!ls\n"
   ]
  },
  {
   "cell_type": "markdown",
   "metadata": {},
   "source": [
    "Now we can run and save the jobs. For demo purposes we will run only the first job"
   ]
  },
  {
   "cell_type": "code",
   "execution_count": null,
   "metadata": {},
   "outputs": [],
   "source": [
    "!sed -i \"s/AVAILABLE/COMPLETE/g\" exciton.jobs\n",
    "!sed -i '0,/COMPLETE/s/COMPLETE/AVAILABLE/' exciton.jobs\n",
    "!xtp_parallel -e iexcitoncl -o OPTIONFILES/iexcitoncl.xml -f state.hdf5"
   ]
  },
  {
   "cell_type": "code",
   "execution_count": null,
   "metadata": {},
   "outputs": [],
   "source": [
    "#!xtp_parallel -e iexcitoncl -o OPTIONFILES/iexcitoncl.xml -f state.hdf5 -j \"read\""
   ]
  },
  {
   "cell_type": "markdown",
   "metadata": {},
   "source": [
    "## Coupling analysis\n",
    "Using the coupling computed in the previous steps, we will generate an histogram for the squared couplings in logarithmic scale,"
   ]
  },
  {
   "cell_type": "code",
   "execution_count": null,
   "metadata": {},
   "outputs": [],
   "source": [
    "!cp \"${VOTCASHARE}/xtp/xml/ianalyze.xml\" OPTIONFILES\n",
    "edit_calculator(\"ianalyze\", \"states\", \"e,h,s\")\n",
    "!xtp_run -e ianalyze -o OPTIONFILES/ianalyze.xml -f state.hdf5"
   ]
  },
  {
   "cell_type": "markdown",
   "metadata": {},
   "source": [
    "## QMMM calculations"
   ]
  },
  {
   "cell_type": "code",
   "execution_count": null,
   "metadata": {},
   "outputs": [],
   "source": [
    "!cp qmmm.xml OPTIONFILES/\n",
    "!xtp_parallel -e qmmm -o OPTIONFILES/qmmm.xml -f state.hdf5 -j \"write\""
   ]
  },
  {
   "cell_type": "markdown",
   "metadata": {},
   "source": [
    "Lets run just the first job"
   ]
  },
  {
   "cell_type": "code",
   "execution_count": null,
   "metadata": {},
   "outputs": [],
   "source": [
    "!sed -i \"s/AVAILABLE/COMPLETE/g\" qmmm_jobs.xml                                                                                                                                                            \n",
    "!sed -i '0,/COMPLETE/s/COMPLETE/AVAILABLE/' qmmm_jobs.xml   \n",
    "!sed -i '0,/COMPLETE/s/COMPLETE/AVAILABLE/' qmmm_jobs.xml  \n",
    "!xtp_parallel -e qmmm -o OPTIONFILES/qmmm.xml -x 2 -f state.hdf5 -j run"
   ]
  },
  {
   "cell_type": "markdown",
   "metadata": {},
   "source": [
    "Finally, save the results"
   ]
  },
  {
   "cell_type": "code",
   "execution_count": null,
   "metadata": {},
   "outputs": [],
   "source": [
    "!xtp_parallel -e qmmm -o OPTIONFILES/qmmm.xml -f state.hdf5 -j \"read\""
   ]
  },
  {
   "cell_type": "code",
   "execution_count": null,
   "metadata": {},
   "outputs": [],
   "source": []
  }
 ],
 "metadata": {
  "kernelspec": {
   "display_name": "Python 3",
   "language": "python",
   "name": "python3"
  },
  "language_info": {
   "codemirror_mode": {
    "name": "ipython",
    "version": 3
   },
   "file_extension": ".py",
   "mimetype": "text/x-python",
   "name": "python",
   "nbconvert_exporter": "python",
   "pygments_lexer": "ipython3",
   "version": "3.8.10"
  }
 },
 "nbformat": 4,
 "nbformat_minor": 4
}
