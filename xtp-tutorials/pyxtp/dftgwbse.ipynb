{
 "cells": [
  {
   "cell_type": "code",
   "execution_count": null,
   "metadata": {},
   "outputs": [],
   "source": [
    "\"\"\"Example to compute energies using XTP.\"\"\"\n",
    "import os\n",
    "from ase import Atoms\n",
    "from pyxtp import xtp, Visualization"
   ]
  },
  {
   "cell_type": "code",
   "execution_count": null,
   "metadata": {},
   "outputs": [],
   "source": [
    "# create the molecule\n",
    "atoms = Atoms('CO', positions=([0,0,0],[1.4,0,0]))"
   ]
  },
  {
   "cell_type": "code",
   "execution_count": null,
   "metadata": {},
   "outputs": [],
   "source": [
    "# create the dftgwbse runner\n",
    "os.environ['VOTCASHARE'] = '/share/votca/'\n",
    "calc = xtp(nthreads=2)"
   ]
  },
  {
   "cell_type": "code",
   "execution_count": null,
   "metadata": {},
   "outputs": [],
   "source": [
    "# change options for the calculations\n",
    "# calc.options.dftpackage.functional = 'PBE'\n",
    "# calc.options.dftpackage.basisset = 'def2-svp'\n",
    "# calc.options.dftpackage.auxbasisset = 'aux-def2-svp'"
   ]
  },
  {
   "cell_type": "code",
   "execution_count": null,
   "metadata": {},
   "outputs": [],
   "source": [
    "# run the calculation\n",
    "atoms.calc = calc\n",
    "atoms.get_potential_energy()"
   ]
  },
  {
   "cell_type": "code",
   "execution_count": null,
   "metadata": {},
   "outputs": [],
   "source": [
    "# Getting the plotting functions\n",
    "viz = Visualization(atoms, save_figure=False)\n",
    "# plotting QP corrections\n",
    "viz.plot_qp_corrections()"
   ]
  },
  {
   "cell_type": "code",
   "execution_count": null,
   "metadata": {},
   "outputs": [],
   "source": [
    "# plotting absorption spectrum\n",
    "viz.plot_absorption_gaussian()"
   ]
  }
 ],
 "metadata": {
  "kernelspec": {
   "display_name": "votca2",
   "language": "python",
   "name": "python3"
  },
  "language_info": {
   "codemirror_mode": {
    "name": "ipython",
    "version": 3
   },
   "file_extension": ".py",
   "mimetype": "text/x-python",
   "name": "python",
   "nbconvert_exporter": "python",
   "pygments_lexer": "ipython3",
   "version": "3.10.0 (default, Mar  3 2022, 09:58:08) [GCC 7.5.0]"
  },
  "orig_nbformat": 4,
  "vscode": {
   "interpreter": {
    "hash": "2e7e4c2b3a31bc2757806c35e672534886811fc4a560cdb8c4d594715bae741d"
   }
  }
 },
 "nbformat": 4,
 "nbformat_minor": 2
}
