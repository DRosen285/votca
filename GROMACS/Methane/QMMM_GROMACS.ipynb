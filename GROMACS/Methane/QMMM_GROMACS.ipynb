{
 "cells": [
  {
   "cell_type": "markdown",
   "metadata": {},
   "source": [
    "# QMMM workflow using GROMACS and VOTCA-XTP"
   ]
  },
  {
   "cell_type": "markdown",
   "metadata": {},
   "source": [
    "## What is this tutorial about\n",
    "In this tutorial, we will learn how to set and perform excited state calculation using the Votca XTP library. We will use methane as our QM region."
   ]
  },
  {
   "cell_type": "markdown",
   "metadata": {},
   "source": [
    "## Requirements\n",
    "* You will need to install **VOTCA** using the instructions described [here](https://github.com/votca/votca/blob/master/share/doc/INSTALL.md)\n",
    "* Once the installation is completed you need to activate the VOTCA enviroment by running the `VOTCARC.bash` script that has been installed at the bin subfolder for the path that you have provided for the installation step above"
   ]
  },
  {
   "cell_type": "markdown",
   "metadata": {},
   "source": [
    "## Interacting with the XTP command line interface\n",
    "The XTP package offers the following command line interface that the user can interact with:\n",
    "* [xtp_map](https://votca.github.io/xtp_map.html)\n",
    "* [xtp_parallel](https://votca.github.io/xtp_parallel.html)\n",
    "* [xtp_run](https://votca.github.io/xtp_run.html)\n",
    "* [xtp_tools](https://votca.github.io/xtp_tools.html)\n",
    "\n",
    "Run the following command to view the help message of `xtp_tools`:"
   ]
  },
  {
   "cell_type": "code",
   "execution_count": 1,
   "metadata": {
    "scrolled": true
   },
   "outputs": [
    {
     "name": "stdout",
     "output_type": "stream",
     "text": [
      "==================================================\r\n",
      "========   VOTCA (http://www.votca.org)   ========\r\n",
      "==================================================\r\n",
      "\r\n",
      "please submit bugs to bugs@votca.org\r\n",
      "\r\n",
      "xtp_tools, version 1.7-dev gitid: 59c2111 (dirty) (compiled May 26 2020, 10:51:24)\r\n",
      "votca_csg, version 1.7-dev gitid: 59c2111 (dirty) (compiled May 26 2020, 10:45:05)\r\n",
      "votca_tools, version 1.7-dev gitid: 59c2111 (dirty) (compiled May 26 2020, 10:43:33)\r\n",
      "\r\n",
      "Runs excitation/charge transport tools\r\n",
      "\r\n",
      "\r\n",
      "\r\n",
      "Allowed options:\r\n",
      "  -h [ --help ]                 display this help and exit\r\n",
      "  --verbose                     be loud and noisy\r\n",
      "  --verbose1                    be very loud and noisy\r\n",
      "  -v [ --verbose2 ]             be extremly loud and noisy\r\n",
      "  -o [ --options ] arg          calculator options\r\n",
      "  -t [ --nthreads ] arg (=1)    number of threads to create\r\n",
      "\r\n",
      "Tools:\r\n",
      "  -e [ --execute ] arg        List of tools separated by ',' or ' '\r\n",
      "  -l [ --list ]               Lists all available tools\r\n",
      "  -d [ --description ] arg    Short description of a tool\r\n",
      "  -n [ --name ] arg           Name of the job to run\r\n",
      "\r\n"
     ]
    }
   ],
   "source": [
    "!xtp_tools -h"
   ]
  },
  {
   "cell_type": "markdown",
   "metadata": {},
   "source": [
    "### Note\n",
    "> * In Jupyter the `!` symbol means: *run the following command as a standard unix command*\n",
    "> * In Jupyter the command `%env` set an environmental variable"
   ]
  },
  {
   "cell_type": "markdown",
   "metadata": {},
   "source": [
    "## Setting the environment\n"
   ]
  },
  {
   "cell_type": "markdown",
   "metadata": {},
   "source": [
    "Create a folder to store the input `Options` for XTP"
   ]
  },
  {
   "cell_type": "code",
   "execution_count": 2,
   "metadata": {},
   "outputs": [],
   "source": [
    "!mkdir -p OPTIONFILES"
   ]
  },
  {
   "cell_type": "markdown",
   "metadata": {},
   "source": [
    "Remove previous hdf5 file"
   ]
  },
  {
   "cell_type": "code",
   "execution_count": 3,
   "metadata": {},
   "outputs": [],
   "source": [
    "!rm -f state.hdf5"
   ]
  },
  {
   "cell_type": "markdown",
   "metadata": {},
   "source": [
    "Import an small python module to edit xml files"
   ]
  },
  {
   "cell_type": "code",
   "execution_count": 4,
   "metadata": {},
   "outputs": [],
   "source": [
    "from xml_editor import add_section, edit_calculator\n",
    "import os"
   ]
  },
  {
   "cell_type": "markdown",
   "metadata": {},
   "source": [
    "## Generate the topology from the Gromacs file"
   ]
  },
  {
   "cell_type": "markdown",
   "metadata": {},
   "source": [
    "runs the mapping from MD coordinates to segments and creates an [hdf5 file](https://www.hdfgroup.org/solutions/hdf5/). You can explore the generated `state.hdf5` file with e.g. hdf5itebrowser. In Python, you can use the [h5py library](https://www.h5py.org/)."
   ]
  },
  {
   "cell_type": "code",
   "execution_count": 5,
   "metadata": {},
   "outputs": [
    {
     "name": "stdout",
     "output_type": "stream",
     "text": [
      "==================================================\n",
      "========   VOTCA (http://www.votca.org)   ========\n",
      "==================================================\n",
      "\n",
      "please submit bugs to bugs@votca.org\n",
      "\n",
      "xtp_map, version 1.7-dev gitid: 59c2111 (dirty) (compiled May 26 2020, 10:51:24)\n",
      "votca_csg, version 1.7-dev gitid: 59c2111 (dirty) (compiled May 26 2020, 10:45:05)\n",
      "votca_tools, version 1.7-dev gitid: 59c2111 (dirty) (compiled May 26 2020, 10:43:33)\n",
      "\n",
      "Reading file MD_FILES/topol.tpr, VERSION 5.1.1 (single precision)\n",
      "Note: file tpx version 103, software tpx version 116\n",
      "Frame with id 0 was not in statefile state.hdf5 ,adding it now.\n",
      "Writing MD topology (step = 0, time = 0) to state.hdf5\n",
      "... . \n"
     ]
    }
   ],
   "source": [
    "!xtp_map -t MD_FILES/topol.tpr -c MD_FILES/conf.gro -s system.xml -f state.hdf5"
   ]
  },
  {
   "cell_type": "markdown",
   "metadata": {},
   "source": [
    "##  Check the mapping\n",
    "\n",
    "Let us first output `.pdb` files for the segments, qmmolecules and classical segments in order to check the mapping. We will need to copy the input from the `VOTCA` installation path to our local copy."
   ]
  },
  {
   "cell_type": "code",
   "execution_count": 6,
   "metadata": {},
   "outputs": [],
   "source": [
    "!cp \"$VOTCASHARE/xtp/xml/mapchecker.xml\" OPTIONFILES/"
   ]
  },
  {
   "cell_type": "markdown",
   "metadata": {},
   "source": [
    "The `${VOTCASHARE}` environmental variable is set to the path that you provided during the `VOTCA` [installation](https://github.com/votca/votca/blob/master/share/doc/INSTALL.md), by the default is set to `/usr/local/votca`.\n",
    "\n",
    "We need to update the `mapchecker` options with the file containing the definition of the system. For doing, so we will use the python module `xml_editor` that we have imported above. The first argument is the name of the calculator (i.e. `mapchecker`), the seconds argument is the name of the option to change and the third one, the value to use."
   ]
  },
  {
   "cell_type": "code",
   "execution_count": 7,
   "metadata": {},
   "outputs": [
    {
     "name": "stdout",
     "output_type": "stream",
     "text": [
      "The option 'map_file' on file 'OPTIONFILES/mapchecker.xml' has been set to 'system.xml'\n"
     ]
    }
   ],
   "source": [
    "edit_calculator(\"mapchecker\", \"map_file\", \"system.xml\")"
   ]
  },
  {
   "cell_type": "markdown",
   "metadata": {},
   "source": [
    "In the [mapchecker section of the manual](https://votca.github.io/mapchecker.html) you can find a table with the `mapchecker` input variables and their corresponding defaults. Finally, the following command run the check"
   ]
  },
  {
   "cell_type": "code",
   "execution_count": 8,
   "metadata": {},
   "outputs": [
    {
     "name": "stdout",
     "output_type": "stream",
     "text": [
      "==================================================\n",
      "========   VOTCA (http://www.votca.org)   ========\n",
      "==================================================\n",
      "\n",
      "please submit bugs to bugs@votca.org\n",
      "\n",
      "xtp_run, version 1.7-dev gitid: 59c2111 (dirty) (compiled May 26 2020, 10:51:24)\n",
      "votca_csg, version 1.7-dev gitid: 59c2111 (dirty) (compiled May 26 2020, 10:45:05)\n",
      "votca_tools, version 1.7-dev gitid: 59c2111 (dirty) (compiled May 26 2020, 10:43:33)\n",
      "\n",
      "Initializing calculator\n",
      "... mapchecker \n",
      "1 frames in statefile, Ids are: 0 \n",
      "Starting at frame 0\n",
      "Evaluating frame 0\n",
      "Import MD Topology (i.e. frame 0) from state.hdf5\n",
      ".... \n",
      "... mapchecker \n",
      "Writing segments to md_segments_step_0.pdb\n",
      "Writing qmmolecules to qm_segments_n_step_0.pdb\n",
      "Writing polarsegments to mp_segments_e_step_0.pdb\n",
      "Writing polarsegments to mp_segments_h_step_0.pdb\n",
      "\n",
      "Changes have not been written to state file.\n"
     ]
    }
   ],
   "source": [
    "!xtp_run -e mapchecker -o OPTIONFILES/mapchecker.xml -f state.hdf5"
   ]
  },
  {
   "cell_type": "markdown",
   "metadata": {},
   "source": [
    "## Neighborlist Calculation"
   ]
  },
  {
   "cell_type": "markdown",
   "metadata": {},
   "source": [
    "The following step is to determine the neighbouring pairs for exciton transport. We will need first to get a copy of the input "
   ]
  },
  {
   "cell_type": "code",
   "execution_count": 9,
   "metadata": {},
   "outputs": [],
   "source": [
    "cp \"$VOTCASHARE/xtp/xml/neighborlist.xml\" OPTIONFILES/"
   ]
  },
  {
   "cell_type": "markdown",
   "metadata": {},
   "source": [
    "Then we will set the *cutoff* for the pairs to 0.5 nanometers. See the [neighborlist options](https://votca.github.io/neighborlist.html) for further information. "
   ]
  },
  {
   "cell_type": "code",
   "execution_count": 10,
   "metadata": {},
   "outputs": [
    {
     "name": "stdout",
     "output_type": "stream",
     "text": [
      "The option 'constant' on file 'OPTIONFILES/neighborlist.xml' has been set to '0.6'\n"
     ]
    }
   ],
   "source": [
    "exciton_cutoff = \"\"\"\n",
    "<exciton_cutoff>0.5</exciton_cutoff>\n",
    "\"\"\"\n",
    "segments = \"\"\"\n",
    "<segments>\n",
    "  <type>DCV5T_ME3 DCV5T_ME3</type>\n",
    "  <cutoff>3</cutoff>\n",
    "</segments>\n",
    "\"\"\"\n",
    "add_section(\"neighborlist\", exciton_cutoff)\n",
    "add_section(\"neighborlist\", segments)\n",
    "edit_calculator(\"neighborlist\", \"constant\", \"0.6\")"
   ]
  },
  {
   "cell_type": "markdown",
   "metadata": {},
   "source": [
    "Finally, we can run the calculation using 4 threads"
   ]
  },
  {
   "cell_type": "code",
   "execution_count": 11,
   "metadata": {},
   "outputs": [
    {
     "name": "stdout",
     "output_type": "stream",
     "text": [
      "==================================================\n",
      "========   VOTCA (http://www.votca.org)   ========\n",
      "==================================================\n",
      "\n",
      "please submit bugs to bugs@votca.org\n",
      "\n",
      "xtp_run, version 1.7-dev gitid: 59c2111 (dirty) (compiled May 26 2020, 10:51:24)\n",
      "votca_csg, version 1.7-dev gitid: 59c2111 (dirty) (compiled May 26 2020, 10:45:05)\n",
      "votca_tools, version 1.7-dev gitid: 59c2111 (dirty) (compiled May 26 2020, 10:43:33)\n",
      "\n",
      "Initializing calculator\n",
      "... neighborlist \n",
      "1 frames in statefile, Ids are: 0 \n",
      "Starting at frame 0\n",
      "Evaluating frame 0\n",
      "Import MD Topology (i.e. frame 0) from state.hdf5\n",
      ".... \n",
      "... neighborlist  Using 4 threads\n",
      "Evaluating 1000 segments for neighborlist. \n",
      " ... ... Evaluating \n",
      "0%   10   20   30   40   50   60   70   80   90   100%\n",
      "|----|----|----|----|----|----|----|----|----|----|\n",
      "***************************************************\n",
      "\n",
      " ... ... Created 21093 direct pairs.\n",
      " ... ... Determining classical pairs \n",
      " ... ... Found 8586 classical pairs \n",
      "\n",
      "Writing MD topology (step = 0, time = 0) to state.hdf5\n",
      "... . \n"
     ]
    }
   ],
   "source": [
    "!xtp_run -e neighborlist -o OPTIONFILES/neighborlist.xml -f state.hdf5 -t 4"
   ]
  },
  {
   "cell_type": "markdown",
   "metadata": {},
   "source": [
    "## Read reorganization energies\n",
    "In this step we will read the in site reorganization energies and store them in the `state.hdf5` file. We just need to copy the input file and execute the calculation"
   ]
  },
  {
   "cell_type": "code",
   "execution_count": 12,
   "metadata": {},
   "outputs": [
    {
     "name": "stdout",
     "output_type": "stream",
     "text": [
      "==================================================\n",
      "========   VOTCA (http://www.votca.org)   ========\n",
      "==================================================\n",
      "\n",
      "please submit bugs to bugs@votca.org\n",
      "\n",
      "xtp_run, version 1.7-dev gitid: 59c2111 (dirty) (compiled May 26 2020, 10:51:24)\n",
      "votca_csg, version 1.7-dev gitid: 59c2111 (dirty) (compiled May 26 2020, 10:45:05)\n",
      "votca_tools, version 1.7-dev gitid: 59c2111 (dirty) (compiled May 26 2020, 10:43:33)\n",
      "\n",
      "Initializing calculator\n",
      "... einternal \n",
      "1 frames in statefile, Ids are: 0 \n",
      "Starting at frame 0\n",
      "Evaluating frame 0\n",
      "Import MD Topology (i.e. frame 0) from state.hdf5\n",
      ".... \n",
      "... einternal \n",
      "... ... Site, reorg. energies from system.xml.\n",
      "\n",
      "... ... Read in site, reorg. energies for 1000 segments. \n",
      "Writing MD topology (step = 0, time = 0) to state.hdf5\n",
      "... . \n"
     ]
    }
   ],
   "source": [
    "!cp \"$VOTCASHARE/xtp/xml/einternal.xml\" OPTIONFILES/\n",
    "!xtp_run -e einternal -o OPTIONFILES/einternal.xml -f state.hdf5"
   ]
  },
  {
   "cell_type": "markdown",
   "metadata": {},
   "source": [
    "## Compute site energy\n",
    "In this step we will perform some *QMMM* calculations to compute the site energies. The `qmmm_mm.xml` file contains some predefined settings to perform the *MM* calculations. Let us first copy these settings into the state file,"
   ]
  },
  {
   "cell_type": "code",
   "execution_count": 13,
   "metadata": {},
   "outputs": [
    {
     "name": "stdout",
     "output_type": "stream",
     "text": [
      " This is a XTP app\n",
      "==================================================\n",
      "========   VOTCA (http://www.votca.org)   ========\n",
      "==================================================\n",
      "\n",
      "please submit bugs to bugs@votca.org\n",
      "\n",
      "xtp_parallel, version 1.7-dev gitid: 59c2111 (dirty) (compiled May 26 2020, 10:51:24)\n",
      "votca_csg, version 1.7-dev gitid: 59c2111 (dirty) (compiled May 26 2020, 10:45:05)\n",
      "votca_tools, version 1.7-dev gitid: 59c2111 (dirty) (compiled May 26 2020, 10:43:33)\n",
      "\n",
      "Initializing calculator \n",
      "... qmmm \n",
      "... ... Initialized with 1 threads.\n",
      "\n",
      "... ... Using 1 openmp threads for 1x1=1 total threads.\n",
      "1 frames in statefile, Ids are: 0 \n",
      "Starting at frame 0\n",
      "Evaluating frame 0\n",
      "Import MD Topology (i.e. frame 0) from state.hdf5\n",
      ".... \n",
      "... qmmm \n",
      "... ... Writing job file qmmm_mm_jobs.xml\n",
      "... ... In total 4001 jobs\n",
      "Changes have not been written to state file.\n"
     ]
    }
   ],
   "source": [
    "!cp qmmm_mm.xml OPTIONFILES\n",
    "!xtp_parallel -e qmmm -o OPTIONFILES/qmmm_mm.xml -f state.hdf5 -j \"write\""
   ]
  },
  {
   "cell_type": "markdown",
   "metadata": {},
   "source": [
    "The previous command generates a `qmmm_mm_jobs.xml` containing 4000 *MM* jobs to compute, if you examine that file, it should look something like"
   ]
  },
  {
   "cell_type": "markdown",
   "metadata": {},
   "source": [
    "```xml\n",
    "<jobs>\n",
    "  <job>\n",
    "    <id>0</id>\n",
    "    <tag>Methane_0:n</tag>\n",
    "    <input>\n",
    "      <site_energies>0:n</site_energies>\n",
    "      <regions>\n",
    "        <region>\n",
    "          <id>0</id>\n",
    "          <segments>0:n</segments>\n",
    "        </region>\n",
    "      </regions>\n",
    "    </input>\n",
    "    <status>AVAILABLE</status>\n",
    "  </job>    \n",
    "...\n",
    "```"
   ]
  },
  {
   "cell_type": "markdown",
   "metadata": {},
   "source": [
    "Let us run just the first 4 jobs by settings all jobs `status` to `COMPLETE` except for the first four. This can be easily done with [sed](https://www.gnu.org/software/sed/manual/sed.html) as follows,"
   ]
  },
  {
   "cell_type": "code",
   "execution_count": 14,
   "metadata": {},
   "outputs": [],
   "source": [
    "!sed -i \"s/AVAILABLE/COMPLETE/g\" qmmm_mm_jobs.xml\n",
    "!sed -i '0,/COMPLETE/s/COMPLETE/AVAILABLE/' qmmm_mm_jobs.xml\n",
    "!sed -i '0,/COMPLETE/s/COMPLETE/AVAILABLE/' qmmm_mm_jobs.xml\n",
    "!sed -i '0,/COMPLETE/s/COMPLETE/AVAILABLE/' qmmm_mm_jobs.xml\n",
    "!sed -i '0,/COMPLETE/s/COMPLETE/AVAILABLE/' qmmm_mm_jobs.xml"
   ]
  },
  {
   "cell_type": "markdown",
   "metadata": {},
   "source": [
    "Now we can run the jobs and save the results in the state file"
   ]
  },
  {
   "cell_type": "code",
   "execution_count": 15,
   "metadata": {},
   "outputs": [
    {
     "name": "stdout",
     "output_type": "stream",
     "text": [
      " This is a XTP app\n",
      "==================================================\n",
      "========   VOTCA (http://www.votca.org)   ========\n",
      "==================================================\n",
      "\n",
      "please submit bugs to bugs@votca.org\n",
      "\n",
      "xtp_parallel, version 1.7-dev gitid: 59c2111 (dirty) (compiled May 26 2020, 10:51:24)\n",
      "votca_csg, version 1.7-dev gitid: 59c2111 (dirty) (compiled May 26 2020, 10:45:05)\n",
      "votca_tools, version 1.7-dev gitid: 59c2111 (dirty) (compiled May 26 2020, 10:43:33)\n",
      "\n",
      "Initializing calculator \n",
      "... qmmm \n",
      "... ... Initialized with 1 threads.\n",
      "\n",
      "... ... Using 1 openmp threads for 1x1=1 total threads.\n",
      "1 frames in statefile, Ids are: 0 \n",
      "Starting at frame 0\n",
      "Evaluating frame 0\n",
      "Import MD Topology (i.e. frame 0) from state.hdf5\n",
      ".... \n",
      "... qmmm \n",
      "MST ERR Job file = 'qmmm_mm_jobs.xml', cache size =  8\n",
      "MST ERR Initialize jobs from qmmm_mm_jobs.xml\n",
      "MST ERR Registered 4000 jobs.\n",
      "T00 ERR ... Requesting next job\n",
      "T00 ERR ... Assign jobs from stack\n",
      "T00 ERR ... Next job: ID = 0=> [ 0%] \n",
      "T00 ERR ...  Regions created\n",
      "T00 ERR ... Id: 0 type: polar size: 17 charge[e]= -9.29812e-16\n",
      "T00 ERR ... Id: 1 type: static size: 254 charge[e]= -1.4086e-14\n",
      "T00 ERR ... 2020-5-26 17:38:19 Writing jobtopology to MMMM/frame_0/job_0_Methane_0:n/regions.pdb\n",
      "T00 ERR ... 2020-5-26 17:38:19 Only 1 scf region is used. The remaining regions are static. So no inter regions scf is required. \n",
      "T00 ERR ... 2020-5-26 17:38:19 --Inter Region SCF Iteration 1 of 1\n",
      "T00 ERR ... 2020-5-26 17:38:19 Evaluating polar 0\n",
      "T00 ERR ... 2020-5-26 17:38:19 Evaluating interaction between polar 0 and static 1\n",
      "T00 ERR ... 2020-5-26 17:38:19 Starting Solving for classical polarization with 255 degrees of freedom.\n",
      "T00 ERR ... 2020-5-26 17:38:19 CG: #iterations: 7, estimated error: 4.15528e-06\n",
      "T00 ERR ...   Total static energy [hrt]= 8.121948104e-05\n",
      "T00 ERR ...   Total polar energy [hrt]= -0.0001235439304\n",
      "T00 ERR ...  Total energy [hrt]= -4.232444937e-05\n",
      "T00 ERR ... 2020-5-26 17:38:19 Evaluating static 1\n",
      "T00 ERR ... 2020-5-26 17:38:19 Writing checkpoint to checkpoint_iter_1.hdf5\n",
      "T00 ERR ... Reporting job results\n",
      "\n",
      "T00 ERR ... Requesting next job\n",
      "T00 ERR ... Next job: ID = 1\n",
      "T00 ERR ...  Regions created\n",
      "T00 ERR ... Id: 0 type: polar size: 17 charge[e]= -1\n",
      "T00 ERR ... Id: 1 type: static size: 254 charge[e]= -1.408595462e-14\n",
      "T00 ERR ... 2020-5-26 17:38:20 Writing jobtopology to MMMM/frame_0/job_1_Methane_0:e/regions.pdb\n",
      "T00 ERR ... 2020-5-26 17:38:20 Only 1 scf region is used. The remaining regions are static. So no inter regions scf is required. \n",
      "T00 ERR ... 2020-5-26 17:38:20 --Inter Region SCF Iteration 1 of 1\n",
      "T00 ERR ... 2020-5-26 17:38:20 Evaluating polar 0\n",
      "T00 ERR ... 2020-5-26 17:38:20 Evaluating interaction between polar 0 and static 1\n",
      "T00 ERR ... 2020-5-26 17:38:20 Starting Solving for classical polarization with 255 degrees of freedom.\n",
      "T00 ERR ... 2020-5-26 17:38:20 CG: #iterations: 27, estimated error: 7.948128475e-06\n",
      "T00 ERR ...   Total static energy [hrt]= -0.0009055590147\n",
      "T00 ERR ...   Total polar energy [hrt]= -0.03058901395\n",
      "T00 ERR ...  Total energy [hrt]= -0.03149457296\n",
      "T00 ERR ... 2020-5-26 17:38:20 Evaluating static 1\n",
      "T00 ERR ... 2020-5-26 17:38:20 Writing checkpoint to checkpoint_iter_1.hdf5\n",
      "T00 ERR ... Reporting job results\n",
      "\n",
      "T00 ERR ... Requesting next job\n",
      "T00 ERR ... Next job: ID = 2\n",
      "T00 ERR ...  Regions created\n",
      "T00 ERR ... Id: 0 type: polar size: 17 charge[e]= 1\n",
      "T00 ERR ... Id: 1 type: static size: 254 charge[e]= -1.408595462e-14\n",
      "T00 ERR ... 2020-5-26 17:38:20 Writing jobtopology to MMMM/frame_0/job_2_Methane_0:h/regions.pdb\n",
      "T00 ERR ... 2020-5-26 17:38:20 Only 1 scf region is used. The remaining regions are static. So no inter regions scf is required. \n",
      "T00 ERR ... 2020-5-26 17:38:20 --Inter Region SCF Iteration 1 of 1\n",
      "T00 ERR ... 2020-5-26 17:38:20 Evaluating polar 0\n",
      "T00 ERR ... 2020-5-26 17:38:20 Evaluating interaction between polar 0 and static 1\n",
      "T00 ERR ... 2020-5-26 17:38:20 Starting Solving for classical polarization with 255 degrees of freedom.\n",
      "T00 ERR ... 2020-5-26 17:38:20 CG: #iterations: 7, estimated error: 3.581023691e-06\n",
      "T00 ERR ...   Total static energy [hrt]= 0.001994038371\n",
      "T00 ERR ...   Total polar energy [hrt]= -0.02768723938\n",
      "T00 ERR ...  Total energy [hrt]= -0.02569320101\n",
      "T00 ERR ... 2020-5-26 17:38:20 Evaluating static 1\n",
      "T00 ERR ... 2020-5-26 17:38:20 Writing checkpoint to checkpoint_iter_1.hdf5\n",
      "T00 ERR ... Reporting job results\n",
      "\n",
      "T00 ERR ... Requesting next job\n",
      "T00 ERR ... Next job: ID = 3\n",
      "T00 ERR ...  Regions created\n",
      "T00 ERR ... Id: 0 type: polar size: 17 charge[e]= -7.632783294e-16\n",
      "T00 ERR ... Id: 1 type: static size: 254 charge[e]= -1.408595462e-14\n",
      "T00 ERR ... 2020-5-26 17:38:20 Writing jobtopology to MMMM/frame_0/job_3_Methane_0:s1/regions.pdb\n",
      "T00 ERR ... 2020-5-26 17:38:20 Only 1 scf region is used. The remaining regions are static. So no inter regions scf is required. \n",
      "T00 ERR ... 2020-5-26 17:38:20 --Inter Region SCF Iteration 1 of 1\n",
      "T00 ERR ... 2020-5-26 17:38:20 Evaluating polar 0\n",
      "T00 ERR ... 2020-5-26 17:38:20 Evaluating interaction between polar 0 and static 1\n",
      "T00 ERR ... 2020-5-26 17:38:20 Starting Solving for classical polarization with 255 degrees of freedom.\n",
      "T00 ERR ... 2020-5-26 17:38:20 CG: #iterations: 7, estimated error: 5.171454294e-06\n",
      "T00 ERR ...   Total static energy [hrt]= 0.0002401293715\n",
      "T00 ERR ...   Total polar energy [hrt]= -0.0004782854375\n",
      "T00 ERR ...  Total energy [hrt]= -0.000238156066\n",
      "T00 ERR ... 2020-5-26 17:38:20 Evaluating static 1\n",
      "T00 ERR ... 2020-5-26 17:38:20 Writing checkpoint to checkpoint_iter_1.hdf5\n",
      "T00 ERR ... Reporting job results\n",
      "\n",
      "T00 ERR ... Requesting next job\n",
      "T00 ERR ... Assign jobs from stack\n",
      "T00 ERR ... Sync did not yield any new jobs.\n",
      "T00 ERR ... Next job: ID = - (none available)\n",
      "MST ERR Assign jobs from stack\n",
      "Changes have not been written to state file.\n",
      " This is a XTP app\n",
      "==================================================\n",
      "========   VOTCA (http://www.votca.org)   ========\n",
      "==================================================\n",
      "\n",
      "please submit bugs to bugs@votca.org\n",
      "\n",
      "xtp_parallel, version 1.7-dev gitid: 59c2111 (dirty) (compiled May 26 2020, 10:51:24)\n",
      "votca_csg, version 1.7-dev gitid: 59c2111 (dirty) (compiled May 26 2020, 10:45:05)\n",
      "votca_tools, version 1.7-dev gitid: 59c2111 (dirty) (compiled May 26 2020, 10:43:33)\n",
      "\n",
      "Initializing calculator \n",
      "... qmmm \n",
      "... ... Initialized with 1 threads.\n",
      "\n",
      "... ... Using 1 openmp threads for 1x1=1 total threads.\n",
      "1 frames in statefile, Ids are: 0 \n",
      "Starting at frame 0\n",
      "Evaluating frame 0\n",
      "Import MD Topology (i.e. frame 0) from state.hdf5\n",
      ".... \n",
      "... qmmm \n",
      "Found 1 states of type e\n",
      "Found 1 states of type h\n",
      "Found 1 states of type s\n",
      "Found 1 states of type n\n",
      "3996 incomplete jobs found.\n",
      "\n",
      "Writing MD topology (step = 0, time = 0) to state.hdf5\n",
      "... . \n"
     ]
    }
   ],
   "source": [
    "!xtp_parallel -e qmmm -o OPTIONFILES/qmmm_mm.xml -f state.hdf5 -j \"run\"\n",
    "!xtp_parallel -e qmmm -o OPTIONFILES/qmmm_mm.xml -f state.hdf5 -j \"read\""
   ]
  },
  {
   "cell_type": "markdown",
   "metadata": {},
   "source": [
    "## Site energy and pair energy analysis\n",
    "In this step we generate an histogram and compute the correlation function of site energies and pair energy differences."
   ]
  },
  {
   "cell_type": "code",
   "execution_count": 16,
   "metadata": {},
   "outputs": [
    {
     "name": "stdout",
     "output_type": "stream",
     "text": [
      "==================================================\n",
      "========   VOTCA (http://www.votca.org)   ========\n",
      "==================================================\n",
      "\n",
      "please submit bugs to bugs@votca.org\n",
      "\n",
      "xtp_run, version 1.7-dev gitid: 59c2111 (dirty) (compiled May 26 2020, 10:51:24)\n",
      "votca_csg, version 1.7-dev gitid: 59c2111 (dirty) (compiled May 26 2020, 10:45:05)\n",
      "votca_tools, version 1.7-dev gitid: 59c2111 (dirty) (compiled May 26 2020, 10:43:33)\n",
      "\n",
      "Initializing calculator\n",
      "... eanalyze \n",
      "1 frames in statefile, Ids are: 0 \n",
      "Starting at frame 0\n",
      "Evaluating frame 0\n",
      "Import MD Topology (i.e. frame 0) from state.hdf5\n",
      ".... \n",
      "... eanalyze \n",
      "... ... Short-listed 1000 segments (pattern='*')\n",
      "... ... ... NOTE Statistics of site energies and spatial correlations thereof are based on the short-listed segments only. \n",
      "... ... ...      Statistics of site-energy differences operate on the full list.\n",
      "... ... excited state e\n",
      "... ... excited state h\n",
      "... ... excited state s\n",
      "... ... excited state t\n",
      "Changes have not been written to state file.\n"
     ]
    }
   ],
   "source": [
    "!cp \"$VOTCASHARE/xtp/xml/eanalyze.xml\" OPTIONFILES/\n",
    "!xtp_run -e eanalyze -o OPTIONFILES/eanalyze.xml -f state.hdf5"
   ]
  },
  {
   "cell_type": "markdown",
   "metadata": {},
   "source": [
    "You should now see a bunch of files prefix with `eanalyze` containing the histrogram and correlation functions."
   ]
  },
  {
   "cell_type": "code",
   "execution_count": 17,
   "metadata": {},
   "outputs": [
    {
     "name": "stdout",
     "output_type": "stream",
     "text": [
      "eanalyze.pairhist_e.out  eanalyze.pairlist_s.out  eanalyze.sitehist_e.out\r\n",
      "eanalyze.pairhist_h.out  eanalyze.pairlist_t.out  eanalyze.sitehist_h.out\r\n",
      "eanalyze.pairhist_s.out  eanalyze.sitecorr_e.out  eanalyze.sitehist_s.out\r\n",
      "eanalyze.pairhist_t.out  eanalyze.sitecorr_h.out  eanalyze.sitehist_t.out\r\n",
      "eanalyze.pairlist_e.out  eanalyze.sitecorr_s.out\r\n",
      "eanalyze.pairlist_h.out  eanalyze.sitecorr_t.out\r\n"
     ]
    }
   ],
   "source": [
    "!ls eanalyze*"
   ]
  },
  {
   "cell_type": "markdown",
   "metadata": {},
   "source": [
    "## QM energy calculation\n",
    "Our next task is to perform the qm calculations for each segment that we have stored in the hdf5 file. The calculations take place in 3 stages: write the jobs to a file, perform the computation and finally save the results to the state file. We will first copy the input into our local folder"
   ]
  },
  {
   "cell_type": "code",
   "execution_count": 18,
   "metadata": {},
   "outputs": [],
   "source": [
    "!cp \"$VOTCASHARE/xtp/xml/eqm.xml\" OPTIONFILES/"
   ]
  },
  {
   "cell_type": "markdown",
   "metadata": {},
   "source": [
    "Now we set the GWBSE mode to `G0W0` and  the `ranges` to `full`. For more information, check the [eqm calculator options](https://votca.github.io/eqm.html)."
   ]
  },
  {
   "cell_type": "code",
   "execution_count": 19,
   "metadata": {},
   "outputs": [
    {
     "name": "stdout",
     "output_type": "stream",
     "text": [
      "The option 'gwbse_options.gwbse.ranges' on file 'OPTIONFILES/eqm.xml' has been set to 'full'\n",
      "The option 'gwbse_options.gwbse.mode' on file 'OPTIONFILES/eqm.xml' has been set to 'G0W0'\n",
      "The option 'map_file' on file 'OPTIONFILES/eqm.xml' has been set to 'system.xml'\n"
     ]
    }
   ],
   "source": [
    "edit_calculator(\"eqm\", \"gwbse_options.gwbse.ranges\", \"full\")\n",
    "edit_calculator(\"eqm\", \"gwbse_options.gwbse.mode\", \"G0W0\")\n",
    "edit_calculator(\"eqm\", \"map_file\", \"system.xml\")"
   ]
  },
  {
   "cell_type": "markdown",
   "metadata": {},
   "source": [
    "For the sake of computational time let just compute the `gw` approximation and the `singlet`. You can also request the `triplet` or `all`,  see the [gwbse sectionfor the eqm calculator](https://votca.github.io/eqm.html)."
   ]
  },
  {
   "cell_type": "code",
   "execution_count": 20,
   "metadata": {},
   "outputs": [
    {
     "name": "stdout",
     "output_type": "stream",
     "text": [
      "The option 'gwbse_options.gwbse.tasks' on file 'OPTIONFILES/eqm.xml' has been set to 'gw,singlets'\n"
     ]
    }
   ],
   "source": [
    "edit_calculator(\"eqm\", \"gwbse_options.gwbse.tasks\", \"gw,singlets\")"
   ]
  },
  {
   "cell_type": "markdown",
   "metadata": {},
   "source": [
    "First we will write the job in a file and enable only the first 3,\n"
   ]
  },
  {
   "cell_type": "code",
   "execution_count": 21,
   "metadata": {},
   "outputs": [
    {
     "name": "stdout",
     "output_type": "stream",
     "text": [
      " This is a XTP app\n",
      "==================================================\n",
      "========   VOTCA (http://www.votca.org)   ========\n",
      "==================================================\n",
      "\n",
      "please submit bugs to bugs@votca.org\n",
      "\n",
      "xtp_parallel, version 1.7-dev gitid: 59c2111 (dirty) (compiled May 26 2020, 10:51:24)\n",
      "votca_csg, version 1.7-dev gitid: 59c2111 (dirty) (compiled May 26 2020, 10:45:05)\n",
      "votca_tools, version 1.7-dev gitid: 59c2111 (dirty) (compiled May 26 2020, 10:43:33)\n",
      "\n",
      "Initializing calculator \n",
      "... eqm \n",
      "... ... Initialized with 1 threads.\n",
      "\n",
      "... ... Using 1 openmp threads for 1x1=1 total threads.\n",
      "1 frames in statefile, Ids are: 0 \n",
      "Starting at frame 0\n",
      "Evaluating frame 0\n",
      "Import MD Topology (i.e. frame 0) from state.hdf5\n",
      ".... \n",
      "... eqm \n",
      "... ... Writing job file: eqm.jobs1000 jobs\n",
      "Changes have not been written to state file.\n"
     ]
    }
   ],
   "source": [
    "!xtp_parallel -e eqm -o OPTIONFILES/eqm.xml -f state.hdf5 -s 0 -j \"write\"\n",
    "!sed -i \"s/AVAILABLE/COMPLETE/g\" eqm.jobs\n",
    "!sed -i '0,/COMPLETE/s/COMPLETE/AVAILABLE/' eqm.jobs\n",
    "!sed -i '0,/COMPLETE/s/COMPLETE/AVAILABLE/' eqm.jobs\n",
    "!sed -i '0,/COMPLETE/s/COMPLETE/AVAILABLE/' eqm.jobs"
   ]
  },
  {
   "cell_type": "markdown",
   "metadata": {},
   "source": [
    "Now, let run this 3 jobs"
   ]
  },
  {
   "cell_type": "code",
   "execution_count": 22,
   "metadata": {},
   "outputs": [
    {
     "name": "stdout",
     "output_type": "stream",
     "text": [
      " This is a XTP app\n",
      "==================================================\n",
      "========   VOTCA (http://www.votca.org)   ========\n",
      "==================================================\n",
      "\n",
      "please submit bugs to bugs@votca.org\n",
      "\n",
      "xtp_parallel, version 1.7-dev gitid: 59c2111 (dirty) (compiled May 26 2020, 10:51:24)\n",
      "votca_csg, version 1.7-dev gitid: 59c2111 (dirty) (compiled May 26 2020, 10:45:05)\n",
      "votca_tools, version 1.7-dev gitid: 59c2111 (dirty) (compiled May 26 2020, 10:43:33)\n",
      "\n",
      "Initializing calculator \n",
      "... eqm \n",
      "... ... Initialized with 1 threads.\n",
      "\n",
      "... ... Using 1 openmp threads for 1x1=1 total threads.\n",
      "1 frames in statefile, Ids are: 0 \n",
      "Starting at frame 0\n",
      "Evaluating frame 0\n",
      "Import MD Topology (i.e. frame 0) from state.hdf5\n",
      ".... \n",
      "... eqm \n",
      "MST ERR Job file = 'eqm.jobs', cache size =  1\n",
      "MST ERR Initialize jobs from eqm.jobs\n",
      "MST ERR Registered 1000 jobs.\n",
      "T00 ERR ... Requesting next job\n",
      "T00 ERR ... Assign jobs from stack\n",
      "T00 ERR ... Next job: ID = 0=> [ 0%] \n",
      "T00 ERR ... 2020-5-26 17:38:25 Evaluating site 0\n",
      "T00 ERR ... Running DFT\n",
      "T00 ERR ... Running GWBSE\n",
      "T00 ERR ... Running ESPFIT\n",
      "T00 ERR ... ===== Running on 1 threads ===== \n",
      "T00 ERR ... 2020-5-26 17:38:32 Calculated Densities at Numerical Grid, Number of electrons is -4.68596e-08\n",
      "T00 ERR ... 2020-5-26 17:38:32 Calculating ESP at CHELPG grid points\n",
      "T00 ERR ... 2020-5-26 17:38:34 Netcharge constrained to 0\n",
      "T00 ERR ...  Sum of fitted charges: 1.11022e-16\n",
      "T00 ERR ...  RMSE of fit:  0.00128917\n",
      "T00 ERR ...  RRMSE of fit: 0.0786889\n",
      "T00 ERR ... El Dipole from fitted charges [e*bohr]:\n",
      "\t\t dx = +0.4645 dy = -0.4968 dz = +0.3901 |d|^2 = +0.6148\n",
      "T00 ERR ... El Dipole from exact qm density [e*bohr]:\n",
      "\t\t dx = +0.4983 dy = -0.5339 dz = +0.4193 |d|^2 = +0.7092\n",
      "T00 ERR ... Written charges to MP_FILES/frame_0/n2s1/Methane_0_n2s1.mps\n",
      "T00 ERR ... 2020-5-26 17:38:34 Finished evaluating site 0\n",
      "T00 ERR ... Saving data to molecule_0.orb\n",
      "T00 ERR ... Reporting job results\n",
      "\n",
      "T00 ERR ... Requesting next job\n",
      "T00 ERR ... Assign jobs from stack\n",
      "T00 ERR ... Next job: ID = 1\n",
      "T00 ERR ... 2020-5-26 17:38:34 Evaluating site 1\n",
      "T00 ERR ... Running DFT\n",
      "T00 ERR ... Running GWBSE\n",
      "T00 ERR ... Running ESPFIT\n",
      "T00 ERR ... ===== Running on 1 threads ===== \n",
      "T00 ERR ... 2020-5-26 17:38:42 Calculated Densities at Numerical Grid, Number of electrons is -3.99919e-08\n",
      "T00 ERR ... 2020-5-26 17:38:42 Calculating ESP at CHELPG grid points\n",
      "T00 ERR ... 2020-5-26 17:38:43 Netcharge constrained to 0\n",
      "T00 ERR ...  Sum of fitted charges: -1.11022e-16\n",
      "T00 ERR ...  RMSE of fit:  0.00131071\n",
      "T00 ERR ...  RRMSE of fit: 0.0783771\n",
      "T00 ERR ... El Dipole from fitted charges [e*bohr]:\n",
      "\t\t dx = +0.5240 dy = +0.1710 dz = +0.5770 |d|^2 = +0.6368\n",
      "T00 ERR ... El Dipole from exact qm density [e*bohr]:\n",
      "\t\t dx = +0.5631 dy = +0.1837 dz = +0.6199 |d|^2 = +0.7352\n",
      "T00 ERR ... Written charges to MP_FILES/frame_0/n2s1/Methane_1_n2s1.mps\n",
      "T00 ERR ... 2020-5-26 17:38:43 Finished evaluating site 1\n",
      "T00 ERR ... Saving data to molecule_1.orb\n",
      "T00 ERR ... Reporting job results\n",
      "\n",
      "T00 ERR ... Requesting next job\n",
      "T00 ERR ... Assign jobs from stack\n",
      "T00 ERR ... Next job: ID = 2\n",
      "T00 ERR ... 2020-5-26 17:38:43 Evaluating site 2\n",
      "T00 ERR ... Running DFT\n",
      "T00 ERR ... Running GWBSE\n",
      "T00 ERR ... Running ESPFIT\n",
      "T00 ERR ... ===== Running on 1 threads ===== \n",
      "T00 ERR ... 2020-5-26 17:38:51 Calculated Densities at Numerical Grid, Number of electrons is -6.5374e-08\n",
      "T00 ERR ... 2020-5-26 17:38:51 Calculating ESP at CHELPG grid points\n",
      "T00 ERR ... 2020-5-26 17:38:53 Netcharge constrained to 0\n",
      "T00 ERR ...  Sum of fitted charges: -9.02056e-17\n",
      "T00 ERR ...  RMSE of fit:  0.00132563\n",
      "T00 ERR ...  RRMSE of fit: 0.080288\n",
      "T00 ERR ... El Dipole from fitted charges [e*bohr]:\n",
      "\t\t dx = +0.2304 dy = -0.0368 dz = +0.7519 |d|^2 = +0.6198\n",
      "T00 ERR ... El Dipole from exact qm density [e*bohr]:\n",
      "\t\t dx = +0.2479 dy = -0.0396 dz = +0.8087 |d|^2 = +0.7170\n",
      "T00 ERR ... Written charges to MP_FILES/frame_0/n2s1/Methane_2_n2s1.mps\n",
      "T00 ERR ... 2020-5-26 17:38:53 Finished evaluating site 2\n",
      "T00 ERR ... Saving data to molecule_2.orb\n",
      "T00 ERR ... Reporting job results\n",
      "\n",
      "T00 ERR ... Requesting next job\n",
      "T00 ERR ... Assign jobs from stack\n",
      "T00 ERR ... Sync did not yield any new jobs.\n",
      "T00 ERR ... Next job: ID = - (none available)\n",
      "MST ERR Assign jobs from stack\n",
      "Changes have not been written to state file.\n"
     ]
    }
   ],
   "source": [
    "!xtp_parallel -e eqm -o OPTIONFILES/eqm.xml -f state.hdf5 -s 0 -j run -c 1"
   ]
  },
  {
   "cell_type": "markdown",
   "metadata": {},
   "source": [
    "## QM calculation for pairs\n",
    "In the following step we will run QM calculations for each pair in the hdf5 file. As the calculations on the previous step, we will first write the jobs in a file, then run them and finally store the results in the state file. First, we need to copy the input to our local folder"
   ]
  },
  {
   "cell_type": "code",
   "execution_count": 23,
   "metadata": {},
   "outputs": [],
   "source": [
    "!cp \"$VOTCASHARE/xtp/xml/iqm.xml\" OPTIONFILES/"
   ]
  },
  {
   "cell_type": "markdown",
   "metadata": {},
   "source": [
    "As in the previous section, we set the GWBSE mode to `G0W0`and the `ranges` to `full`, but we compute only the `gw` approximation. We are also going to compute a single excited state. For more information, check the [iqm calculator options](https://votca.github.io/iqm.html). We also want to compute the `singlet` couplings. "
   ]
  },
  {
   "cell_type": "code",
   "execution_count": 24,
   "metadata": {},
   "outputs": [
    {
     "name": "stdout",
     "output_type": "stream",
     "text": [
      "The option 'states' on file 'OPTIONFILES/iqm.xml' has been set to '1'\n",
      "The option 'map_file' on file 'OPTIONFILES/iqm.xml' has been set to 'system.xml'\n",
      "The option 'gwbse_options.gwbse.ranges' on file 'OPTIONFILES/iqm.xml' has been set to 'full'\n",
      "The option 'gwbse_options.gwbse.tasks' on file 'OPTIONFILES/iqm.xml' has been set to 'gw'\n",
      "The option 'bsecoupling.spin' on file 'OPTIONFILES/iqm.xml' has been set to 'singlet'\n"
     ]
    }
   ],
   "source": [
    "edit_calculator(\"iqm\", \"states\", \"1\")\n",
    "edit_calculator(\"iqm\", \"map_file\", \"system.xml\")\n",
    "edit_calculator(\"iqm\", \"gwbse_options.gwbse.ranges\", \"full\")\n",
    "edit_calculator(\"iqm\", \"gwbse_options.gwbse.tasks\", \"gw\")\n",
    "edit_calculator(\"iqm\", \"bsecoupling.spin\", \"singlet\")"
   ]
  },
  {
   "cell_type": "markdown",
   "metadata": {},
   "source": [
    "Before running the calculations, we need to specify in the `iqm` input which states to read into the jobfile for each segment type. The following *XML* snippet needs to be added"
   ]
  },
  {
   "cell_type": "code",
   "execution_count": 25,
   "metadata": {},
   "outputs": [],
   "source": [
    "readjobfile = \"\"\"\n",
    "<readjobfile help=\"which states to read into the jobfile for each segment type\">\n",
    "     <singlet>Methane:s1</singlet>\n",
    "     <triplet>Methane:t1</triplet>\n",
    "     <electron>Methane:e1</electron>\n",
    "     <hole>Methane:h1</hole>\n",
    "</readjobfile>\n",
    "\"\"\""
   ]
  },
  {
   "cell_type": "markdown",
   "metadata": {},
   "source": [
    "The following code add the `readjobfile` section,"
   ]
  },
  {
   "cell_type": "code",
   "execution_count": 26,
   "metadata": {},
   "outputs": [],
   "source": [
    "add_section(\"iqm\", readjobfile)"
   ]
  },
  {
   "cell_type": "markdown",
   "metadata": {},
   "source": [
    "Now, let's write the jobs to the file"
   ]
  },
  {
   "cell_type": "code",
   "execution_count": 27,
   "metadata": {},
   "outputs": [
    {
     "name": "stdout",
     "output_type": "stream",
     "text": [
      " This is a XTP app\n",
      "==================================================\n",
      "========   VOTCA (http://www.votca.org)   ========\n",
      "==================================================\n",
      "\n",
      "please submit bugs to bugs@votca.org\n",
      "\n",
      "xtp_parallel, version 1.7-dev gitid: 59c2111 (dirty) (compiled May 26 2020, 10:51:24)\n",
      "votca_csg, version 1.7-dev gitid: 59c2111 (dirty) (compiled May 26 2020, 10:45:05)\n",
      "votca_tools, version 1.7-dev gitid: 59c2111 (dirty) (compiled May 26 2020, 10:43:33)\n",
      "\n",
      "Initializing calculator \n",
      "... iqm \n",
      "... ... Initialized with 1 threads.\n",
      "\n",
      "... ... Using 1 openmp threads for 1x1=1 total threads.\n",
      "1 frames in statefile, Ids are: 0 \n",
      "Starting at frame 0\n",
      "Evaluating frame 0\n",
      "Import MD Topology (i.e. frame 0) from state.hdf5\n",
      ".... \n",
      "... iqm \n",
      "... ... Writing job file iqm.jobs\n",
      "... ... In total 12507 jobs\n",
      "Changes have not been written to state file.\n"
     ]
    }
   ],
   "source": [
    "!xtp_parallel -e iqm -o OPTIONFILES/iqm.xml -f state.hdf5 -s 0 -j \"write\""
   ]
  },
  {
   "cell_type": "markdown",
   "metadata": {},
   "source": [
    "From the jobs that we just write down, let's make available only the first job"
   ]
  },
  {
   "cell_type": "code",
   "execution_count": 28,
   "metadata": {},
   "outputs": [],
   "source": [
    "!sed -i \"s/AVAILABLE/COMPLETE/g\" iqm.jobs\n",
    "!sed -i '0,/COMPLETE/s/COMPLETE/AVAILABLE/' iqm.jobs"
   ]
  },
  {
   "cell_type": "markdown",
   "metadata": {},
   "source": [
    "Now we can run and store the jobs results"
   ]
  },
  {
   "cell_type": "code",
   "execution_count": 29,
   "metadata": {
    "scrolled": true
   },
   "outputs": [
    {
     "name": "stdout",
     "output_type": "stream",
     "text": [
      " This is a XTP app\n",
      "==================================================\n",
      "========   VOTCA (http://www.votca.org)   ========\n",
      "==================================================\n",
      "\n",
      "please submit bugs to bugs@votca.org\n",
      "\n",
      "xtp_parallel, version 1.7-dev gitid: 59c2111 (dirty) (compiled May 26 2020, 10:51:24)\n",
      "votca_csg, version 1.7-dev gitid: 59c2111 (dirty) (compiled May 26 2020, 10:45:05)\n",
      "votca_tools, version 1.7-dev gitid: 59c2111 (dirty) (compiled May 26 2020, 10:43:33)\n",
      "\n",
      "Initializing calculator \n",
      "... iqm \n",
      "... ... Initialized with 4 threads.\n",
      "\n",
      "... ... Using 1 openmp threads for 4x1=4 total threads.\n",
      "1 frames in statefile, Ids are: 0 \n",
      "Starting at frame 0\n",
      "Evaluating frame 0\n",
      "Import MD Topology (i.e. frame 0) from state.hdf5\n",
      ".... \n",
      "... iqm \n",
      "MST ERR Job file = 'iqm.jobs', cache size =  1\n",
      "MST ERR Initialize jobs from iqm.jobs\n",
      "MST ERR Registered 12507 jobs.\n",
      "=> [ 0%] \n",
      "\n",
      "T00 ERR ... Requesting next job\n",
      "T00 ERR ... Assign jobs from stack\n",
      "T00 ERR ... Next job: ID = 0\n",
      "T00 ERR ... 2020-5-26 17:38:56 Evaluating pair 0 [0:1] out of 21093\n",
      "T00 ERR ... Guess requested, reading molecular orbitals\n",
      "T00 ERR ... Reading MoleculeA from OR_FILES/molecules/frame_0/molecule_0.orb\n",
      "T00 ERR ... Reading MoleculeB from OR_FILES/molecules/frame_0/molecule_1.orb\n",
      "T00 ERR ... Running DFT\n",
      "T00 ERR ... Calculating electronic couplings\n",
      "T00 ERR ... ======WARNING=======\n",
      " Coordinates of monomer and dimer atoms do not agree\n",
      "T00 ERR ... Levels:Basis A[2:55] B[2:55]\n",
      "T00 ERR ... Done with electronic couplings\n",
      "T00 ERR ... Running GWBSE\n",
      "T00 ERR ... Running BSECoupling\n",
      "T00 ERR ... 2020-5-26 17:45:59 Finished evaluating pair 0:1\n",
      "T00 ERR ... Orb file is not saved according to options \n",
      "T00 ERR ... Reporting job results\n",
      "\n",
      "T00 ERR ... Requesting next job\n",
      "T00 ERR ... Next job: ID = - (none available)\n",
      "\n",
      "T01 ERR ... Requesting next job\n",
      "T01 ERR ... Assign jobs from stack\n",
      "T01 ERR ... Sync did not yield any new jobs.\n",
      "T01 ERR ... Next job: ID = - (none available)\n",
      "\n",
      "T02 ERR ... Requesting next job\n",
      "T02 ERR ... Next job: ID = - (none available)\n",
      "\n",
      "T03 ERR ... Requesting next job\n",
      "T03 ERR ... Next job: ID = - (none available)\n",
      "MST ERR Assign jobs from stack\n",
      "Changes have not been written to state file.\n"
     ]
    }
   ],
   "source": [
    "!xtp_parallel -e iqm -o OPTIONFILES/iqm.xml -f state.hdf5 -s 0 -j run -c 1 -t 4"
   ]
  },
  {
   "cell_type": "markdown",
   "metadata": {},
   "source": [
    "Finally, we read the results into the state"
   ]
  },
  {
   "cell_type": "code",
   "execution_count": 30,
   "metadata": {},
   "outputs": [
    {
     "name": "stdout",
     "output_type": "stream",
     "text": [
      " This is a XTP app\n",
      "==================================================\n",
      "========   VOTCA (http://www.votca.org)   ========\n",
      "==================================================\n",
      "\n",
      "please submit bugs to bugs@votca.org\n",
      "\n",
      "xtp_parallel, version 1.7-dev gitid: 59c2111 (dirty) (compiled May 26 2020, 10:51:24)\n",
      "votca_csg, version 1.7-dev gitid: 59c2111 (dirty) (compiled May 26 2020, 10:45:05)\n",
      "votca_tools, version 1.7-dev gitid: 59c2111 (dirty) (compiled May 26 2020, 10:43:33)\n",
      "\n",
      "Initializing calculator \n",
      "... iqm \n",
      "... ... Initialized with 1 threads.\n",
      "\n",
      "... ... Using 1 openmp threads for 1x1=1 total threads.\n",
      "1 frames in statefile, Ids are: 0 \n",
      "Starting at frame 0\n",
      "Evaluating frame 0\n",
      "Import MD Topology (i.e. frame 0) from state.hdf5\n",
      ".... \n",
      "... iqm \n",
      "Writing MD topology (step = 0, time = 0) to state.hdf5\n",
      "... . \n"
     ]
    }
   ],
   "source": [
    "!xtp_parallel -e iqm -o OPTIONFILES/iqm.xml -f state.hdf5 -j \"read\""
   ]
  },
  {
   "cell_type": "markdown",
   "metadata": {},
   "source": [
    "## Coupling\n",
    "We can now compute the classical coupling of transition in the aformentioned three stages,"
   ]
  },
  {
   "cell_type": "code",
   "execution_count": 31,
   "metadata": {},
   "outputs": [],
   "source": [
    "!cp \"${VOTCASHARE}/xtp/xml/iexcitoncl.xml\" OPTIONFILES"
   ]
  },
  {
   "cell_type": "markdown",
   "metadata": {},
   "source": [
    "We need to change in the `iexcitoncl` input the name `map_file` option and add the state. check all the available of the [iexcitoncl calculator](https://votca.github.io/iexcitoncl.html)."
   ]
  },
  {
   "cell_type": "code",
   "execution_count": 32,
   "metadata": {},
   "outputs": [
    {
     "name": "stdout",
     "output_type": "stream",
     "text": [
      "The option 'map_file' on file 'OPTIONFILES/iexcitoncl.xml' has been set to 'system.xml'\n"
     ]
    }
   ],
   "source": [
    "edit_calculator(\"iexcitoncl\", \"map_file\", \"system.xml\")"
   ]
  },
  {
   "cell_type": "code",
   "execution_count": 33,
   "metadata": {},
   "outputs": [],
   "source": [
    "state = \"<states>Methane:n2s1</states>\"\n",
    "add_section(\"iexcitoncl\", state)"
   ]
  },
  {
   "cell_type": "code",
   "execution_count": 34,
   "metadata": {},
   "outputs": [
    {
     "name": "stdout",
     "output_type": "stream",
     "text": [
      " This is a XTP app\n",
      "==================================================\n",
      "========   VOTCA (http://www.votca.org)   ========\n",
      "==================================================\n",
      "\n",
      "please submit bugs to bugs@votca.org\n",
      "\n",
      "xtp_parallel, version 1.7-dev gitid: 59c2111 (dirty) (compiled May 26 2020, 10:51:24)\n",
      "votca_csg, version 1.7-dev gitid: 59c2111 (dirty) (compiled May 26 2020, 10:45:05)\n",
      "votca_tools, version 1.7-dev gitid: 59c2111 (dirty) (compiled May 26 2020, 10:43:33)\n",
      "\n",
      "Initializing calculator \n",
      "... iexcitoncl \n",
      "... ... Initialized with 1 threads.\n",
      "\n",
      "... ... Using 1 openmp threads for 1x1=1 total threads.\n",
      "1 frames in statefile, Ids are: 0 \n",
      "Starting at frame 0\n",
      "Evaluating frame 0\n",
      "Import MD Topology (i.e. frame 0) from state.hdf5\n",
      ".... \n",
      "... iexcitoncl \n",
      "... ... Writing job file exciton.jobs\n",
      "... ... In total 8586 jobs\n",
      "Changes have not been written to state file.\n"
     ]
    }
   ],
   "source": [
    "!xtp_parallel -e iexcitoncl -o OPTIONFILES/iexcitoncl.xml -f state.hdf5 -j \"write\""
   ]
  },
  {
   "cell_type": "markdown",
   "metadata": {},
   "source": [
    "Now we can run and save the jobs. For demo purposes we will run only the first job"
   ]
  },
  {
   "cell_type": "code",
   "execution_count": 35,
   "metadata": {},
   "outputs": [],
   "source": [
    "sed -i \"s/AVAILABLE/COMPLETE/g\" exciton.jobs\n",
    "sed -i '0,/COMPLETE/s/COMPLETE/AVAILABLE/' exciton.job\n",
    "!xtp_parallel -e iexcitoncl -o OPTIONFILES/iexcitoncl.xml -f state.hdf5"
   ]
  },
  {
   "cell_type": "code",
   "execution_count": 36,
   "metadata": {},
   "outputs": [],
   "source": [
    "#!xtp_parallel -e iexcitoncl -o OPTIONFILES/iexcitoncl.xml -f state.hdf5 -j \"read\""
   ]
  },
  {
   "cell_type": "markdown",
   "metadata": {},
   "source": [
    "## Coupling analysis\n",
    "Using the coupling computed in the previous step, we will generate an histogram for the squared couplings in logarithmic scale,"
   ]
  },
  {
   "cell_type": "code",
   "execution_count": 37,
   "metadata": {},
   "outputs": [
    {
     "name": "stdout",
     "output_type": "stream",
     "text": [
      "The option 'states' on file 'OPTIONFILES/ianalyze.xml' has been set to 'e,h,s'\n",
      "==================================================\n",
      "========   VOTCA (http://www.votca.org)   ========\n",
      "==================================================\n",
      "\n",
      "please submit bugs to bugs@votca.org\n",
      "\n",
      "xtp_run, version 1.7-dev gitid: 59c2111 (dirty) (compiled May 26 2020, 10:51:24)\n",
      "votca_csg, version 1.7-dev gitid: 59c2111 (dirty) (compiled May 26 2020, 10:45:05)\n",
      "votca_tools, version 1.7-dev gitid: 59c2111 (dirty) (compiled May 26 2020, 10:43:33)\n",
      "\n",
      "Initializing calculator\n",
      "... ianalyze \n",
      "1 frames in statefile, Ids are: 0 \n",
      "Starting at frame 0\n",
      "Evaluating frame 0\n",
      "Import MD Topology (i.e. frame 0) from state.hdf5\n",
      ".... \n",
      "... ianalyze \n",
      "Calculating for state e now.\n",
      "Calculating for state h now.\n",
      "Calculating for state s now.\n",
      "\n",
      "Changes have not been written to state file.\n"
     ]
    }
   ],
   "source": [
    "!cp \"${VOTCASHARE}/xtp/xml/ianalyze.xml\" OPTIONFILES\n",
    "edit_calculator(\"ianalyze\", \"states\", \"e,h,s\")\n",
    "!xtp_run -e ianalyze -o OPTIONFILES/ianalyze.xml -f state.hdf5"
   ]
  },
  {
   "cell_type": "markdown",
   "metadata": {},
   "source": [
    "## QMMM calculations"
   ]
  },
  {
   "cell_type": "code",
   "execution_count": 38,
   "metadata": {},
   "outputs": [
    {
     "name": "stdout",
     "output_type": "stream",
     "text": [
      " This is a XTP app\n",
      "==================================================\n",
      "========   VOTCA (http://www.votca.org)   ========\n",
      "==================================================\n",
      "\n",
      "please submit bugs to bugs@votca.org\n",
      "\n",
      "xtp_parallel, version 1.7-dev gitid: 59c2111 (dirty) (compiled May 26 2020, 10:51:24)\n",
      "votca_csg, version 1.7-dev gitid: 59c2111 (dirty) (compiled May 26 2020, 10:45:05)\n",
      "votca_tools, version 1.7-dev gitid: 59c2111 (dirty) (compiled May 26 2020, 10:43:33)\n",
      "\n",
      "Initializing calculator \n",
      "... qmmm \n",
      "... ... Initialized with 1 threads.\n",
      "\n",
      "... ... Using 1 openmp threads for 1x1=1 total threads.\n",
      "1 frames in statefile, Ids are: 0 \n",
      "Starting at frame 0\n",
      "Evaluating frame 0\n",
      "Import MD Topology (i.e. frame 0) from state.hdf5\n",
      ".... \n",
      "... qmmm \n",
      "... ... Writing job file qmmm_jobs.xml\n",
      "... ... In total 3001 jobs\n",
      "Changes have not been written to state file.\n",
      " This is a XTP app\n",
      "==================================================\n",
      "========   VOTCA (http://www.votca.org)   ========\n",
      "==================================================\n",
      "\n",
      "please submit bugs to bugs@votca.org\n",
      "\n",
      "xtp_parallel, version 1.7-dev gitid: 59c2111 (dirty) (compiled May 26 2020, 10:51:24)\n",
      "votca_csg, version 1.7-dev gitid: 59c2111 (dirty) (compiled May 26 2020, 10:45:05)\n",
      "votca_tools, version 1.7-dev gitid: 59c2111 (dirty) (compiled May 26 2020, 10:43:33)\n",
      "\n",
      "Initializing calculator \n",
      "... qmmm \n",
      "... ... Initialized with 1 threads.\n",
      "\n",
      "... ... Using 1 openmp threads for 1x1=1 total threads.\n",
      "1 frames in statefile, Ids are: 0 \n",
      "Starting at frame 0\n",
      "Evaluating frame 0\n",
      "Import MD Topology (i.e. frame 0) from state.hdf5\n",
      ".... \n",
      "... qmmm \n",
      "MST ERR Job file = 'qmmm_jobs.xml', cache size =  8\n",
      "MST ERR Initialize jobs from qmmm_jobs.xml\n",
      "MST ERR Registered 3000 jobs.\n",
      "T00 ERR ... Requesting next job\n",
      "T00 ERR ... Assign jobs from stack\n",
      "T00 ERR ... Next job: ID = 0=> [ 0%] \n",
      "T00 ERR ...  Regions created\n",
      "T00 ERR ... Id: 0 type: qm size: 1 charge[e]= -2.80436e+14\n",
      "T00 ERR ... Id: 1 type: polar size: 92 charge[e]= -5.09315e-15\n",
      "T00 ERR ... Id: 2 type: static size: 178 charge[e]= -9.86711e-15\n",
      "T00 ERR ... 2020-5-26 17:46:5 Writing jobtopology to QMMM/frame_0/job_0_Methane_0:n/regions.pdb\n",
      "T00 ERR ... 2020-5-26 17:46:5 --Inter Region SCF Iteration 1 of 50\n",
      "T00 ERR ... 2020-5-26 17:46:5 Evaluating qm 0\n",
      "T00 ERR ... 2020-5-26 17:46:5 Evaluating interaction between qm 0 and polar 1\n",
      "T00 ERR ... 2020-5-26 17:46:5 Evaluating interaction between qm 0 and static 2\n",
      "T00 ERR ... Running DFT calculation\n",
      "T00 ERR ... 2020-5-26 17:46:5 Using 1 threads\n",
      "T00 ERR ... 2020-5-26 17:46:5 Using MKL overload for Eigen \n",
      "T00 ERR ...  Molecule Coordinates [A] \n",
      "T00 ERR ...   C   +30.3000 +1.2704 +5.5205\n",
      "T00 ERR ...   H   +31.2392 +1.4802 +6.0301\n",
      "T00 ERR ...   H   +30.4910 +0.6554 +4.6433\n",
      "T00 ERR ...   H   +29.8500 +2.2100 +5.2100\n",
      "T00 ERR ...   H   +29.6200 +0.7500 +6.2000\n",
      "T00 ERR ... 2020-5-26 17:46:5 Loaded DFT Basis Set def2-tzvp with 55 functions\n",
      "T00 ERR ... 2020-5-26 17:46:5 Total number of electrons: 10\n",
      "T00 ERR ... 2020-5-26 17:46:5 Smallest value of AOOverlap matrix is 0.00144719\n",
      "T00 ERR ... 2020-5-26 17:46:5 Removed 0 basisfunction from inverse overlap matrix\n",
      "T00 ERR ... 2020-5-26 17:46:5 Convergence Options:\n",
      "T00 ERR ... \t\t Delta E [Ha]: 1e-07\n",
      "T00 ERR ... \t\t DIIS max error: 1e-07\n",
      "T00 ERR ... \t\t DIIS histlength: 20\n",
      "T00 ERR ... \t\t ADIIS start: 0.8\n",
      "T00 ERR ... \t\t DIIS start: 0.002\n",
      "T00 ERR ... \t\t Deleting oldest element from DIIS hist\n",
      "T00 ERR ... \t\t Levelshift[Ha]: 0\n",
      "T00 ERR ... \t\t Levelshift end: 0.2\n",
      "T00 ERR ... \t\t Mixing Parameter alpha: 0.7\n",
      "T00 ERR ... 2020-5-26 17:46:6 Calculated 4c integrals. \n",
      "T00 ERR ... 2020-5-26 17:46:6 Constructed independent particle hamiltonian \n",
      "T00 ERR ... 2020-5-26 17:46:6 Nuclear Repulsion Energy is 13.4434088\n",
      "T00 ERR ... 2020-5-26 17:46:6 Using hybrid functional with alpha=0.25\n",
      "T00 ERR ... 2020-5-26 17:46:6 Setup numerical integration grid medium for vxc functional XC_HYB_GGA_XC_PBEH\n",
      "T00 ERR ... 2020-5-26 17:46:6 Setup Initial Guess using: atom\n",
      "T00 ERR ... 2020-5-26 17:46:6 Calculating atom density for C\n",
      "T00 ERR ... 2020-5-26 17:46:8 Calculating atom density for H\n",
      "T00 ERR ... 2020-5-26 17:46:8 STARTING SCF cycle\n",
      "T00 ERR ...  --------------------------------------------------------------------------\n",
      "T00 ERR ... \n",
      "T00 ERR ... 2020-5-26 17:46:8 Iteration 1 of 100\n",
      "T00 ERR ... 2020-5-26 17:46:9 Total Energy -40.3765525115\n",
      "T00 ERR ... 2020-5-26 17:46:9 DIIs error 0.155405154641\n",
      "T00 ERR ... 2020-5-26 17:46:9 Delta Etot 0\n",
      "T00 ERR ... \n",
      "T00 ERR ... 2020-5-26 17:46:9 Iteration 2 of 100\n",
      "T00 ERR ... 2020-5-26 17:46:9 Total Energy -40.4179036075\n",
      "T00 ERR ... 2020-5-26 17:46:9 DIIs error 0.0599219245582\n",
      "T00 ERR ... 2020-5-26 17:46:9 Delta Etot -0.0413510960349\n",
      "T00 ERR ... \n",
      "T00 ERR ... 2020-5-26 17:46:9 Iteration 3 of 100\n",
      "T00 ERR ... 2020-5-26 17:46:9 Total Energy -40.4364502974\n",
      "T00 ERR ... 2020-5-26 17:46:9 DIIs error 0.0240347479551\n",
      "T00 ERR ... 2020-5-26 17:46:9 Delta Etot -0.0185466898956\n",
      "T00 ERR ... \n",
      "T00 ERR ... 2020-5-26 17:46:9 Iteration 4 of 100\n",
      "T00 ERR ... 2020-5-26 17:46:9 Total Energy -40.4717636305\n",
      "T00 ERR ... 2020-5-26 17:46:9 DIIs error 0.0214134060338\n",
      "T00 ERR ... 2020-5-26 17:46:9 Delta Etot -0.035313333099\n",
      "T00 ERR ... \n",
      "T00 ERR ... 2020-5-26 17:46:9 Iteration 5 of 100\n",
      "T00 ERR ... 2020-5-26 17:46:9 Total Energy -40.4712852513\n",
      "T00 ERR ... 2020-5-26 17:46:9 DIIs error 0.024496232882\n",
      "T00 ERR ... 2020-5-26 17:46:9 Delta Etot 0.000478379132652\n",
      "T00 ERR ... \n",
      "T00 ERR ... 2020-5-26 17:46:9 Iteration 6 of 100\n",
      "T00 ERR ... 2020-5-26 17:46:10 Total Energy -40.4740690104\n",
      "T00 ERR ... 2020-5-26 17:46:10 DIIs error 0.00104167891274\n",
      "T00 ERR ... 2020-5-26 17:46:10 Delta Etot -0.00278375907526\n",
      "T00 ERR ... \n",
      "T00 ERR ... 2020-5-26 17:46:10 Iteration 7 of 100\n",
      "T00 ERR ... 2020-5-26 17:46:10 Total Energy -40.4740744588\n",
      "T00 ERR ... 2020-5-26 17:46:10 DIIs error 6.05743113653e-05\n",
      "T00 ERR ... 2020-5-26 17:46:10 Delta Etot -5.44839220851e-06\n",
      "T00 ERR ... \n",
      "T00 ERR ... 2020-5-26 17:46:10 Iteration 8 of 100\n",
      "T00 ERR ... 2020-5-26 17:46:10 Total Energy -40.474074459\n",
      "T00 ERR ... 2020-5-26 17:46:10 DIIs error 3.79019192359e-05\n",
      "T00 ERR ... 2020-5-26 17:46:10 Delta Etot -2.01048067083e-10\n",
      "T00 ERR ... \n",
      "T00 ERR ... 2020-5-26 17:46:10 Iteration 9 of 100\n",
      "T00 ERR ... 2020-5-26 17:46:10 Total Energy -40.4740744594\n",
      "T00 ERR ... 2020-5-26 17:46:10 DIIs error 3.3576587295e-05\n",
      "T00 ERR ... 2020-5-26 17:46:10 Delta Etot -4.26510382567e-10\n",
      "T00 ERR ... \n",
      "T00 ERR ... 2020-5-26 17:46:10 Iteration 10 of 100\n",
      "T00 ERR ... 2020-5-26 17:46:11 Total Energy -40.4740744612\n",
      "T00 ERR ... 2020-5-26 17:46:11 DIIs error 3.83324158817e-06\n",
      "T00 ERR ... 2020-5-26 17:46:11 Delta Etot -1.74281922227e-09\n",
      "T00 ERR ... \n",
      "T00 ERR ... 2020-5-26 17:46:11 Iteration 11 of 100\n",
      "T00 ERR ... 2020-5-26 17:46:11 Total Energy -40.4740744612\n",
      "T00 ERR ... 2020-5-26 17:46:11 DIIs error 2.64331556429e-07\n",
      "T00 ERR ... 2020-5-26 17:46:11 Delta Etot -1.71240799318e-11\n",
      "T00 ERR ... \n",
      "T00 ERR ... 2020-5-26 17:46:11 Iteration 12 of 100\n",
      "T00 ERR ... 2020-5-26 17:46:11 Total Energy -40.4740744612\n",
      "T00 ERR ... 2020-5-26 17:46:11 DIIs error 6.23633227406e-09\n",
      "T00 ERR ... 2020-5-26 17:46:11 Delta Etot 1.06581410364e-13\n",
      "T00 ERR ... 2020-5-26 17:46:11 Total Energy has converged to 1.0658141e-13[Ha] after 12 iterations. DIIS error is converged up to 6.23633227e-09\n",
      "T00 ERR ... 2020-5-26 17:46:11 Final Single Point Energy -40.4740744612 Ha\n",
      "T00 ERR ...   Orbital energies: \n",
      "T00 ERR ...   index occupation energy(Hartree) \n",
      "T00 ERR ...      0      2   -10.2004909982\n",
      "T00 ERR ...      1      2   -0.7143102092\n",
      "T00 ERR ...      2      2   -0.4043185491\n",
      "T00 ERR ...      3      2   -0.4037645315\n",
      "T00 ERR ...      4      2   -0.4029803014\n",
      "T00 ERR ...      5      0   +0.0622496762\n",
      "T00 ERR ...      6      0   +0.1365382074\n",
      "T00 ERR ...      7      0   +0.1371135374\n",
      "T00 ERR ...      8      0   +0.1373256767\n",
      "T00 ERR ...      9      0   +0.2114612282\n",
      "T00 ERR ...     10      0   +0.2115663189\n",
      "T00 ERR ...     11      0   +0.2118693556\n",
      "T00 ERR ...     12      0   +0.4051809394\n",
      "T00 ERR ...     13      0   +0.4840815937\n",
      "T00 ERR ...     14      0   +0.4846220006\n",
      "T00 ERR ...     15      0   +0.4854425378\n",
      "T00 ERR ...     16      0   +0.5419029369\n",
      "T00 ERR ...     17      0   +0.5996923707\n",
      "T00 ERR ...     18      0   +0.5998272918\n",
      "T00 ERR ...     19      0   +0.9405097206\n",
      "T00 ERR ...     20      0   +0.9411590412\n",
      "T00 ERR ...     21      0   +0.9419265854\n",
      "T00 ERR ...     22      0   +1.4996801400\n",
      "T00 ERR ...     23      0   +1.5004167442\n",
      "T00 ERR ...     24      0   +1.5030753876\n",
      "T00 ERR ...     25      0   +1.5060274105\n",
      "T00 ERR ...     26      0   +1.5405319053\n",
      "T00 ERR ...     27      0   +1.5429385606\n",
      "T00 ERR ...     28      0   +1.5454348082\n",
      "T00 ERR ...     29      0   +1.9817366883\n",
      "T00 ERR ...     30      0   +2.0056154302\n",
      "T00 ERR ...     31      0   +2.0090882790\n",
      "T00 ERR ...     32      0   +2.0121389476\n",
      "T00 ERR ...     33      0   +2.2598141604\n",
      "T00 ERR ...     34      0   +2.2608210096\n",
      "T00 ERR ...     35      0   +2.2619373134\n",
      "T00 ERR ...     36      0   +2.4197166758\n",
      "T00 ERR ...     37      0   +2.4213393455\n",
      "T00 ERR ...     38      0   +2.5899575612\n",
      "T00 ERR ...     39      0   +2.5917923447\n",
      "T00 ERR ...     40      0   +2.5930334061\n",
      "T00 ERR ...     41      0   +2.9913442336\n",
      "T00 ERR ...     42      0   +2.9913950924\n",
      "T00 ERR ...     43      0   +3.0199274509\n",
      "T00 ERR ...     44      0   +3.3673324415\n",
      "T00 ERR ...     45      0   +3.3716908219\n",
      "T00 ERR ...     46      0   +3.3768107751\n",
      "T00 ERR ...     47      0   +3.5065135849\n",
      "T00 ERR ...     48      0   +3.5118503539\n",
      "T00 ERR ...     49      0   +3.5177707018\n",
      "T00 ERR ...     50      0   +4.2185936913\n",
      "T00 ERR ...     51      0   +4.2272398902\n",
      "T00 ERR ...     52      0   +4.2355157692\n",
      "T00 ERR ...     53      0   +4.4929496843\n",
      "T00 ERR ...     54      0   +22.2739249158\n",
      "T00 ERR ... 2020-5-26 17:46:11 Electric Dipole is[e*bohr]:\n",
      "\t\t dx=0.000757494954917\n",
      "\t\t dy=0.00326084725008\n",
      "\t\t dz=-0.00123417046044\n",
      "T00 ERR ... Writing result to votca.orb\n",
      "T00 ERR ... QM energy[Hrt]: -40.47407446 \n",
      "T00 ERR ... 2020-5-26 17:46:11 Evaluating polar 1\n"
     ]
    },
    {
     "name": "stdout",
     "output_type": "stream",
     "text": [
      "T00 ERR ... 2020-5-26 17:46:11 Evaluating interaction between polar 1 and qm 0\n",
      "T00 ERR ... 2020-5-26 17:46:12 Evaluating interaction between polar 1 and static 2\n",
      "T00 ERR ... 2020-5-26 17:46:12 Starting Solving for classical polarization with 1380 degrees of freedom.\n",
      "T00 ERR ... 2020-5-26 17:46:12 CG: #iterations: 7, estimated error: 5.54889470065e-06\n",
      "T00 ERR ...   Total static energy [hrt]= 0.0009102654542\n",
      "T00 ERR ...   Total polar energy [hrt]= -0.0006142561623\n",
      "T00 ERR ...  Total energy [hrt]= 0.0002960092919\n",
      "T00 ERR ... 2020-5-26 17:46:12 Evaluating static 2\n",
      "T00 ERR ... 2020-5-26 17:46:12 Writing checkpoint to checkpoint_iter_1.hdf5\n",
      "T00 ERR ...  Region:qm 0 is not converged deltaE=-40.47407446 RMS Dmat=0.03339379361 MaxDmat=0.8229286718\n",
      "T00 ERR ... 2020-5-26 17:46:12 Region:polar 1 is not converged deltaE=0.0002960092919\n",
      "T00 ERR ... 2020-5-26 17:46:12 --Total Energy all regions -40.47377845\n",
      "T00 ERR ... 2020-5-26 17:46:12 --Inter Region SCF Iteration 2 of 50\n",
      "T00 ERR ... 2020-5-26 17:46:12 Evaluating qm 0\n",
      "T00 ERR ... 2020-5-26 17:46:12 Evaluating interaction between qm 0 and polar 1\n",
      "T00 ERR ... 2020-5-26 17:46:12 Evaluating interaction between qm 0 and static 2\n",
      "T00 ERR ... Running DFT calculation\n",
      "T00 ERR ... 2020-5-26 17:46:12 Using 1 threads\n",
      "T00 ERR ... 2020-5-26 17:46:12 Using MKL overload for Eigen \n",
      "T00 ERR ...  Molecule Coordinates [A] \n",
      "T00 ERR ...   C   +30.3000 +1.2704 +5.5205\n",
      "T00 ERR ...   H   +31.2392 +1.4802 +6.0301\n",
      "T00 ERR ...   H   +30.4910 +0.6554 +4.6433\n",
      "T00 ERR ...   H   +29.8500 +2.2100 +5.2100\n",
      "T00 ERR ...   H   +29.6200 +0.7500 +6.2000\n",
      "T00 ERR ... 2020-5-26 17:46:12 Loaded DFT Basis Set def2-tzvp with 55 functions\n",
      "T00 ERR ... 2020-5-26 17:46:12 Total number of electrons: 10\n",
      "T00 ERR ... 2020-5-26 17:46:12 Smallest value of AOOverlap matrix is 0.001447191595\n",
      "T00 ERR ... 2020-5-26 17:46:12 Removed 0 basisfunction from inverse overlap matrix\n",
      "T00 ERR ... 2020-5-26 17:46:12 Convergence Options:\n",
      "T00 ERR ... \t\t Delta E [Ha]: 1e-07\n",
      "T00 ERR ... \t\t DIIS max error: 1e-07\n",
      "T00 ERR ... \t\t DIIS histlength: 20\n",
      "T00 ERR ... \t\t ADIIS start: 0.8\n",
      "T00 ERR ... \t\t DIIS start: 0.002\n",
      "T00 ERR ... \t\t Deleting oldest element from DIIS hist\n",
      "T00 ERR ... \t\t Levelshift[Ha]: 0\n",
      "T00 ERR ... \t\t Levelshift end: 0.2\n",
      "T00 ERR ... \t\t Mixing Parameter alpha: 0.7\n",
      "T00 ERR ... 2020-5-26 17:46:13 Calculated 4c integrals. \n",
      "T00 ERR ... 2020-5-26 17:46:13 Constructed independent particle hamiltonian \n",
      "T00 ERR ... 2020-5-26 17:46:13 Nuclear Repulsion Energy is 13.4434088\n",
      "T00 ERR ... 2020-5-26 17:46:13 Using hybrid functional with alpha=0.25\n",
      "T00 ERR ... 2020-5-26 17:46:13 Setup numerical integration grid medium for vxc functional XC_HYB_GGA_XC_PBEH\n",
      "T00 ERR ... 2020-5-26 17:46:13 Setup Initial Guess using: atom\n",
      "T00 ERR ... 2020-5-26 17:46:13 Calculating atom density for C\n",
      "T00 ERR ... 2020-5-26 17:46:15 Calculating atom density for H\n",
      "T00 ERR ... 2020-5-26 17:46:15 STARTING SCF cycle\n",
      "T00 ERR ...  --------------------------------------------------------------------------\n",
      "T00 ERR ... \n",
      "T00 ERR ... 2020-5-26 17:46:15 Iteration 1 of 100\n",
      "T00 ERR ... 2020-5-26 17:46:15 Total Energy -40.3765525115\n",
      "T00 ERR ... 2020-5-26 17:46:15 DIIs error 0.155405154641\n",
      "T00 ERR ... 2020-5-26 17:46:15 Delta Etot 0\n",
      "T00 ERR ... \n",
      "T00 ERR ... 2020-5-26 17:46:15 Iteration 2 of 100\n",
      "T00 ERR ... 2020-5-26 17:46:15 Total Energy -40.4179036075\n",
      "T00 ERR ... 2020-5-26 17:46:15 DIIs error 0.0599219245582\n",
      "T00 ERR ... 2020-5-26 17:46:15 Delta Etot -0.0413510960349\n",
      "T00 ERR ... \n",
      "T00 ERR ... 2020-5-26 17:46:15 Iteration 3 of 100\n",
      "T00 ERR ... 2020-5-26 17:46:16 Total Energy -40.4364502974\n",
      "T00 ERR ... 2020-5-26 17:46:16 DIIs error 0.0240347479551\n",
      "T00 ERR ... 2020-5-26 17:46:16 Delta Etot -0.0185466898956\n",
      "T00 ERR ... \n",
      "T00 ERR ... 2020-5-26 17:46:16 Iteration 4 of 100\n",
      "T00 ERR ... 2020-5-26 17:46:16 Total Energy -40.4717636305\n",
      "T00 ERR ... 2020-5-26 17:46:16 DIIs error 0.0214134060338\n",
      "T00 ERR ... 2020-5-26 17:46:16 Delta Etot -0.035313333099\n",
      "T00 ERR ... \n",
      "T00 ERR ... 2020-5-26 17:46:16 Iteration 5 of 100\n",
      "T00 ERR ... 2020-5-26 17:46:16 Total Energy -40.4712852513\n",
      "T00 ERR ... 2020-5-26 17:46:16 DIIs error 0.024496232882\n",
      "T00 ERR ... 2020-5-26 17:46:16 Delta Etot 0.000478379132652\n",
      "T00 ERR ... \n",
      "T00 ERR ... 2020-5-26 17:46:16 Iteration 6 of 100\n",
      "T00 ERR ... 2020-5-26 17:46:16 Total Energy -40.4740690104\n",
      "T00 ERR ... 2020-5-26 17:46:16 DIIs error 0.00104167891274\n",
      "T00 ERR ... 2020-5-26 17:46:16 Delta Etot -0.00278375907526\n",
      "T00 ERR ... \n",
      "T00 ERR ... 2020-5-26 17:46:16 Iteration 7 of 100\n",
      "T00 ERR ... 2020-5-26 17:46:17 Total Energy -40.4740744588\n",
      "T00 ERR ... 2020-5-26 17:46:17 DIIs error 6.05743113653e-05\n",
      "T00 ERR ... 2020-5-26 17:46:17 Delta Etot -5.44839220851e-06\n",
      "T00 ERR ... \n",
      "T00 ERR ... 2020-5-26 17:46:17 Iteration 8 of 100\n",
      "T00 ERR ... 2020-5-26 17:46:17 Total Energy -40.474074459\n",
      "T00 ERR ... 2020-5-26 17:46:17 DIIs error 3.79019192359e-05\n",
      "T00 ERR ... 2020-5-26 17:46:17 Delta Etot -2.01048067083e-10\n",
      "T00 ERR ... \n",
      "T00 ERR ... 2020-5-26 17:46:17 Iteration 9 of 100\n",
      "T00 ERR ... 2020-5-26 17:46:17 Total Energy -40.4740744594\n",
      "T00 ERR ... 2020-5-26 17:46:17 DIIs error 3.3576587295e-05\n",
      "T00 ERR ... 2020-5-26 17:46:17 Delta Etot -4.26510382567e-10\n",
      "T00 ERR ... \n",
      "T00 ERR ... 2020-5-26 17:46:17 Iteration 10 of 100\n",
      "T00 ERR ... 2020-5-26 17:46:17 Total Energy -40.4740744612\n",
      "T00 ERR ... 2020-5-26 17:46:17 DIIs error 3.83324158817e-06\n",
      "T00 ERR ... 2020-5-26 17:46:17 Delta Etot -1.74281922227e-09\n",
      "T00 ERR ... \n",
      "T00 ERR ... 2020-5-26 17:46:17 Iteration 11 of 100\n",
      "T00 ERR ... 2020-5-26 17:46:18 Total Energy -40.4740744612\n",
      "T00 ERR ... 2020-5-26 17:46:18 DIIs error 2.64331556429e-07\n",
      "T00 ERR ... 2020-5-26 17:46:18 Delta Etot -1.71240799318e-11\n",
      "T00 ERR ... \n",
      "T00 ERR ... 2020-5-26 17:46:18 Iteration 12 of 100\n",
      "T00 ERR ... 2020-5-26 17:46:18 Total Energy -40.4740744612\n",
      "T00 ERR ... 2020-5-26 17:46:18 DIIs error 6.23633227406e-09\n",
      "T00 ERR ... 2020-5-26 17:46:18 Delta Etot 1.06581410364e-13\n",
      "T00 ERR ... 2020-5-26 17:46:18 Total Energy has converged to 1.0658141e-13[Ha] after 12 iterations. DIIS error is converged up to 6.23633227e-09\n",
      "T00 ERR ... 2020-5-26 17:46:18 Final Single Point Energy -40.4740744612 Ha\n",
      "T00 ERR ...   Orbital energies: \n",
      "T00 ERR ...   index occupation energy(Hartree) \n",
      "T00 ERR ...      0      2   -10.2004909982\n",
      "T00 ERR ...      1      2   -0.7143102092\n",
      "T00 ERR ...      2      2   -0.4043185491\n",
      "T00 ERR ...      3      2   -0.4037645315\n",
      "T00 ERR ...      4      2   -0.4029803014\n",
      "T00 ERR ...      5      0   +0.0622496762\n",
      "T00 ERR ...      6      0   +0.1365382074\n",
      "T00 ERR ...      7      0   +0.1371135374\n",
      "T00 ERR ...      8      0   +0.1373256767\n",
      "T00 ERR ...      9      0   +0.2114612282\n",
      "T00 ERR ...     10      0   +0.2115663189\n",
      "T00 ERR ...     11      0   +0.2118693556\n",
      "T00 ERR ...     12      0   +0.4051809394\n",
      "T00 ERR ...     13      0   +0.4840815937\n",
      "T00 ERR ...     14      0   +0.4846220006\n",
      "T00 ERR ...     15      0   +0.4854425378\n",
      "T00 ERR ...     16      0   +0.5419029369\n",
      "T00 ERR ...     17      0   +0.5996923707\n",
      "T00 ERR ...     18      0   +0.5998272918\n",
      "T00 ERR ...     19      0   +0.9405097206\n",
      "T00 ERR ...     20      0   +0.9411590412\n",
      "T00 ERR ...     21      0   +0.9419265854\n",
      "T00 ERR ...     22      0   +1.4996801400\n",
      "T00 ERR ...     23      0   +1.5004167442\n",
      "T00 ERR ...     24      0   +1.5030753876\n",
      "T00 ERR ...     25      0   +1.5060274105\n",
      "T00 ERR ...     26      0   +1.5405319053\n",
      "T00 ERR ...     27      0   +1.5429385606\n",
      "T00 ERR ...     28      0   +1.5454348082\n",
      "T00 ERR ...     29      0   +1.9817366883\n",
      "T00 ERR ...     30      0   +2.0056154302\n",
      "T00 ERR ...     31      0   +2.0090882790\n",
      "T00 ERR ...     32      0   +2.0121389476\n",
      "T00 ERR ...     33      0   +2.2598141604\n",
      "T00 ERR ...     34      0   +2.2608210096\n",
      "T00 ERR ...     35      0   +2.2619373134\n",
      "T00 ERR ...     36      0   +2.4197166758\n",
      "T00 ERR ...     37      0   +2.4213393455\n",
      "T00 ERR ...     38      0   +2.5899575612\n",
      "T00 ERR ...     39      0   +2.5917923447\n",
      "T00 ERR ...     40      0   +2.5930334061\n",
      "T00 ERR ...     41      0   +2.9913442336\n",
      "T00 ERR ...     42      0   +2.9913950924\n",
      "T00 ERR ...     43      0   +3.0199274509\n",
      "T00 ERR ...     44      0   +3.3673324415\n",
      "T00 ERR ...     45      0   +3.3716908219\n",
      "T00 ERR ...     46      0   +3.3768107751\n",
      "T00 ERR ...     47      0   +3.5065135849\n",
      "T00 ERR ...     48      0   +3.5118503539\n",
      "T00 ERR ...     49      0   +3.5177707018\n",
      "T00 ERR ...     50      0   +4.2185936913\n",
      "T00 ERR ...     51      0   +4.2272398902\n",
      "T00 ERR ...     52      0   +4.2355157692\n",
      "T00 ERR ...     53      0   +4.4929496843\n",
      "T00 ERR ...     54      0   +22.2739249158\n",
      "T00 ERR ... 2020-5-26 17:46:18 Electric Dipole is[e*bohr]:\n",
      "\t\t dx=0.000757494954917\n",
      "\t\t dy=0.00326084725008\n",
      "\t\t dz=-0.00123417046044\n",
      "T00 ERR ... Writing result to votca.orb\n",
      "T00 ERR ... QM energy[Hrt]: -40.47407446 \n",
      "T00 ERR ... 2020-5-26 17:46:18 Evaluating polar 1\n"
     ]
    },
    {
     "name": "stdout",
     "output_type": "stream",
     "text": [
      "T00 ERR ... 2020-5-26 17:46:18 Evaluating interaction between polar 1 and qm 0\n",
      "T00 ERR ... 2020-5-26 17:46:18 Evaluating interaction between polar 1 and static 2\n",
      "T00 ERR ... 2020-5-26 17:46:19 Starting Solving for classical polarization with 1380 degrees of freedom.\n",
      "T00 ERR ... 2020-5-26 17:46:19 CG: #iterations: 0, estimated error: 5.54889470064e-06\n",
      "T00 ERR ...   Total static energy [hrt]= 0.0009102654542\n",
      "T00 ERR ...   Total polar energy [hrt]= -0.0006142561623\n",
      "T00 ERR ...  Total energy [hrt]= 0.0002960092919\n",
      "T00 ERR ... 2020-5-26 17:46:19 Evaluating static 2\n",
      "T00 ERR ... 2020-5-26 17:46:19 Writing checkpoint to checkpoint_iter_2.hdf5\n",
      "T00 ERR ...  Region:qm 0 is converged deltaE=0 RMS Dmat=0 MaxDmat=0\n",
      "T00 ERR ... 2020-5-26 17:46:19 Region:polar 1 is converged deltaE=0\n",
      "T00 ERR ... 2020-5-26 17:46:19 --Total Energy all regions -40.47377845\n",
      "T00 ERR ... 2020-5-26 17:46:19 Job converged after 2 iterations.\n",
      "T00 ERR ... Reporting job results\n",
      "\n",
      "T00 ERR ... Requesting next job\n",
      "T00 ERR ... Assign jobs from stack\n",
      "T00 ERR ... Sync did not yield any new jobs.\n",
      "T00 ERR ... Next job: ID = - (none available)\n",
      "MST ERR Assign jobs from stack\n",
      "Changes have not been written to state file.\n"
     ]
    }
   ],
   "source": [
    "!cp qmmm.xml OPTIONFILES/                                                                                                                                                                                 \n",
    "!xtp_parallel -e qmmm -o OPTIONFILES/qmmm.xml -f state.hdf5 -j \"write\"                                                                                                                                    \n"
   ]
  },
  {
   "cell_type": "markdown",
   "metadata": {},
   "source": [
    "Lets run just the first job"
   ]
  },
  {
   "cell_type": "code",
   "execution_count": 39,
   "metadata": {},
   "outputs": [
    {
     "name": "stdout",
     "output_type": "stream",
     "text": [
      " This is a XTP app\n",
      "==================================================\n",
      "========   VOTCA (http://www.votca.org)   ========\n",
      "==================================================\n",
      "\n",
      "please submit bugs to bugs@votca.org\n",
      "\n",
      "xtp_parallel, version 1.7-dev gitid: 59c2111 (dirty) (compiled May 26 2020, 10:51:24)\n",
      "votca_csg, version 1.7-dev gitid: 59c2111 (dirty) (compiled May 26 2020, 10:45:05)\n",
      "votca_tools, version 1.7-dev gitid: 59c2111 (dirty) (compiled May 26 2020, 10:43:33)\n",
      "\n",
      "Initializing calculator \n",
      "... qmmm \n",
      "... ... Initialized with 1 threads.\n",
      "\n",
      "... ... Using 1 openmp threads for 1x1=1 total threads.\n",
      "1 frames in statefile, Ids are: 0 \n",
      "Starting at frame 0\n",
      "Evaluating frame 0\n",
      "Import MD Topology (i.e. frame 0) from state.hdf5\n",
      ".... \n",
      "... qmmm \n",
      "MST ERR Job file = 'qmmm_jobs.xml', cache size =  8\n",
      "MST ERR Initialize jobs from qmmm_jobs.xml\n",
      "MST ERR Registered 3000 jobs.\n",
      "T00 ERR ... Requesting next job\n",
      "T00 ERR ... Assign jobs from stack\n",
      "T00 ERR ... Next job: ID = 0=> [ 0%] \n",
      "T00 ERR ...  Regions created\n",
      "T00 ERR ... Id: 0 type: qm size: 1 charge[e]= -2.80472e+14\n",
      "T00 ERR ... Id: 1 type: polar size: 92 charge[e]= -5.09315e-15\n",
      "T00 ERR ... Id: 2 type: static size: 178 charge[e]= -9.86711e-15\n",
      "T00 ERR ... 2020-5-26 17:53:38 Writing jobtopology to QMMM/frame_0/job_0_Methane_0:n/regions.pdb\n",
      "T00 ERR ... 2020-5-26 17:53:38 --Inter Region SCF Iteration 1 of 50\n",
      "T00 ERR ... 2020-5-26 17:53:38 Evaluating qm 0\n",
      "T00 ERR ... 2020-5-26 17:53:38 Evaluating interaction between qm 0 and polar 1\n",
      "T00 ERR ... 2020-5-26 17:53:38 Evaluating interaction between qm 0 and static 2\n",
      "T00 ERR ... Running DFT calculation\n",
      "T00 ERR ... 2020-5-26 17:53:38 Using 1 threads\n",
      "T00 ERR ... 2020-5-26 17:53:38 Using MKL overload for Eigen \n",
      "T00 ERR ...  Molecule Coordinates [A] \n",
      "T00 ERR ...   C   +30.3000 +1.2704 +5.5205\n",
      "T00 ERR ...   H   +31.2392 +1.4802 +6.0301\n",
      "T00 ERR ...   H   +30.4910 +0.6554 +4.6433\n",
      "T00 ERR ...   H   +29.8500 +2.2100 +5.2100\n",
      "T00 ERR ...   H   +29.6200 +0.7500 +6.2000\n",
      "T00 ERR ... 2020-5-26 17:53:38 Loaded DFT Basis Set def2-tzvp with 55 functions\n",
      "T00 ERR ... 2020-5-26 17:53:38 Total number of electrons: 10\n",
      "T00 ERR ... 2020-5-26 17:53:38 Smallest value of AOOverlap matrix is 0.00144719\n",
      "T00 ERR ... 2020-5-26 17:53:38 Removed 0 basisfunction from inverse overlap matrix\n",
      "T00 ERR ... 2020-5-26 17:53:38 Convergence Options:\n",
      "T00 ERR ... \t\t Delta E [Ha]: 1e-07\n",
      "T00 ERR ... \t\t DIIS max error: 1e-07\n",
      "T00 ERR ... \t\t DIIS histlength: 20\n",
      "T00 ERR ... \t\t ADIIS start: 0.8\n",
      "T00 ERR ... \t\t DIIS start: 0.002\n",
      "T00 ERR ... \t\t Deleting oldest element from DIIS hist\n",
      "T00 ERR ... \t\t Levelshift[Ha]: 0\n",
      "T00 ERR ... \t\t Levelshift end: 0.2\n",
      "T00 ERR ... \t\t Mixing Parameter alpha: 0.7\n",
      "T00 ERR ... 2020-5-26 17:53:39 Calculated 4c integrals. \n",
      "T00 ERR ... 2020-5-26 17:53:39 Constructed independent particle hamiltonian \n",
      "T00 ERR ... 2020-5-26 17:53:39 Nuclear Repulsion Energy is 13.4434088\n",
      "T00 ERR ... 2020-5-26 17:53:39 Using hybrid functional with alpha=0.25\n",
      "T00 ERR ... 2020-5-26 17:53:39 Setup numerical integration grid medium for vxc functional XC_HYB_GGA_XC_PBEH\n",
      "T00 ERR ... 2020-5-26 17:53:39 Setup Initial Guess using: atom\n",
      "T00 ERR ... 2020-5-26 17:53:39 Calculating atom density for C\n",
      "T00 ERR ... 2020-5-26 17:53:41 Calculating atom density for H\n",
      "T00 ERR ... 2020-5-26 17:53:41 STARTING SCF cycle\n",
      "T00 ERR ...  --------------------------------------------------------------------------\n",
      "T00 ERR ... \n",
      "T00 ERR ... 2020-5-26 17:53:41 Iteration 1 of 100\n",
      "T00 ERR ... 2020-5-26 17:53:41 Total Energy -40.3765525115\n",
      "T00 ERR ... 2020-5-26 17:53:41 DIIs error 0.155405154641\n",
      "T00 ERR ... 2020-5-26 17:53:41 Delta Etot 0\n",
      "T00 ERR ... \n",
      "T00 ERR ... 2020-5-26 17:53:41 Iteration 2 of 100\n",
      "T00 ERR ... 2020-5-26 17:53:42 Total Energy -40.4179036075\n",
      "T00 ERR ... 2020-5-26 17:53:42 DIIs error 0.0599219245582\n",
      "T00 ERR ... 2020-5-26 17:53:42 Delta Etot -0.0413510960349\n",
      "T00 ERR ... \n",
      "T00 ERR ... 2020-5-26 17:53:42 Iteration 3 of 100\n",
      "T00 ERR ... 2020-5-26 17:53:42 Total Energy -40.4364502974\n",
      "T00 ERR ... 2020-5-26 17:53:42 DIIs error 0.0240347479551\n",
      "T00 ERR ... 2020-5-26 17:53:42 Delta Etot -0.0185466898956\n",
      "T00 ERR ... \n",
      "T00 ERR ... 2020-5-26 17:53:42 Iteration 4 of 100\n",
      "T00 ERR ... 2020-5-26 17:53:42 Total Energy -40.4717636305\n",
      "T00 ERR ... 2020-5-26 17:53:42 DIIs error 0.0214134060338\n",
      "T00 ERR ... 2020-5-26 17:53:42 Delta Etot -0.035313333099\n",
      "T00 ERR ... \n",
      "T00 ERR ... 2020-5-26 17:53:42 Iteration 5 of 100\n",
      "T00 ERR ... 2020-5-26 17:53:42 Total Energy -40.4712852513\n",
      "T00 ERR ... 2020-5-26 17:53:42 DIIs error 0.024496232882\n",
      "T00 ERR ... 2020-5-26 17:53:42 Delta Etot 0.000478379132652\n",
      "T00 ERR ... \n",
      "T00 ERR ... 2020-5-26 17:53:42 Iteration 6 of 100\n",
      "T00 ERR ... 2020-5-26 17:53:43 Total Energy -40.4740690104\n",
      "T00 ERR ... 2020-5-26 17:53:43 DIIs error 0.00104167891274\n",
      "T00 ERR ... 2020-5-26 17:53:43 Delta Etot -0.00278375907526\n",
      "T00 ERR ... \n",
      "T00 ERR ... 2020-5-26 17:53:43 Iteration 7 of 100\n",
      "T00 ERR ... 2020-5-26 17:53:43 Total Energy -40.4740744588\n",
      "T00 ERR ... 2020-5-26 17:53:43 DIIs error 6.05743113653e-05\n",
      "T00 ERR ... 2020-5-26 17:53:43 Delta Etot -5.44839220851e-06\n",
      "T00 ERR ... \n",
      "T00 ERR ... 2020-5-26 17:53:43 Iteration 8 of 100\n",
      "T00 ERR ... 2020-5-26 17:53:43 Total Energy -40.474074459\n",
      "T00 ERR ... 2020-5-26 17:53:43 DIIs error 3.79019192359e-05\n",
      "T00 ERR ... 2020-5-26 17:53:43 Delta Etot -2.01048067083e-10\n",
      "T00 ERR ... \n",
      "T00 ERR ... 2020-5-26 17:53:43 Iteration 9 of 100\n",
      "T00 ERR ... 2020-5-26 17:53:43 Total Energy -40.4740744594\n",
      "T00 ERR ... 2020-5-26 17:53:43 DIIs error 3.3576587295e-05\n",
      "T00 ERR ... 2020-5-26 17:53:43 Delta Etot -4.26510382567e-10\n",
      "T00 ERR ... \n",
      "T00 ERR ... 2020-5-26 17:53:43 Iteration 10 of 100\n",
      "T00 ERR ... 2020-5-26 17:53:43 Total Energy -40.4740744612\n",
      "T00 ERR ... 2020-5-26 17:53:43 DIIs error 3.83324158817e-06\n",
      "T00 ERR ... 2020-5-26 17:53:43 Delta Etot -1.74281922227e-09\n",
      "T00 ERR ... \n",
      "T00 ERR ... 2020-5-26 17:53:43 Iteration 11 of 100\n",
      "T00 ERR ... 2020-5-26 17:53:44 Total Energy -40.4740744612\n",
      "T00 ERR ... 2020-5-26 17:53:44 DIIs error 2.64331556429e-07\n",
      "T00 ERR ... 2020-5-26 17:53:44 Delta Etot -1.71240799318e-11\n",
      "T00 ERR ... \n",
      "T00 ERR ... 2020-5-26 17:53:44 Iteration 12 of 100\n",
      "T00 ERR ... 2020-5-26 17:53:44 Total Energy -40.4740744612\n",
      "T00 ERR ... 2020-5-26 17:53:44 DIIs error 6.23633227406e-09\n",
      "T00 ERR ... 2020-5-26 17:53:44 Delta Etot 1.06581410364e-13\n",
      "T00 ERR ... 2020-5-26 17:53:44 Total Energy has converged to 1.0658141e-13[Ha] after 12 iterations. DIIS error is converged up to 6.23633227e-09\n",
      "T00 ERR ... 2020-5-26 17:53:44 Final Single Point Energy -40.4740744612 Ha\n",
      "T00 ERR ...   Orbital energies: \n",
      "T00 ERR ...   index occupation energy(Hartree) \n",
      "T00 ERR ...      0      2   -10.2004909982\n",
      "T00 ERR ...      1      2   -0.7143102092\n",
      "T00 ERR ...      2      2   -0.4043185491\n",
      "T00 ERR ...      3      2   -0.4037645315\n",
      "T00 ERR ...      4      2   -0.4029803014\n",
      "T00 ERR ...      5      0   +0.0622496762\n",
      "T00 ERR ...      6      0   +0.1365382074\n",
      "T00 ERR ...      7      0   +0.1371135374\n",
      "T00 ERR ...      8      0   +0.1373256767\n",
      "T00 ERR ...      9      0   +0.2114612282\n",
      "T00 ERR ...     10      0   +0.2115663189\n",
      "T00 ERR ...     11      0   +0.2118693556\n",
      "T00 ERR ...     12      0   +0.4051809394\n",
      "T00 ERR ...     13      0   +0.4840815937\n",
      "T00 ERR ...     14      0   +0.4846220006\n",
      "T00 ERR ...     15      0   +0.4854425378\n",
      "T00 ERR ...     16      0   +0.5419029369\n",
      "T00 ERR ...     17      0   +0.5996923707\n",
      "T00 ERR ...     18      0   +0.5998272918\n",
      "T00 ERR ...     19      0   +0.9405097206\n",
      "T00 ERR ...     20      0   +0.9411590412\n",
      "T00 ERR ...     21      0   +0.9419265854\n",
      "T00 ERR ...     22      0   +1.4996801400\n",
      "T00 ERR ...     23      0   +1.5004167442\n",
      "T00 ERR ...     24      0   +1.5030753876\n",
      "T00 ERR ...     25      0   +1.5060274105\n",
      "T00 ERR ...     26      0   +1.5405319053\n",
      "T00 ERR ...     27      0   +1.5429385606\n",
      "T00 ERR ...     28      0   +1.5454348082\n",
      "T00 ERR ...     29      0   +1.9817366883\n",
      "T00 ERR ...     30      0   +2.0056154302\n",
      "T00 ERR ...     31      0   +2.0090882790\n",
      "T00 ERR ...     32      0   +2.0121389476\n",
      "T00 ERR ...     33      0   +2.2598141604\n",
      "T00 ERR ...     34      0   +2.2608210096\n",
      "T00 ERR ...     35      0   +2.2619373134\n",
      "T00 ERR ...     36      0   +2.4197166758\n",
      "T00 ERR ...     37      0   +2.4213393455\n",
      "T00 ERR ...     38      0   +2.5899575612\n",
      "T00 ERR ...     39      0   +2.5917923447\n",
      "T00 ERR ...     40      0   +2.5930334061\n",
      "T00 ERR ...     41      0   +2.9913442336\n",
      "T00 ERR ...     42      0   +2.9913950924\n",
      "T00 ERR ...     43      0   +3.0199274509\n",
      "T00 ERR ...     44      0   +3.3673324415\n",
      "T00 ERR ...     45      0   +3.3716908219\n",
      "T00 ERR ...     46      0   +3.3768107751\n",
      "T00 ERR ...     47      0   +3.5065135849\n",
      "T00 ERR ...     48      0   +3.5118503539\n",
      "T00 ERR ...     49      0   +3.5177707018\n",
      "T00 ERR ...     50      0   +4.2185936913\n",
      "T00 ERR ...     51      0   +4.2272398902\n",
      "T00 ERR ...     52      0   +4.2355157692\n",
      "T00 ERR ...     53      0   +4.4929496843\n",
      "T00 ERR ...     54      0   +22.2739249158\n",
      "T00 ERR ... 2020-5-26 17:53:44 Electric Dipole is[e*bohr]:\n",
      "\t\t dx=0.000757494954917\n",
      "\t\t dy=0.00326084725008\n",
      "\t\t dz=-0.00123417046044\n",
      "T00 ERR ... Writing result to votca.orb\n",
      "T00 ERR ... QM energy[Hrt]: -40.47407446 \n",
      "T00 ERR ... 2020-5-26 17:53:44 Evaluating polar 1\n"
     ]
    },
    {
     "name": "stdout",
     "output_type": "stream",
     "text": [
      "T00 ERR ... 2020-5-26 17:53:44 Evaluating interaction between polar 1 and qm 0\n",
      "T00 ERR ... 2020-5-26 17:53:45 Evaluating interaction between polar 1 and static 2\n",
      "T00 ERR ... 2020-5-26 17:53:45 Starting Solving for classical polarization with 1380 degrees of freedom.\n",
      "T00 ERR ... 2020-5-26 17:53:45 CG: #iterations: 7, estimated error: 5.54889470065e-06\n",
      "T00 ERR ...   Total static energy [hrt]= 0.0009102654542\n",
      "T00 ERR ...   Total polar energy [hrt]= -0.0006142561623\n",
      "T00 ERR ...  Total energy [hrt]= 0.0002960092919\n",
      "T00 ERR ... 2020-5-26 17:53:45 Evaluating static 2\n",
      "T00 ERR ... 2020-5-26 17:53:45 Writing checkpoint to checkpoint_iter_1.hdf5\n",
      "T00 ERR ...  Region:qm 0 is not converged deltaE=-40.47407446 RMS Dmat=0.03339379361 MaxDmat=0.8229286718\n",
      "T00 ERR ... 2020-5-26 17:53:45 Region:polar 1 is not converged deltaE=0.0002960092919\n",
      "T00 ERR ... 2020-5-26 17:53:45 --Total Energy all regions -40.47377845\n",
      "T00 ERR ... 2020-5-26 17:53:45 --Inter Region SCF Iteration 2 of 50\n",
      "T00 ERR ... 2020-5-26 17:53:45 Evaluating qm 0\n",
      "T00 ERR ... 2020-5-26 17:53:45 Evaluating interaction between qm 0 and polar 1\n",
      "T00 ERR ... 2020-5-26 17:53:45 Evaluating interaction between qm 0 and static 2\n",
      "T00 ERR ... Running DFT calculation\n",
      "T00 ERR ... 2020-5-26 17:53:45 Using 1 threads\n",
      "T00 ERR ... 2020-5-26 17:53:45 Using MKL overload for Eigen \n",
      "T00 ERR ...  Molecule Coordinates [A] \n",
      "T00 ERR ...   C   +30.3000 +1.2704 +5.5205\n",
      "T00 ERR ...   H   +31.2392 +1.4802 +6.0301\n",
      "T00 ERR ...   H   +30.4910 +0.6554 +4.6433\n",
      "T00 ERR ...   H   +29.8500 +2.2100 +5.2100\n",
      "T00 ERR ...   H   +29.6200 +0.7500 +6.2000\n",
      "T00 ERR ... 2020-5-26 17:53:45 Loaded DFT Basis Set def2-tzvp with 55 functions\n",
      "T00 ERR ... 2020-5-26 17:53:45 Total number of electrons: 10\n",
      "T00 ERR ... 2020-5-26 17:53:45 Smallest value of AOOverlap matrix is 0.001447191595\n",
      "T00 ERR ... 2020-5-26 17:53:45 Removed 0 basisfunction from inverse overlap matrix\n",
      "T00 ERR ... 2020-5-26 17:53:45 Convergence Options:\n",
      "T00 ERR ... \t\t Delta E [Ha]: 1e-07\n",
      "T00 ERR ... \t\t DIIS max error: 1e-07\n",
      "T00 ERR ... \t\t DIIS histlength: 20\n",
      "T00 ERR ... \t\t ADIIS start: 0.8\n",
      "T00 ERR ... \t\t DIIS start: 0.002\n",
      "T00 ERR ... \t\t Deleting oldest element from DIIS hist\n",
      "T00 ERR ... \t\t Levelshift[Ha]: 0\n",
      "T00 ERR ... \t\t Levelshift end: 0.2\n",
      "T00 ERR ... \t\t Mixing Parameter alpha: 0.7\n",
      "T00 ERR ... 2020-5-26 17:53:45 Calculated 4c integrals. \n",
      "T00 ERR ... 2020-5-26 17:53:45 Constructed independent particle hamiltonian \n",
      "T00 ERR ... 2020-5-26 17:53:45 Nuclear Repulsion Energy is 13.4434088\n",
      "T00 ERR ... 2020-5-26 17:53:45 Using hybrid functional with alpha=0.25\n",
      "T00 ERR ... 2020-5-26 17:53:46 Setup numerical integration grid medium for vxc functional XC_HYB_GGA_XC_PBEH\n",
      "T00 ERR ... 2020-5-26 17:53:46 Setup Initial Guess using: atom\n",
      "T00 ERR ... 2020-5-26 17:53:46 Calculating atom density for C\n",
      "T00 ERR ... 2020-5-26 17:53:48 Calculating atom density for H\n",
      "T00 ERR ... 2020-5-26 17:53:48 STARTING SCF cycle\n",
      "T00 ERR ...  --------------------------------------------------------------------------\n",
      "T00 ERR ... \n",
      "T00 ERR ... 2020-5-26 17:53:48 Iteration 1 of 100\n",
      "T00 ERR ... 2020-5-26 17:53:48 Total Energy -40.3765525115\n",
      "T00 ERR ... 2020-5-26 17:53:48 DIIs error 0.155405154641\n",
      "T00 ERR ... 2020-5-26 17:53:48 Delta Etot 0\n",
      "T00 ERR ... \n",
      "T00 ERR ... 2020-5-26 17:53:48 Iteration 2 of 100\n",
      "T00 ERR ... 2020-5-26 17:53:48 Total Energy -40.4179036075\n",
      "T00 ERR ... 2020-5-26 17:53:48 DIIs error 0.0599219245582\n",
      "T00 ERR ... 2020-5-26 17:53:48 Delta Etot -0.0413510960349\n",
      "T00 ERR ... \n",
      "T00 ERR ... 2020-5-26 17:53:48 Iteration 3 of 100\n",
      "T00 ERR ... 2020-5-26 17:53:49 Total Energy -40.4364502974\n",
      "T00 ERR ... 2020-5-26 17:53:49 DIIs error 0.0240347479551\n",
      "T00 ERR ... 2020-5-26 17:53:49 Delta Etot -0.0185466898956\n",
      "T00 ERR ... \n",
      "T00 ERR ... 2020-5-26 17:53:49 Iteration 4 of 100\n",
      "T00 ERR ... 2020-5-26 17:53:49 Total Energy -40.4717636305\n",
      "T00 ERR ... 2020-5-26 17:53:49 DIIs error 0.0214134060338\n",
      "T00 ERR ... 2020-5-26 17:53:49 Delta Etot -0.035313333099\n",
      "T00 ERR ... \n",
      "T00 ERR ... 2020-5-26 17:53:49 Iteration 5 of 100\n",
      "T00 ERR ... 2020-5-26 17:53:49 Total Energy -40.4712852513\n",
      "T00 ERR ... 2020-5-26 17:53:49 DIIs error 0.024496232882\n",
      "T00 ERR ... 2020-5-26 17:53:49 Delta Etot 0.000478379132652\n",
      "T00 ERR ... \n",
      "T00 ERR ... 2020-5-26 17:53:49 Iteration 6 of 100\n",
      "T00 ERR ... 2020-5-26 17:53:49 Total Energy -40.4740690104\n",
      "T00 ERR ... 2020-5-26 17:53:49 DIIs error 0.00104167891274\n",
      "T00 ERR ... 2020-5-26 17:53:49 Delta Etot -0.00278375907526\n",
      "T00 ERR ... \n",
      "T00 ERR ... 2020-5-26 17:53:49 Iteration 7 of 100\n",
      "T00 ERR ... 2020-5-26 17:53:50 Total Energy -40.4740744588\n",
      "T00 ERR ... 2020-5-26 17:53:50 DIIs error 6.05743113653e-05\n",
      "T00 ERR ... 2020-5-26 17:53:50 Delta Etot -5.44839220851e-06\n",
      "T00 ERR ... \n",
      "T00 ERR ... 2020-5-26 17:53:50 Iteration 8 of 100\n",
      "T00 ERR ... 2020-5-26 17:53:50 Total Energy -40.474074459\n",
      "T00 ERR ... 2020-5-26 17:53:50 DIIs error 3.79019192359e-05\n",
      "T00 ERR ... 2020-5-26 17:53:50 Delta Etot -2.01048067083e-10\n",
      "T00 ERR ... \n",
      "T00 ERR ... 2020-5-26 17:53:50 Iteration 9 of 100\n",
      "T00 ERR ... 2020-5-26 17:53:50 Total Energy -40.4740744594\n",
      "T00 ERR ... 2020-5-26 17:53:50 DIIs error 3.3576587295e-05\n",
      "T00 ERR ... 2020-5-26 17:53:50 Delta Etot -4.26510382567e-10\n",
      "T00 ERR ... \n",
      "T00 ERR ... 2020-5-26 17:53:50 Iteration 10 of 100\n",
      "T00 ERR ... 2020-5-26 17:53:50 Total Energy -40.4740744612\n",
      "T00 ERR ... 2020-5-26 17:53:50 DIIs error 3.83324158817e-06\n",
      "T00 ERR ... 2020-5-26 17:53:50 Delta Etot -1.74281922227e-09\n",
      "T00 ERR ... \n",
      "T00 ERR ... 2020-5-26 17:53:50 Iteration 11 of 100\n",
      "T00 ERR ... 2020-5-26 17:53:50 Total Energy -40.4740744612\n",
      "T00 ERR ... 2020-5-26 17:53:50 DIIs error 2.64331556429e-07\n",
      "T00 ERR ... 2020-5-26 17:53:50 Delta Etot -1.71240799318e-11\n",
      "T00 ERR ... \n",
      "T00 ERR ... 2020-5-26 17:53:50 Iteration 12 of 100\n",
      "T00 ERR ... 2020-5-26 17:53:51 Total Energy -40.4740744612\n",
      "T00 ERR ... 2020-5-26 17:53:51 DIIs error 6.23633227406e-09\n",
      "T00 ERR ... 2020-5-26 17:53:51 Delta Etot 1.06581410364e-13\n",
      "T00 ERR ... 2020-5-26 17:53:51 Total Energy has converged to 1.0658141e-13[Ha] after 12 iterations. DIIS error is converged up to 6.23633227e-09\n",
      "T00 ERR ... 2020-5-26 17:53:51 Final Single Point Energy -40.4740744612 Ha\n",
      "T00 ERR ...   Orbital energies: \n",
      "T00 ERR ...   index occupation energy(Hartree) \n",
      "T00 ERR ...      0      2   -10.2004909982\n",
      "T00 ERR ...      1      2   -0.7143102092\n",
      "T00 ERR ...      2      2   -0.4043185491\n",
      "T00 ERR ...      3      2   -0.4037645315\n",
      "T00 ERR ...      4      2   -0.4029803014\n",
      "T00 ERR ...      5      0   +0.0622496762\n",
      "T00 ERR ...      6      0   +0.1365382074\n",
      "T00 ERR ...      7      0   +0.1371135374\n",
      "T00 ERR ...      8      0   +0.1373256767\n",
      "T00 ERR ...      9      0   +0.2114612282\n",
      "T00 ERR ...     10      0   +0.2115663189\n",
      "T00 ERR ...     11      0   +0.2118693556\n",
      "T00 ERR ...     12      0   +0.4051809394\n",
      "T00 ERR ...     13      0   +0.4840815937\n",
      "T00 ERR ...     14      0   +0.4846220006\n",
      "T00 ERR ...     15      0   +0.4854425378\n",
      "T00 ERR ...     16      0   +0.5419029369\n",
      "T00 ERR ...     17      0   +0.5996923707\n",
      "T00 ERR ...     18      0   +0.5998272918\n",
      "T00 ERR ...     19      0   +0.9405097206\n",
      "T00 ERR ...     20      0   +0.9411590412\n",
      "T00 ERR ...     21      0   +0.9419265854\n",
      "T00 ERR ...     22      0   +1.4996801400\n",
      "T00 ERR ...     23      0   +1.5004167442\n",
      "T00 ERR ...     24      0   +1.5030753876\n",
      "T00 ERR ...     25      0   +1.5060274105\n",
      "T00 ERR ...     26      0   +1.5405319053\n",
      "T00 ERR ...     27      0   +1.5429385606\n",
      "T00 ERR ...     28      0   +1.5454348082\n",
      "T00 ERR ...     29      0   +1.9817366883\n",
      "T00 ERR ...     30      0   +2.0056154302\n",
      "T00 ERR ...     31      0   +2.0090882790\n",
      "T00 ERR ...     32      0   +2.0121389476\n",
      "T00 ERR ...     33      0   +2.2598141604\n",
      "T00 ERR ...     34      0   +2.2608210096\n",
      "T00 ERR ...     35      0   +2.2619373134\n",
      "T00 ERR ...     36      0   +2.4197166758\n",
      "T00 ERR ...     37      0   +2.4213393455\n",
      "T00 ERR ...     38      0   +2.5899575612\n",
      "T00 ERR ...     39      0   +2.5917923447\n",
      "T00 ERR ...     40      0   +2.5930334061\n",
      "T00 ERR ...     41      0   +2.9913442336\n",
      "T00 ERR ...     42      0   +2.9913950924\n",
      "T00 ERR ...     43      0   +3.0199274509\n",
      "T00 ERR ...     44      0   +3.3673324415\n",
      "T00 ERR ...     45      0   +3.3716908219\n",
      "T00 ERR ...     46      0   +3.3768107751\n",
      "T00 ERR ...     47      0   +3.5065135849\n",
      "T00 ERR ...     48      0   +3.5118503539\n",
      "T00 ERR ...     49      0   +3.5177707018\n",
      "T00 ERR ...     50      0   +4.2185936913\n",
      "T00 ERR ...     51      0   +4.2272398902\n",
      "T00 ERR ...     52      0   +4.2355157692\n",
      "T00 ERR ...     53      0   +4.4929496843\n",
      "T00 ERR ...     54      0   +22.2739249158\n",
      "T00 ERR ... 2020-5-26 17:53:51 Electric Dipole is[e*bohr]:\n",
      "\t\t dx=0.000757494954917\n",
      "\t\t dy=0.00326084725008\n",
      "\t\t dz=-0.00123417046044\n",
      "T00 ERR ... Writing result to votca.orb\n",
      "T00 ERR ... QM energy[Hrt]: -40.47407446 \n",
      "T00 ERR ... 2020-5-26 17:53:51 Evaluating polar 1\n"
     ]
    },
    {
     "name": "stdout",
     "output_type": "stream",
     "text": [
      "T00 ERR ... 2020-5-26 17:53:51 Evaluating interaction between polar 1 and qm 0\n",
      "T00 ERR ... 2020-5-26 17:53:51 Evaluating interaction between polar 1 and static 2\n",
      "T00 ERR ... 2020-5-26 17:53:52 Starting Solving for classical polarization with 1380 degrees of freedom.\n",
      "T00 ERR ... 2020-5-26 17:53:52 CG: #iterations: 0, estimated error: 5.54889470064e-06\n",
      "T00 ERR ...   Total static energy [hrt]= 0.0009102654542\n",
      "T00 ERR ...   Total polar energy [hrt]= -0.0006142561623\n",
      "T00 ERR ...  Total energy [hrt]= 0.0002960092919\n",
      "T00 ERR ... 2020-5-26 17:53:52 Evaluating static 2\n",
      "T00 ERR ... 2020-5-26 17:53:52 Writing checkpoint to checkpoint_iter_2.hdf5\n",
      "T00 ERR ...  Region:qm 0 is converged deltaE=0 RMS Dmat=0 MaxDmat=0\n",
      "T00 ERR ... 2020-5-26 17:53:52 Region:polar 1 is converged deltaE=0\n",
      "T00 ERR ... 2020-5-26 17:53:52 --Total Energy all regions -40.47377845\n",
      "T00 ERR ... 2020-5-26 17:53:52 Job converged after 2 iterations.\n",
      "T00 ERR ... Reporting job results\n",
      "\n",
      "T00 ERR ... Requesting next job\n",
      "T00 ERR ... Assign jobs from stack\n",
      "T00 ERR ... Sync did not yield any new jobs.\n",
      "T00 ERR ... Next job: ID = - (none available)\n",
      "MST ERR Assign jobs from stack\n",
      "Changes have not been written to state file.\n"
     ]
    }
   ],
   "source": [
    "!sed -i \"s/AVAILABLE/COMPLETE/g\" qmmm_jobs.xml                                                                                                                                                            \n",
    "!sed -i '0,/COMPLETE/s/COMPLETE/AVAILABLE/' qmmm_jobs.xml                                                                                                                                                 \n",
    "!xtp_parallel -e qmmm -o OPTIONFILES/qmmm.xml -f state.hdf5 -j run"
   ]
  },
  {
   "cell_type": "markdown",
   "metadata": {},
   "source": [
    "Finally, save the results"
   ]
  },
  {
   "cell_type": "code",
   "execution_count": null,
   "metadata": {},
   "outputs": [],
   "source": [
    "#!xtp_parallel -e qmmm -o OPTIONFILES/qmmm.xml -f state.hdf5 -j \"read\""
   ]
  }
 ],
 "metadata": {
  "kernelspec": {
   "display_name": "Python 3",
   "language": "python",
   "name": "python3"
  },
  "language_info": {
   "codemirror_mode": {
    "name": "ipython",
    "version": 3
   },
   "file_extension": ".py",
   "mimetype": "text/x-python",
   "name": "python",
   "nbconvert_exporter": "python",
   "pygments_lexer": "ipython3",
   "version": "3.8.3"
  }
 },
 "nbformat": 4,
 "nbformat_minor": 4
}
