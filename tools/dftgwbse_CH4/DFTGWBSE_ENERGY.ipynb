{
 "cells": [
  {
   "cell_type": "markdown",
   "metadata": {},
   "source": [
    "# DFT + GWBSE Energy Calculation Using CH4"
   ]
  },
  {
   "cell_type": "markdown",
   "metadata": {},
   "source": [
    "## Introduction"
   ]
  },
  {
   "cell_type": "markdown",
   "metadata": {},
   "source": [
    "This tutorial explains how to perform calculation to predict electronic excitation using the **GWBSE** method. See [the GW Compendium: A Practical Guide to Theoretical Photoemission Spectroscopy](https://doi.org/10.3389/fchem.2019.00377), for an excellent introduction to the method."
   ]
  },
  {
   "cell_type": "markdown",
   "metadata": {},
   "source": [
    "## Requirements\n",
    "* You will need to install **VOTCA** using the instructions described [here](https://github.com/votca/votca/blob/master/share/doc/INSTALL.rst)\n",
    "* Once the installation is completed you need to activate the VOTCA enviroment by running the `VOTCARC.bash` script that has been installed at the bin subfolder for the path that you have provided for the installation step above"
   ]
  },
  {
   "cell_type": "markdown",
   "metadata": {},
   "source": [
    "## Interacting with the XTP command line interface\n",
    "To run a DFT-GWBSE calculation we will use the [xtp_tools](https://www.votca.org/xtp/xtp_tools_overview.html) calculator. Run the following command to view the help message of `xtp_tools`:"
   ]
  },
  {
   "cell_type": "code",
   "execution_count": 1,
   "metadata": {},
   "outputs": [
    {
     "name": "stdout",
     "output_type": "stream",
     "text": [
      "==================================================\r\n",
      "========   VOTCA (http://www.votca.org)   ========\r\n",
      "==================================================\r\n",
      "\r\n",
      "please submit bugs to https://github.com/votca/xtp/issues\r\n",
      "\r\n",
      "xtp_tools, version 2022-dev gitid: a8dd32d (dirty) (compiled Jul  5 2021, 16:54:10)\r\n",
      "votca_csg, version 2022-dev gitid: a8dd32d (dirty) (compiled Jul  5 2021, 16:43:51)\r\n",
      "votca_tools, version 2022-dev gitid: a8dd32d (dirty) (compiled Jul  5 2021, 16:41:43)\r\n",
      "\r\n",
      "Runs excitation/charge transport tools\r\n",
      "\r\n",
      "\r\n",
      "\r\n",
      "Allowed options:\r\n",
      "  -h [ --help ]                 display this help and exit\r\n",
      "  --verbose                     be loud and noisy\r\n",
      "  --verbose1                    be very loud and noisy\r\n",
      "  -v [ --verbose2 ]             be extremly loud and noisy\r\n",
      "  -o [ --options ] arg          Tool user options.\r\n",
      "  -t [ --nthreads ] arg (=1)    number of threads to create\r\n",
      "  -e [ --execute ] arg        Name of Tool to run\r\n",
      "  -l [ --list ]               Lists all available Tools\r\n",
      "  -d [ --description ] arg    Short description of a Tools\r\n",
      "  -c [ --cmdoptions ] arg     Modify options via command line by e.g. '-c \r\n",
      "                              xmltag.subtag=value'. Use whitespace to separate \r\n",
      "                              multiple options\r\n",
      "  -p [ --printoptions ] arg   Prints xml options of a Tool\r\n",
      "  -g [ --gpus ] arg (=-1)       Number of gpus to use\r\n",
      "\r\n"
     ]
    }
   ],
   "source": [
    "!xtp_tools --help"
   ]
  },
  {
   "cell_type": "markdown",
   "metadata": {},
   "source": [
    "### Note\n",
    "> * In Jupyter the `!` symbol means: *run the following command as a standard unix command*\n",
    "> * In Jupyter the command `%env` set an environmental variable"
   ]
  },
  {
   "cell_type": "markdown",
   "metadata": {},
   "source": [
    "## Running a calculation with the default options\n",
    "To run a DFT-GWBSE calculation we just need to provide the path to the file in XYZ with the molecular coordinates. Check the [dftgwbse defaults](https://www.votca.org/xtp/dftgwbse.html) for further information."
   ]
  },
  {
   "cell_type": "code",
   "execution_count": 6,
   "metadata": {},
   "outputs": [],
   "source": [
    "!xtp_tools -c job_name=methane -t 2 -e dftgwbse > dftgwbse.log"
   ]
  },
  {
   "cell_type": "markdown",
   "metadata": {},
   "source": [
    "The previous command will run the DFT-GWBSE calculation using the aforementioned defaults and the results are store in the *Current Work Directory* in a file named `methane_summary.xml`. The `-c` option is important and we will come back to it later. It allows changing options form the command line."
   ]
  },
  {
   "cell_type": "markdown",
   "metadata": {},
   "source": [
    "## Running a calculation using your own input file\n",
    "Let create a folder to store the input `options` for XTP and use the `-p` option to print an option file there with all the options so we can modify it afterwards"
   ]
  },
  {
   "cell_type": "code",
   "execution_count": 12,
   "metadata": {},
   "outputs": [
    {
     "name": "stdout",
     "output_type": "stream",
     "text": [
      "Writing options for calculator dftgwbse to OPTIONFILES/dftgwbse.xml\r\n",
      "nothing to be done - stopping here\r\n"
     ]
    }
   ],
   "source": [
    "!mkdir -p OPTIONFILES\n",
    "!xtp_tools -p dftgwbse -o OPTIONFILES/dftgwbse.xml"
   ]
  },
  {
   "cell_type": "markdown",
   "metadata": {},
   "source": [
    "You should have a *XML* file with the DFTWGSE options that looks like"
   ]
  },
  {
   "cell_type": "code",
   "execution_count": 13,
   "metadata": {},
   "outputs": [
    {
     "name": "stdout",
     "output_type": "stream",
     "text": [
      "<options>\r\n",
      "<dftgwbse help=\"Compute electronic excitations using GW-BSE\">\r\n",
      "\t<job_name default=\"system\" help=\"Input file name without extension, also used for intermediate files\">system</job_name>\r\n",
      "\t<dftpackage help=\"options for dftpackages\">\r\n",
      "\t\t<name choices=\"xtp,orca\" default=\"xtp\" help=\"Name of the DFT package\">xtp</name>\r\n",
      "\t\t<charge choices=\"int\" default=\"0\" help=\"Molecular charge\">0</charge>\r\n",
      "\t\t<spin choices=\"int+\" default=\"1\" help=\"Molecular multiplicity\">1</spin>\r\n",
      "\t\t<basisset default=\"def2-tzvp\" help=\"Basis set for MOs\">def2-tzvp</basisset>\r\n",
      "\t\t<auxbasisset default=\"OPTIONAL\" help=\"Auxiliary basis set for RI\"/>\r\n",
      "\t\t<externalfield default=\"OPTIONAL\" help=\"Field given in x y z components\" unit=\"Hartree/bohr\"/>\r\n"
     ]
    }
   ],
   "source": [
    "!head -n 10 OPTIONFILES/dftgwbse.xml"
   ]
  },
  {
   "cell_type": "markdown",
   "metadata": {},
   "source": [
    "Some options are labelled as `OPTIONAL`, either fill them in or delete them if you do not want that functionality"
   ]
  },
  {
   "cell_type": "markdown",
   "metadata": {},
   "source": [
    "We created a small options file"
   ]
  },
  {
   "cell_type": "code",
   "execution_count": 18,
   "metadata": {},
   "outputs": [
    {
     "name": "stdout",
     "output_type": "stream",
     "text": [
      "<options>\r\n",
      "    <dftgwbse>\r\n",
      "        <job_name>methane</job_name>\r\n",
      "        <dftpackage>\r\n",
      "            <basisset>ubecppol</basisset>\r\n",
      "            <auxbasisset>aux-ubecppol</auxbasisset>\r\n",
      "        </dftpackage>\r\n",
      "    </dftgwbse>\r\n",
      "</options>\r\n"
     ]
    }
   ],
   "source": [
    "!cat dftgwbse2.xml"
   ]
  },
  {
   "cell_type": "code",
   "execution_count": 20,
   "metadata": {},
   "outputs": [],
   "source": [
    "!xtp_tools -o dftgwbse2.xml -t 2 -e dftgwbse > dftgwbse2.log"
   ]
  },
  {
   "cell_type": "markdown",
   "metadata": {},
   "source": [
    "XTP will automatically compare the default values with the user-provided and overwrites the defaults with the user input. Also, If I given property does not have a default value you can provide one using the XML file described above."
   ]
  },
  {
   "cell_type": "markdown",
   "metadata": {},
   "source": [
    "## Partial Charges\n",
    "We can compute now the partial charges using the `CHELPG` method by default. For more information see the [partialcharges documentation](https://www.votca.org/xtp/partialcharges.html). Once again, we only need to provide the name of the system to compute, which in our case is `methane`."
   ]
  },
  {
   "cell_type": "code",
   "execution_count": 23,
   "metadata": {},
   "outputs": [
    {
     "name": "stdout",
     "output_type": "stream",
     "text": [
      "<partialcharges help=\"Tool to derive partial charges from QM results stores in serialized file\" injected=\"true\" section=\"sec:overlap\">\n",
      "\t<esp2multipole help=\"ways to map electron densities \" link=\"esp2multipole.xml\">\n",
      "\t\t<state default=\"n2s1\" help=\"ground-,excited or transitionstate\">n2s1</state>\n",
      "\t\t<method choices=\"CHELPG,Mulliken,Lowdin\" default=\"CHELPG\" help=\"Method to use derive partial charges\">CHELPG</method>\n",
      "\t\t<gridsize choices=\"coarse,medium,fine,xfine,xcoarse\" default=\"fine\" help=\"Grid accuracy for numerical integration within CHELPG and GDMA\">fine</gridsize>\n",
      "\t</esp2multipole>\n",
      "\t<job_name default=\"system\" help=\"Input file name without extension, also used for intermediate files\" injected=\"true\">methane</job_name>\n",
      "</partialcharges>\n",
      "\n",
      "==================================================\n",
      "========   VOTCA (http://www.votca.org)   ========\n",
      "==================================================\n",
      "\n",
      "please submit bugs to https://github.com/votca/xtp/issues\n",
      "\n",
      "xtp_tools, version 2022-dev gitid: b4c29aa (dirty) (compiled Jul  7 2021, 17:32:21)\n",
      "votca_csg, version 2022-dev gitid: b4c29aa (dirty) (compiled Jul  7 2021, 16:43:14)\n",
      "votca_tools, version 2022-dev gitid: b4c29aa (dirty) (compiled Jul  7 2021, 16:39:10)\n",
      "\n",
      "Initializing tool\n",
      "... partialcharges Evaluating tool\n",
      "... partialcharges  Using 1 threads\n",
      "... ...  Loading QM data from methane.orb\n",
      "... ... ===== Running on 1 threads ===== \n",
      "... ... 2021-7-8 12:45:18 Calculated Densities at Numerical Grid, Number of electrons is 2.37461e-08\n",
      "... ... 2021-7-8 12:45:18 Calculating ESP at CHELPG grid points\n",
      "... ... 2021-7-8 12:45:20 Netcharge constrained to 0\n",
      "... ...  Sum of fitted charges: -2.70617e-16\n",
      "... ...  RMSE of fit:  0.00221585\n",
      "... ...  RRMSE of fit: 0.107179\n",
      "... ... El Dipole from fitted charges [e*bohr]:\n",
      "\t\t dx = -0.7278 dy = +0.4713 dz = -0.4706 |d|^2 = +0.9733\n",
      "... ... El Dipole from exact qm density [e*bohr]:\n",
      "\t\t dx = -0.7620 dy = +0.4941 dz = -0.4932 |d|^2 = +1.0681\n",
      "... ... Written charges to methane.mps"
     ]
    }
   ],
   "source": [
    "!xtp_tools -c job_name=methane -e partialcharges"
   ]
  },
  {
   "cell_type": "markdown",
   "metadata": {},
   "source": [
    "## Spectrum Calculation\n",
    "Finally, lets compute a convolution of the singlet spectrum using a gaussian function. For doing so, we will modify the default values for the [spectrum calculator](https://www.votca.org/xtp/spectrum.html) to compute the spectrum between 9 and 25 eV, using 1000 points in that energy range. We will use the `-c` option to modify the options accordingly. Instead we could have printed out an options file using the `xtp_tools -p spectrum` command and then modify the entries accordingly and then read them in using the `-o` option."
   ]
  },
  {
   "cell_type": "code",
   "execution_count": 24,
   "metadata": {},
   "outputs": [
    {
     "name": "stdout",
     "output_type": "stream",
     "text": [
      "<spectrum help=\"Convolutes singlet spectrum with gaussian or lorentzian function\" injected=\"true\">\r\n",
      "\t<job_name default=\"system\" help=\"Input file name without extension, also used for intermediate files\" injected=\"true\">methane</job_name>\r\n",
      "\t<fwhm choices=\"float+\" default=\"0.2\" help=\"peak width in eV\">0.2</fwhm>\r\n",
      "\t<lower choices=\"float+\" default=\"0.0\" help=\"lower bound of spectrum in eV\" injected=\"true\" unit=\"eV\">9</lower>\r\n",
      "\t<upper choices=\"float+\" default=\"3.5\" help=\"upper bound of spectrum in eV\" injected=\"true\" unit=\"eV\">25</upper>\r\n",
      "\t<points choices=\"int+\" default=\"100\" help=\"datapoints between upper and lower to calculate\" injected=\"true\">1000</points>\r\n",
      "\t<type choices=\"energy,wavelength\" default=\"energy\" help=\"print put energy/wavelength (eV/nm)\" unit=\"eV/nm\">energy</type>\r\n",
      "\t<minexc choices=\"int+\" default=\"0\" help=\"lowest exciton to include in spectrum\">0</minexc>\r\n",
      "\t<maxexc choices=\"int+\" default=\"10000\" help=\"highest exciton to include in spectrum\">10000</maxexc>\r\n",
      "\t<shift choices=\"float+\" default=\"0.0\" help=\"shift spectrum by amount of eV\" unit=\"eV\">0.0</shift>\r\n",
      "</spectrum>\r\n",
      "\r\n",
      "==================================================\r\n",
      "========   VOTCA (http://www.votca.org)   ========\r\n",
      "==================================================\r\n",
      "\r\n",
      "please submit bugs to https://github.com/votca/xtp/issues\r\n",
      "\r\n",
      "xtp_tools, version 2022-dev gitid: b4c29aa (dirty) (compiled Jul  7 2021, 17:32:21)\r\n",
      "votca_csg, version 2022-dev gitid: b4c29aa (dirty) (compiled Jul  7 2021, 16:43:14)\r\n",
      "votca_tools, version 2022-dev gitid: b4c29aa (dirty) (compiled Jul  7 2021, 16:39:10)\r\n",
      "\r\n",
      "Initializing tool\r\n",
      "... spectrum Evaluating tool\r\n",
      "... spectrum  Using 1 threads\r\n",
      "... ... Calculating absorption spectrum plot methane.orb\r\n",
      "... ...  Loading QM data from methane.orb\r\n",
      "... ...  Considering 10 excitation with max energy 14.6581 eV / min wave length 84.7405 nm\r\n",
      "... ...  Spectrum in energy range from  9 to 25 eV and with broadening of FWHM 0.2 eV written to file  methane_spectrum.dat"
     ]
    }
   ],
   "source": [
    "!xtp_tools -c job_name=methane lower=9 upper=25 points=1000 -e spectrum"
   ]
  },
  {
   "cell_type": "markdown",
   "metadata": {},
   "source": [
    "The results are stored in the `methane_spectrum.dat` file."
   ]
  },
  {
   "cell_type": "markdown",
   "metadata": {},
   "source": [
    "## (Optional) Plot the spectrum"
   ]
  },
  {
   "cell_type": "markdown",
   "metadata": {},
   "source": [
    "We will use [matplotlib](https://matplotlib.org/), [seaborn](https://seaborn.pydata.org/) and [pandas](https://pandas.pydata.org/) libraries to plot the spectrum. You can install it using [pip](https://pip.pypa.io/en/stable/) like"
   ]
  },
  {
   "cell_type": "code",
   "execution_count": 28,
   "metadata": {},
   "outputs": [
    {
     "name": "stdout",
     "output_type": "stream",
     "text": [
      "Requirement already satisfied: seaborn in /home/jens/.local/lib/python3.8/site-packages (0.11.1)\r\n",
      "Requirement already satisfied: numpy>=1.15 in /usr/lib/python3/dist-packages (from seaborn) (1.17.4)\r\n",
      "Requirement already satisfied: scipy>=1.0 in /home/jens/.local/lib/python3.8/site-packages (from seaborn) (1.6.0)\r\n",
      "Requirement already satisfied: matplotlib>=2.2 in /home/jens/.local/lib/python3.8/site-packages (from seaborn) (3.3.3)\r\n",
      "Requirement already satisfied: pandas>=0.23 in /home/jens/.local/lib/python3.8/site-packages (from seaborn) (1.1.4)\r\n",
      "Requirement already satisfied: pillow>=6.2.0 in /usr/lib/python3/dist-packages (from matplotlib>=2.2->seaborn) (7.0.0)\r\n",
      "Requirement already satisfied: kiwisolver>=1.0.1 in /home/jens/.local/lib/python3.8/site-packages (from matplotlib>=2.2->seaborn) (1.3.1)\r\n",
      "Requirement already satisfied: python-dateutil>=2.1 in /usr/lib/python3/dist-packages (from matplotlib>=2.2->seaborn) (2.7.3)\r\n",
      "Requirement already satisfied: pyparsing!=2.0.4,!=2.1.2,!=2.1.6,>=2.0.3 in /home/jens/.local/lib/python3.8/site-packages (from matplotlib>=2.2->seaborn) (2.4.7)\r\n",
      "Requirement already satisfied: cycler>=0.10 in /home/jens/.local/lib/python3.8/site-packages (from matplotlib>=2.2->seaborn) (0.10.0)\r\n",
      "Requirement already satisfied: six in /usr/lib/python3/dist-packages (from cycler>=0.10->matplotlib>=2.2->seaborn) (1.14.0)\r\n",
      "Requirement already satisfied: pytz>=2017.2 in /home/jens/.local/lib/python3.8/site-packages (from pandas>=0.23->seaborn) (2020.4)\r\n"
     ]
    }
   ],
   "source": [
    "!pip install seaborn --user"
   ]
  },
  {
   "cell_type": "code",
   "execution_count": 27,
   "metadata": {},
   "outputs": [
    {
     "data": {
      "text/plain": [
       "[]"
      ]
     },
     "execution_count": 27,
     "metadata": {},
     "output_type": "execute_result"
    },
    {
     "data": {
      "image/png": "[encoded data removed]",
      "text/plain": [
       "<Figure size 360x360 with 1 Axes>"
      ]
     },
     "metadata": {
      "needs_background": "light"
     },
     "output_type": "display_data"
    }
   ],
   "source": [
    "import pandas as pd \n",
    "import matplotlib.pyplot as plt\n",
    "import seaborn as sns\n",
    "columns = [\"E(eV)\", \"epsGaussian\",\"IM(eps)Gaussian\",  \"epsLorentz\",  \"Im(esp)Lorentz\"] \n",
    "df = pd.read_table(\"methane_spectrum.dat\", comment=\"#\", sep='\\s+',names=columns) \n",
    "sns.relplot(x=\"E(eV)\", y=\"epsGaussian\", ci=None, kind=\"line\", data=df) \n",
    "plt.plot()"
   ]
  },
  {
   "cell_type": "code",
   "execution_count": null,
   "metadata": {},
   "outputs": [],
   "source": []
  }
 ],
 "metadata": {
  "kernelspec": {
   "display_name": "Python 3",
   "language": "python",
   "name": "python3"
  },
  "language_info": {
   "codemirror_mode": {
    "name": "ipython",
    "version": 3
   },
   "file_extension": ".py",
   "mimetype": "text/x-python",
   "name": "python",
   "nbconvert_exporter": "python",
   "pygments_lexer": "ipython3",
   "version": "3.8.10"
  }
 },
 "nbformat": 4,
 "nbformat_minor": 4
}
