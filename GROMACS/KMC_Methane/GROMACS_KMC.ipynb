{
 "cells": [
  {
   "cell_type": "markdown",
   "metadata": {},
   "source": [
    "# Kinetic Monte Carlo Using Gromacs"
   ]
  },
  {
   "cell_type": "markdown",
   "metadata": {},
   "source": [
    "## Requirements\n",
    "* You will need to install **VOTCA** using the instructions described [here](https://github.com/votca/votca/blob/master/share/doc/INSTALL.md)\n",
    "* Once the installation is completed you need to activate the VOTCA enviroment by running the `VOTCARC.bash` script that has been installed at the `bin` subfolder for the path that you have provided for the installation step above"
   ]
  },
  {
   "cell_type": "markdown",
   "metadata": {},
   "source": [
    "## KMC simulations of multiple holes or electrons in periodic boundary conditions\n",
    "Let create a folder to store the input `options` for KMC runner and copy the defaults in there"
   ]
  },
  {
   "cell_type": "code",
   "execution_count": null,
   "metadata": {},
   "outputs": [],
   "source": [
    "!mkdir -p OPTIONFILES\n",
    "!cp $VOTCASHARE/xtp/xml/kmcmultiple.xml OPTIONFILES"
   ]
  },
  {
   "cell_type": "markdown",
   "metadata": {},
   "source": [
    "You should have a *XML* file with the `kmcmultiple` options that looks like"
   ]
  },
  {
   "cell_type": "code",
   "execution_count": null,
   "metadata": {},
   "outputs": [],
   "source": [
    "!head -n 10 OPTIONFILES/kmcmultiple.xml"
   ]
  },
  {
   "cell_type": "markdown",
   "metadata": {},
   "source": [
    "We will use the following python function to change the input for the `kmcmultiple` calculator. For a detailed description of the available options have a look at [kmcmultiple options and defaults](https://votca.github.io/kmcmultiple.html)"
   ]
  },
  {
   "cell_type": "code",
   "execution_count": null,
   "metadata": {},
   "outputs": [],
   "source": [
    "from xml_editor import edit_calculator\n",
    "edit_calculator(\"kmcmultiple\", \"runtime\", \"100\")\n",
    "edit_calculator(\"kmcmultiple\", \"outputtime\", \"10\")\n",
    "edit_calculator(\"kmcmultiple\", \"field\", \"0 0 0\")\n",
    "edit_calculator(\"kmcmultiple\", \"carriertype\", \"singlet\")\n",
    "edit_calculator(\"kmcmultiple\", \"rates\", \"calculate\")"
   ]
  },
  {
   "cell_type": "markdown",
   "metadata": {},
   "source": [
    "Now we can run the KMC simulation as follows,"
   ]
  },
  {
   "cell_type": "code",
   "execution_count": null,
   "metadata": {},
   "outputs": [],
   "source": [
    "!xtp_run -e kmcmultiple -o OPTIONFILES/kmcmultiple.xml -f state.hdf5"
   ]
  },
  {
   "cell_type": "markdown",
   "metadata": {},
   "source": [
    "## Perform Kinetic Monte Carlo simulations of singlets with decay\n",
    "Let us first copy the defaults and change just the `numberofinsertions`. For a complete description of the calculators options see [kmclifetime options and defaults](https://votca.github.io/kmclifetime.html)."
   ]
  },
  {
   "cell_type": "code",
   "execution_count": null,
   "metadata": {},
   "outputs": [],
   "source": [
    "!cp $VOTCASHARE/xtp/xml/kmclifetime.xml OPTIONFILES/\n",
    "edit_calculator(\"kmclifetime\", \"numberofinsertions\", \"5\")"
   ]
  },
  {
   "cell_type": "markdown",
   "metadata": {},
   "source": [
    "Finally, we run the calculation using the `lifetimes.xml` file that we have created by hand,"
   ]
  },
  {
   "cell_type": "code",
   "execution_count": null,
   "metadata": {},
   "outputs": [],
   "source": [
    "!xtp_run -e kmclifetime -o OPTIONFILES/kmclifetime.xml -f state.hdf5"
   ]
  }
 ],
 "metadata": {
  "kernelspec": {
   "display_name": "Python 3",
   "language": "python",
   "name": "python3"
  },
  "language_info": {
   "codemirror_mode": {
    "name": "ipython",
    "version": 3
   },
   "file_extension": ".py",
   "mimetype": "text/x-python",
   "name": "python",
   "nbconvert_exporter": "python",
   "pygments_lexer": "ipython3",
   "version": "3.8.3"
  }
 },
 "nbformat": 4,
 "nbformat_minor": 4
}
