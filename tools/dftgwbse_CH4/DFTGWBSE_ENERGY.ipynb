{
 "cells": [
  {
   "cell_type": "markdown",
   "metadata": {},
   "source": [
    "# DFT + GWBSE Energy Calculation Using CH4"
   ]
  },
  {
   "cell_type": "markdown",
   "metadata": {},
   "source": [
    "## Requirements\n",
    "* You will need to install **VOTCA** using the instructions described [here](https://github.com/votca/votca/blob/master/share/doc/INSTALL.md)\n",
    "* Once the installation is completed you need to activate the VOTCA enviroment by running the `VOTCARC.bash` script that has been installed at the bin subfolder for the path that you have provided for the installation step above"
   ]
  },
  {
   "cell_type": "markdown",
   "metadata": {},
   "source": [
    "## Interacting with the XTP command line interface\n",
    "To run a DFT-GWBSE calculation we will use the [xtp_tools](https://votca.github.io/xtp_tools.html) calculator. Run the following command to view the help message of `xtp_tools`:"
   ]
  },
  {
   "cell_type": "code",
   "execution_count": 1,
   "metadata": {},
   "outputs": [
    {
     "name": "stdout",
     "output_type": "stream",
     "text": [
      "==================================================\r\n",
      "========   VOTCA (http://www.votca.org)   ========\r\n",
      "==================================================\r\n",
      "\r\n",
      "please submit bugs to bugs@votca.org\r\n",
      "\r\n",
      "xtp_tools, version 1.7-dev gitid: 1c4a17f (dirty) (compiled May 28 2020, 15:47:26)\r\n",
      "votca_csg, version 1.7-dev gitid: 1c4a17f (dirty) (compiled May 28 2020, 15:41:22)\r\n",
      "votca_tools, version 1.7-dev gitid: 1c4a17f (dirty) (compiled May 28 2020, 15:40:09)\r\n",
      "\r\n",
      "Runs excitation/charge transport tools\r\n",
      "\r\n",
      "\r\n",
      "\r\n",
      "Allowed options:\r\n",
      "  -h [ --help ]                 display this help and exit\r\n",
      "  --verbose                     be loud and noisy\r\n",
      "  --verbose1                    be very loud and noisy\r\n",
      "  -v [ --verbose2 ]             be extremly loud and noisy\r\n",
      "  -o [ --options ] arg          calculator options\r\n",
      "  -t [ --nthreads ] arg (=1)    number of threads to create\r\n",
      "\r\n",
      "Tools:\r\n",
      "  -e [ --execute ] arg        List of tools separated by ',' or ' '\r\n",
      "  -l [ --list ]               Lists all available tools\r\n",
      "  -d [ --description ] arg    Short description of a tool\r\n",
      "  -n [ --name ] arg           Name of the job to run\r\n",
      "\r\n"
     ]
    }
   ],
   "source": [
    "!xtp_tools --help"
   ]
  },
  {
   "cell_type": "markdown",
   "metadata": {},
   "source": [
    "### Note\n",
    "> * In Jupyter the `!` symbol means: *run the following command as a standard unix command*\n",
    "> * In Jupyter the command `%env` set an environmental variable"
   ]
  },
  {
   "cell_type": "markdown",
   "metadata": {},
   "source": [
    "## Running a calculation with the default options\n",
    "To run a DFT-GWBSE calculation we just need to provide the path to the file in XYZ with the molecular coordinates. Check the [dftgwbse defaults](https://votca.github.io/dftgwbse.html) for further information."
   ]
  },
  {
   "cell_type": "code",
   "execution_count": 2,
   "metadata": {},
   "outputs": [
    {
     "name": "stdout",
     "output_type": "stream",
     "text": [
      "Registered dftgwbse==================================================\n",
      "========   VOTCA (http://www.votca.org)   ========\n",
      "==================================================\n",
      "\n",
      "please submit bugs to bugs@votca.org\n",
      "\n",
      "xtp_tools, version 1.7-dev gitid: 1c4a17f (dirty) (compiled May 28 2020, 15:47:26)\n",
      "votca_csg, version 1.7-dev gitid: 1c4a17f (dirty) (compiled May 28 2020, 15:41:22)\n",
      "votca_tools, version 1.7-dev gitid: 1c4a17f (dirty) (compiled May 28 2020, 15:40:09)\n",
      "\n",
      "Initializing tool\n",
      "... dftgwbse Evaluating tool\n",
      "... dftgwbse \n",
      "... ... Reading structure from methane.xyz\n",
      "... ... 2020-5-29 19:40:12 Using 1 threads\n",
      "... ... 2020-5-29 19:40:12 Using MKL overload for Eigen \n",
      "... ...  Molecule Coordinates [A] \n",
      "... ...   C   +30.3000 +1.2728 +5.5213\n",
      "... ...   H   +31.2389 +1.4779 +6.0335\n",
      "... ...   H   +30.4900 +0.6540 +4.6465\n",
      "... ...   H   +29.8465 +2.2131 +5.2108\n",
      "... ...   H   +29.6246 +0.7522 +6.1979\n",
      "... ... 2020-5-29 19:40:12 Loaded DFT Basis Set def2-tzvp with 55 functions\n",
      "... ... 2020-5-29 19:40:12 Total number of electrons: 10\n",
      "... ... 2020-5-29 19:40:12 Smallest value of AOOverlap matrix is 0.00144361\n",
      "... ... 2020-5-29 19:40:12 Removed 0 basisfunction from inverse overlap matrix\n",
      "... ... 2020-5-29 19:40:12 Convergence Options:\n",
      "... ... \t\t Delta E [Ha]: 1e-07\n",
      "... ... \t\t DIIS max error: 1e-07\n",
      "... ... \t\t DIIS histlength: 20\n",
      "... ... \t\t ADIIS start: 0.8\n",
      "... ... \t\t DIIS start: 0.002\n",
      "... ... \t\t Deleting oldest element from DIIS hist\n",
      "... ... \t\t Levelshift[Ha]: 0\n",
      "... ... \t\t Levelshift end: 0.2\n",
      "... ... \t\t Mixing Parameter alpha: 0.7\n",
      "... ... 2020-5-29 19:40:12 Calculated 4c integrals. \n",
      "... ... 2020-5-29 19:40:12 Constructed independent particle hamiltonian \n",
      "... ... 2020-5-29 19:40:12 Nuclear Repulsion Energy is 13.4507651\n",
      "... ... 2020-5-29 19:40:12 Using hybrid functional with alpha=0.25\n",
      "... ... 2020-5-29 19:40:12 Setup numerical integration grid medium for vxc functional XC_HYB_GGA_XC_PBEH\n",
      "... ... 2020-5-29 19:40:12 Setup Initial Guess using: atom\n",
      "... ... 2020-5-29 19:40:12 Calculating atom density for C\n",
      "... ... 2020-5-29 19:40:14 Calculating atom density for H\n",
      "... ... 2020-5-29 19:40:14 STARTING SCF cycle\n",
      "... ...  --------------------------------------------------------------------------\n",
      "... ... \n",
      "... ... 2020-5-29 19:40:14 Iteration 1 of 100\n",
      "... ... 2020-5-29 19:40:14 Total Energy -40.3764433201\n",
      "... ... 2020-5-29 19:40:14 DIIs error 0.155608266241\n",
      "... ... 2020-5-29 19:40:14 Delta Etot 0\n",
      "... ... \n",
      "... ... 2020-5-29 19:40:14 Iteration 2 of 100\n",
      "... ... 2020-5-29 19:40:15 Total Energy -40.4178480052\n",
      "... ... 2020-5-29 19:40:15 DIIs error 0.0600290925977\n",
      "... ... 2020-5-29 19:40:15 Delta Etot -0.0414046851215\n",
      "... ... \n",
      "... ... 2020-5-29 19:40:15 Iteration 3 of 100\n",
      "... ... 2020-5-29 19:40:15 Total Energy -40.4364222414\n",
      "... ... 2020-5-29 19:40:15 DIIs error 0.0240854953124\n",
      "... ... 2020-5-29 19:40:15 Delta Etot -0.0185742362002\n",
      "... ... \n",
      "... ... 2020-5-29 19:40:15 Iteration 4 of 100\n",
      "... ... 2020-5-29 19:40:15 Total Energy -40.4717820318\n",
      "... ... 2020-5-29 19:40:15 DIIs error 0.0214319691433\n",
      "... ... 2020-5-29 19:40:15 Delta Etot -0.0353597903694\n",
      "... ... \n",
      "... ... 2020-5-29 19:40:15 Iteration 5 of 100\n",
      "... ... 2020-5-29 19:40:15 Total Energy -40.47130669\n",
      "... ... 2020-5-29 19:40:15 DIIs error 0.0245054050638\n",
      "... ... 2020-5-29 19:40:15 Delta Etot 0.000475341823872\n",
      "... ... \n",
      "... ... 2020-5-29 19:40:15 Iteration 6 of 100\n",
      "... ... 2020-5-29 19:40:15 Total Energy -40.4740924771\n",
      "... ... 2020-5-29 19:40:15 DIIs error 0.00103470873415\n",
      "... ... 2020-5-29 19:40:15 Delta Etot -0.00278578708333\n",
      "... ... \n",
      "... ... 2020-5-29 19:40:15 Iteration 7 of 100\n",
      "... ... 2020-5-29 19:40:16 Total Energy -40.4740978482\n",
      "... ... 2020-5-29 19:40:16 DIIs error 6.15761447326e-05\n",
      "... ... 2020-5-29 19:40:16 Delta Etot -5.37117053057e-06\n",
      "... ... \n",
      "... ... 2020-5-29 19:40:16 Iteration 8 of 100\n",
      "... ... 2020-5-29 19:40:16 Total Energy -40.4740978483\n",
      "... ... 2020-5-29 19:40:16 DIIs error 3.89471774075e-05\n",
      "... ... 2020-5-29 19:40:16 Delta Etot -6.09503558735e-11\n",
      "... ... \n",
      "... ... 2020-5-29 19:40:16 Iteration 9 of 100\n",
      "... ... 2020-5-29 19:40:16 Total Energy -40.4740978504\n",
      "... ... 2020-5-29 19:40:16 DIIs error 4.92085460361e-06\n",
      "... ... 2020-5-29 19:40:16 Delta Etot -2.10915374055e-09\n",
      "... ... \n",
      "... ... 2020-5-29 19:40:16 Iteration 10 of 100\n",
      "... ... 2020-5-29 19:40:16 Total Energy -40.4740978505\n",
      "... ... 2020-5-29 19:40:16 DIIs error 2.40607302577e-06\n",
      "... ... 2020-5-29 19:40:16 Delta Etot -5.30988586434e-11\n",
      "... ... \n",
      "... ... 2020-5-29 19:40:16 Iteration 11 of 100\n",
      "... ... 2020-5-29 19:40:16 Total Energy -40.4740978505\n",
      "... ... 2020-5-29 19:40:16 DIIs error 2.44407102994e-07\n",
      "... ... 2020-5-29 19:40:16 Delta Etot -7.48912043491e-12\n",
      "... ... \n",
      "... ... 2020-5-29 19:40:16 Iteration 12 of 100\n",
      "... ... 2020-5-29 19:40:17 Total Energy -40.4740978505\n",
      "... ... 2020-5-29 19:40:17 DIIs error 5.44909070933e-09\n",
      "... ... 2020-5-29 19:40:17 Delta Etot 1.42108547152e-13\n",
      "... ... 2020-5-29 19:40:17 Total Energy has converged to 1.42108547e-13[Ha] after 12 iterations. DIIS error is converged up to 5.44909071e-09\n",
      "... ... 2020-5-29 19:40:17 Final Single Point Energy -40.4740978505 Ha\n",
      "... ...   Orbital energies: \n",
      "... ...   index occupation energy(Hartree) \n",
      "... ...      0      2   -10.2002213370\n",
      "... ...      1      2   -0.7144890269\n",
      "... ...      2      2   -0.4042271922\n",
      "... ...      3      2   -0.4037231845\n",
      "... ...      4      2   -0.4034329340\n",
      "... ...      5      0   +0.0623332838\n",
      "... ...      6      0   +0.1370350434\n",
      "... ...      7      0   +0.1371114119\n",
      "... ...      8      0   +0.1372159563\n",
      "... ...      9      0   +0.2115865371\n",
      "... ...     10      0   +0.2116138868\n",
      "... ...     11      0   +0.2116308501\n",
      "... ...     12      0   +0.4052288371\n",
      "... ...     13      0   +0.4846450538\n",
      "... ...     14      0   +0.4849352013\n",
      "... ...     15      0   +0.4854043211\n",
      "... ...     16      0   +0.5423381584\n",
      "... ...     17      0   +0.5997368081\n",
      "... ...     18      0   +0.5997714717\n",
      "... ...     19      0   +0.9409896833\n",
      "... ...     20      0   +0.9412700851\n",
      "... ...     21      0   +0.9413880743\n",
      "... ...     22      0   +1.4995600386\n",
      "... ...     23      0   +1.5027226054\n",
      "... ...     24      0   +1.5029537052\n",
      "... ...     25      0   +1.5035740788\n",
      "... ...     26      0   +1.5429825228\n",
      "... ...     27      0   +1.5432283205\n",
      "... ...     28      0   +1.5439188182\n",
      "... ...     29      0   +1.9816361363\n",
      "... ...     30      0   +2.0080751368\n",
      "... ...     31      0   +2.0088510314\n",
      "... ...     32      0   +2.0107128114\n",
      "... ...     33      0   +2.2608703037\n",
      "... ...     34      0   +2.2615078341\n",
      "... ...     35      0   +2.2617634318\n",
      "... ...     36      0   +2.4204825075\n",
      "... ...     37      0   +2.4208415170\n",
      "... ...     38      0   +2.5914543469\n",
      "... ...     39      0   +2.5921354940\n",
      "... ...     40      0   +2.5932702806\n",
      "... ...     41      0   +2.9917935656\n",
      "... ...     42      0   +2.9918039513\n",
      "... ...     43      0   +3.0209014785\n",
      "... ...     44      0   +3.3702753019\n",
      "... ...     45      0   +3.3731556157\n",
      "... ...     46      0   +3.3744157570\n",
      "... ...     47      0   +3.5109730830\n",
      "... ...     48      0   +3.5127769441\n",
      "... ...     49      0   +3.5135401207\n",
      "... ...     50      0   +4.2272220492\n",
      "... ...     51      0   +4.2288576909\n",
      "... ...     52      0   +4.2296500576\n",
      "... ...     53      0   +4.4941770432\n",
      "... ...     54      0   +22.2772682943\n",
      "... ... 2020-5-29 19:40:17 Electric Dipole is[e*bohr]:\n",
      "\t\t dx=-2.74595687807e-05\n",
      "\t\t dy=0.000567129648174\n",
      "\t\t dz=0.000406083315588\n",
      "... ... Writing result to methane.orb\n",
      "... ... Parsing DFT data from methane.orb and methane.orb\n",
      "... ... QM energy[Hrt]: -40.47409785 \n",
      "... ... 2020-5-29 19:40:17 RPA level range [0:54]\n",
      "... ... 2020-5-29 19:40:17 GW  level range [0:13]\n",
      "... ... 2020-5-29 19:40:17 BSE level range occ[0:4]  virt[5:13]\n",
      "... ... 2020-5-29 19:40:17 BSE Hamiltonian has size 45x45\n",
      "... ...  BSE type: full\n",
      "... ...  BSE without Hqp offdiagonal elements\n",
      "... ...  Running GW as: evGW\n",
      "... ...  g_sc_limit [Hartree]: 1e-05\n",
      "... ...  gw_sc_limit [Hartree]: 1e-05\n",
      "... ...  Tasks: \n",
      "... ...  GW \n",
      "... ...  singlets \n",
      "... ...  Store: \n",
      "... ...  GW \n",
      "... ...  Sigma integration: ppm\n",
      "... ...  eta: 0.001\n",
      "... ...  QP solver: grid\n",
      "... ...  QP grid steps: 1001\n",
      "... ...  QP grid spacing: 0.001\n",
      "... ...  evGW with Anderson update with history 20 using alpha 0.7\n",
      "... ... 2020-5-29 19:40:17 Using 1 threads\n",
      "... ... 2020-5-29 19:40:17 Using MKL overload for Eigen \n",
      "... ... 2020-5-29 19:40:17 Molecule Coordinates [A] \n",
      "... ...   C   +30.3000 +1.2728 +5.5213\n",
      "... ...   H   +31.2389 +1.4779 +6.0335\n",
      "... ...   H   +30.4900 +0.6540 +4.6465\n",
      "... ...   H   +29.8465 +2.2131 +5.2108\n",
      "... ...   H   +29.6246 +0.7522 +6.1979\n",
      "... ... 2020-5-29 19:40:17 DFT data was created by xtp\n",
      "... ... 2020-5-29 19:40:17 Loaded DFT Basis Set def2-tzvp\n",
      "... ... 2020-5-29 19:40:17 Filled DFT Basis of size 55\n",
      "... ... 2020-5-29 19:40:17 Loaded Auxbasis Set aux-def2-tzvp\n",
      "... ... 2020-5-29 19:40:17 Filled Auxbasis of size 136\n"
     ]
    },
    {
     "name": "stdout",
     "output_type": "stream",
     "text": [
      "... ... 2020-5-29 19:40:17 Calculating Mmn_beta (3-center-repulsion x orbitals)  \n",
      "... ... 2020-5-29 19:40:17 Calculated Mmn_beta (3-center-repulsion x orbitals)  \n",
      "... ... 2020-5-29 19:40:17 Integrating Vxc in VOTCA with functional XC_HYB_GGA_XC_PBEH\n",
      "... ... 2020-5-29 19:40:17 Set hybrid exchange factor: 0.25\n",
      "... ... 2020-5-29 19:40:17 Calculated exchange-correlation expectation values \n",
      "... ... 2020-5-29 19:40:17 Calculated Hartree exchange contribution\n",
      "... ... 2020-5-29 19:40:17 Scissor shifting DFT energies by: 0 Hrt\n",
      "... ...   ====== Perturbative quasiparticle energies (Hartree) ====== \n",
      "... ...    DeltaHLGap = +0.193653 Hartree\n",
      "... ...   Level =    0 DFT = -10.2002 VXC = -1.7074 S-X = -2.6757 S-C = +0.4352 GWA = -10.7333\n",
      "... ...   Level =    1 DFT = -0.7145 VXC = -0.4432 S-X = -0.6648 S-C = +0.0860 GWA = -0.8500\n",
      "... ...   Level =    2 DFT = -0.4042 VXC = -0.3981 S-X = -0.5324 S-C = +0.0135 GWA = -0.5250\n",
      "... ...   Level =    3 DFT = -0.4037 VXC = -0.3980 S-X = -0.5322 S-C = +0.0134 GWA = -0.5245\n",
      "... ...   HOMO  =    4 DFT = -0.4034 VXC = -0.3979 S-X = -0.5320 S-C = +0.0134 GWA = -0.5242\n",
      "... ...   LUMO  =    5 DFT = +0.0623 VXC = -0.1446 S-X = -0.0517 S-C = -0.0200 GWA = +0.1352\n",
      "... ...   Level =    6 DFT = +0.1370 VXC = -0.1725 S-X = -0.0638 S-C = -0.0232 GWA = +0.2226\n",
      "... ...   Level =    7 DFT = +0.1371 VXC = -0.1724 S-X = -0.0637 S-C = -0.0232 GWA = +0.2226\n",
      "... ...   Level =    8 DFT = +0.1372 VXC = -0.1721 S-X = -0.0635 S-C = -0.0231 GWA = +0.2227\n",
      "... ...   Level =    9 DFT = +0.2116 VXC = -0.1547 S-X = -0.0499 S-C = -0.0195 GWA = +0.2968\n",
      "... ...   Level =   10 DFT = +0.2116 VXC = -0.1547 S-X = -0.0499 S-C = -0.0195 GWA = +0.2968\n",
      "... ...   Level =   11 DFT = +0.2116 VXC = -0.1546 S-X = -0.0499 S-C = -0.0195 GWA = +0.2968\n",
      "... ...   Level =   12 DFT = +0.4052 VXC = -0.1411 S-X = -0.0378 S-C = -0.0227 GWA = +0.4858\n",
      "... ...   Level =   13 DFT = +0.4846 VXC = -0.2827 S-X = -0.1080 S-C = -0.0628 GWA = +0.5966\n",
      "... ... 2020-5-29 19:40:19 Calculated offdiagonal part of Sigma  \n",
      "... ... 2020-5-29 19:40:19 Full quasiparticle Hamiltonian  \n",
      "... ...   ====== Diagonalized quasiparticle energies (Hartree) ====== \n",
      "... ...   Level =    0 PQP = -10.733262 DQP = -10.733282 \n",
      "... ...   Level =    1 PQP = -0.849999 DQP = -0.850047 \n",
      "... ...   Level =    2 PQP = -0.525030 DQP = -0.525062 \n",
      "... ...   Level =    3 PQP = -0.524493 DQP = -0.524525 \n",
      "... ...   HOMO  =    4 PQP = -0.524185 DQP = -0.524256 \n",
      "... ...   LUMO  =    5 PQP = +0.135235 DQP = +0.134269 \n",
      "... ...   Level =    6 PQP = +0.222598 DQP = +0.219859 \n",
      "... ...   Level =    7 PQP = +0.222631 DQP = +0.222525 \n",
      "... ...   Level =    8 PQP = +0.222666 DQP = +0.222559 \n",
      "... ...   Level =    9 PQP = +0.296827 DQP = +0.296958 \n",
      "... ...   Level =   10 PQP = +0.296832 DQP = +0.296969 \n",
      "... ...   Level =   11 PQP = +0.296836 DQP = +0.296974 \n",
      "... ...   Level =   12 PQP = +0.485821 DQP = +0.486855 \n",
      "... ...   Level =   13 PQP = +0.596602 DQP = +0.599282 \n",
      "... ... 2020-5-29 19:40:19 Diagonalized QP Hamiltonian  \n",
      "... ... 2020-5-29 19:40:19 Setup Full singlet hamiltonian \n",
      "... ... 2020-5-29 19:40:19 Using full matrix method\n",
      "... ... 2020-5-29 19:40:19 == Warning : Orthogonalization set to QR for non-symmetric matrix\n",
      "... ... 2020-5-29 19:40:19 Davidson Solver using 1 threads.\n",
      "... ... 2020-5-29 19:40:19 Tolerance : 0.0001\n",
      "... ... 2020-5-29 19:40:19 DPR Correction\n",
      "... ... 2020-5-29 19:40:19 QR Orthogonalization\n",
      "... ... 2020-5-29 19:40:19 Matrix size : 90x90\n",
      "... ... 2020-5-29 19:40:19 iter\tSearch Space\tNorm\n",
      "... ... 2020-5-29 19:40:19    0           10 \t 4.87e-02 \t  0.00% converged\n",
      "... ... 2020-5-29 19:40:19    1           17 \t 1.91e-02 \t  0.00% converged\n",
      "... ... 2020-5-29 19:40:19    2           24 \t 9.04e-03 \t  0.00% converged\n",
      "... ... 2020-5-29 19:40:19    3           31 \t 1.96e-03 \t  0.00% converged\n",
      "... ... 2020-5-29 19:40:19    4           38 \t 1.06e-04 \t 60.00% converged\n",
      "... ... 2020-5-29 19:40:19    5           41 \t 1.10e-05 \t 100.00% converged\n",
      "... ... 2020-5-29 19:40:19 Davidson converged after 5 iterations.\n",
      "... ... 2020-5-29 19:40:19-----------------------------------\n",
      "... ... 2020-5-29 19:40:19- Davidson ran for 0.004185912secs.\n",
      "... ... 2020-5-29 19:40:19-----------------------------------\n",
      "... ... 2020-5-29 19:40:19 Solved BSE for singlets \n",
      "... ...   ====== singlet energies (eV) ====== \n",
      "... ...   S =    1 Omega = +11.653016272090 eV  lamdba = +106.41 nm <FT> = +18.0699 <K_x> = +0.3825 <K_d> = -7.1647\n",
      "... ...            TrDipole length gauge[e*bohr]  dx = +0.5646 dy = -0.4968 dz = +0.4439 |d|^2 = +0.7626 f = +0.2177\n",
      "... ...            HOMO-0   -> LUMO+0    : 98.2%\n",
      "... ... \n",
      "... ...   S =    2 Omega = +11.668793162029 eV  lamdba = +106.27 nm <FT> = +18.0763 <K_x> = +0.3914 <K_d> = -7.1748\n",
      "... ...            TrDipole length gauge[e*bohr]  dx = -0.6219 dy = -0.6057 dz = +0.1135 |d|^2 = +0.7665 f = +0.2191\n",
      "... ...            HOMO-1   -> LUMO+0    : 98.2%\n",
      "... ... \n",
      "... ...   S =    3 Omega = +11.683842790783 eV  lamdba = +106.13 nm <FT> = +18.0907 <K_x> = +0.3906 <K_d> = -7.1729\n",
      "... ...            TrDipole length gauge[e*bohr]  dx = +0.2431 dy = -0.3901 dz = -0.7444 |d|^2 = +0.7654 f = +0.2191\n",
      "... ...            HOMO-2   -> LUMO+0    : 98.2%\n",
      "... ... \n",
      "... ...   S =    4 Omega = +13.348498039710 eV  lamdba = +92.89 nm <FT> = +20.6002 <K_x> = +0.1675 <K_d> = -7.5837\n",
      "... ...            TrDipole length gauge[e*bohr]  dx = +0.0281 dy = +0.0115 dz = -0.0143 |d|^2 = +0.0011 f = +0.0004\n",
      "... ...            HOMO-2   -> LUMO+1    : 60.8%\n",
      "... ... \n",
      "... ...   S =    5 Omega = +13.386083079932 eV  lamdba = +92.63 nm <FT> = +20.5215 <K_x> = +0.1514 <K_d> = -7.4350\n",
      "... ...            TrDipole length gauge[e*bohr]  dx = +0.0952 dy = -0.0180 dz = +0.0440 |d|^2 = +0.0113 f = +0.0037\n",
      "... ... \n",
      "... ... 2020-5-29 19:40:19 GWBSE calculation finished \n",
      "... ... Saving data to methane.orb\n",
      "... ... Writing output to methane_summary.xml"
     ]
    }
   ],
   "source": [
    "!xtp_tools -n methane -e dftgwbse"
   ]
  },
  {
   "cell_type": "markdown",
   "metadata": {},
   "source": [
    "The previous command will run the DFT-GWBSE calculation using the aforementioned defaults and the results are store in the *Current Work Directory* in a file named `methane_summary.xml`."
   ]
  },
  {
   "cell_type": "markdown",
   "metadata": {},
   "source": [
    "## Running a calculation using your own input file\n",
    "Let create a folder to store the input `options` for XTP and copy the defaults in there"
   ]
  },
  {
   "cell_type": "code",
   "execution_count": 3,
   "metadata": {},
   "outputs": [],
   "source": [
    "!mkdir -p OPTIONFILES\n",
    "!cp $VOTCASHARE/xtp/xml/dftgwbse.xml OPTIONFILES"
   ]
  },
  {
   "cell_type": "markdown",
   "metadata": {},
   "source": [
    "You should have a *XML* file with the DFTWGSE options that looks like"
   ]
  },
  {
   "cell_type": "code",
   "execution_count": 4,
   "metadata": {},
   "outputs": [
    {
     "name": "stdout",
     "output_type": "stream",
     "text": [
      "<?xml version=\"1.0\"?>\r\n",
      "<options>\r\n",
      "  <!-- xtp_tools -e dftgwbse options.xml -->\r\n",
      "  <dftgwbse help=\"Compute electronic excitations using GW-BSE\">\r\n",
      "    <optimize help=\"Perform a molecular geometry optimization\" default=\"false\" choices=\"bool\">false</optimize>\r\n",
      "    <basisset help=\"Basis set for MOs\" default=\"def2-tzvp\">def2-tzvp</basisset>\r\n",
      "    <auxbasisset help=\"Auxiliary basis set for RI\" default=\"aux-def2-tzvp\">aux-def2-tzvp</auxbasisset>\r\n",
      "    <functional help=\"Functional name(s) according to LIBXC\" default=\"XC_HYB_GGA_XC_PBEH\">XC_HYB_GGA_XC_PBEH</functional>\r\n",
      "    <dftpackage>\r\n",
      "      <package>\r\n"
     ]
    }
   ],
   "source": [
    "!head -n 10 OPTIONFILES/dftgwbse.xml"
   ]
  },
  {
   "cell_type": "markdown",
   "metadata": {},
   "source": [
    "We will use the folling python snippet to change the `basisset` and the `auxbasisset`,"
   ]
  },
  {
   "cell_type": "code",
   "execution_count": 5,
   "metadata": {},
   "outputs": [
    {
     "name": "stdout",
     "output_type": "stream",
     "text": [
      "The option 'basisset' on file 'OPTIONFILES/dftgwbse.xml' has been set to 'ubecppol'\n",
      "The option 'auxbasisset' on file 'OPTIONFILES/dftgwbse.xml' has been set to 'aux-ubecppol'\n"
     ]
    }
   ],
   "source": [
    "from xml_editor import edit_calculator\n",
    "edit_calculator(\"dftgwbse\", \"basisset\", \"ubecppol\")\n",
    "edit_calculator(\"dftgwbse\", \"auxbasisset\", \"aux-ubecppol\")"
   ]
  },
  {
   "cell_type": "markdown",
   "metadata": {},
   "source": [
    "Now you can run the calculation using the `-o` command line argument, as follows"
   ]
  },
  {
   "cell_type": "code",
   "execution_count": 6,
   "metadata": {},
   "outputs": [],
   "source": [
    "!xtp_tools -n methane -e dftgwbse -o OPTIONFILES/dftgwbse.xml > dftgwbse.log"
   ]
  },
  {
   "cell_type": "markdown",
   "metadata": {},
   "source": [
    "### Note\n",
    "Alternatively you could have create an empty `dftgwbse.xml` file and add the `basisset` and the `auxbasisset` by hand, as follows,"
   ]
  },
  {
   "cell_type": "markdown",
   "metadata": {},
   "source": [
    "```xml\n",
    "<options>\n",
    "  \n",
    "  <dftgwbse help=\"Compute electronic excitations using GW-BSE\">\n",
    "    <basisset>ubecppol</basisset>\n",
    "    <auxbasisset>aux-ubecppol</auxbasisset>\n",
    "  </dftgwbse>\n",
    "\n",
    "</options>\n",
    "```"
   ]
  },
  {
   "cell_type": "markdown",
   "metadata": {},
   "source": [
    "XTP will automatically compare the default values with the user-provided and overwrites the defaults with the user input. Also, If I given property does not have a default value you can provide one using the XML file described above."
   ]
  },
  {
   "cell_type": "markdown",
   "metadata": {},
   "source": [
    "## Partial Charges\n",
    "We can compute now the partial charges using the `CHELPG` method by default. For more information see the [partialcharges documentation](https://votca.github.io/partialcharges.html). Once again, we only need to provide the name of the system to compute, which in our case is `methane`."
   ]
  },
  {
   "cell_type": "code",
   "execution_count": 7,
   "metadata": {},
   "outputs": [
    {
     "name": "stdout",
     "output_type": "stream",
     "text": [
      "Registered partialcharges==================================================\n",
      "========   VOTCA (http://www.votca.org)   ========\n",
      "==================================================\n",
      "\n",
      "please submit bugs to bugs@votca.org\n",
      "\n",
      "xtp_tools, version 1.7-dev gitid: 1c4a17f (dirty) (compiled May 28 2020, 15:47:26)\n",
      "votca_csg, version 1.7-dev gitid: 1c4a17f (dirty) (compiled May 28 2020, 15:41:22)\n",
      "votca_tools, version 1.7-dev gitid: 1c4a17f (dirty) (compiled May 28 2020, 15:40:09)\n",
      "\n",
      "Initializing tool\n",
      "... partialcharges Evaluating tool\n",
      "... partialcharges \n",
      "... ...  Loading QM data from methane.orb\n",
      "... ... ===== Running on 1 threads ===== \n",
      "... ... 2020-5-29 19:40:27 Calculated Densities at Numerical Grid, Number of electrons is -2.44672e-08\n",
      "... ... 2020-5-29 19:40:27 Calculating ESP at CHELPG grid points\n",
      "... ... 2020-5-29 19:40:28 Netcharge constrained to 0\n",
      "... ...  Sum of fitted charges: -2.08167e-16\n",
      "... ...  RMSE of fit:  0.00221299\n",
      "... ...  RRMSE of fit: 0.109009\n",
      "... ... El Dipole from fitted charges [e*bohr]:\n",
      "\t\t dx = +0.7191 dy = -0.4578 dz = +0.4599 |d|^2 = +0.9381\n",
      "... ... El Dipole from exact qm density [e*bohr]:\n",
      "\t\t dx = +0.7528 dy = -0.4798 dz = +0.4820 |d|^2 = +1.0293\n",
      "... ... Written charges to methane.mps"
     ]
    }
   ],
   "source": [
    "!xtp_tools -n methane -e partialcharges"
   ]
  },
  {
   "cell_type": "markdown",
   "metadata": {},
   "source": [
    "## Spectrum Calculation\n",
    "Finally, lets compute a convolution of the singlet spectrum using a gaussian function. For doing so, we will modify the default values for the [spectrum calculator](https://votca.github.io/spectrum.html) to compute the spectrum between 9 and 25 eV, using 1000 points in that energy range. We will first grap a copy of [spectrum calculator](https://votca.github.io/spectrum.html) and the modify its values as follows,"
   ]
  },
  {
   "cell_type": "code",
   "execution_count": 8,
   "metadata": {},
   "outputs": [
    {
     "name": "stdout",
     "output_type": "stream",
     "text": [
      "The option 'lower' on file 'OPTIONFILES/spectrum.xml' has been set to '9'\n",
      "The option 'upper' on file 'OPTIONFILES/spectrum.xml' has been set to '25'\n",
      "The option 'points' on file 'OPTIONFILES/spectrum.xml' has been set to '1000'\n"
     ]
    }
   ],
   "source": [
    "!cp $VOTCASHARE/xtp/xml/spectrum.xml OPTIONFILES\n",
    "edit_calculator(\"spectrum\", \"lower\", \"9\")\n",
    "edit_calculator(\"spectrum\", \"upper\", \"25\")\n",
    "edit_calculator(\"spectrum\", \"points\", \"1000\")"
   ]
  },
  {
   "cell_type": "markdown",
   "metadata": {},
   "source": [
    "Finally, we can invoke the calculator"
   ]
  },
  {
   "cell_type": "code",
   "execution_count": 9,
   "metadata": {},
   "outputs": [
    {
     "name": "stdout",
     "output_type": "stream",
     "text": [
      "Registered spectrum==================================================\r\n",
      "========   VOTCA (http://www.votca.org)   ========\r\n",
      "==================================================\r\n",
      "\r\n",
      "please submit bugs to bugs@votca.org\r\n",
      "\r\n",
      "xtp_tools, version 1.7-dev gitid: 1c4a17f (dirty) (compiled May 28 2020, 15:47:26)\r\n",
      "votca_csg, version 1.7-dev gitid: 1c4a17f (dirty) (compiled May 28 2020, 15:41:22)\r\n",
      "votca_tools, version 1.7-dev gitid: 1c4a17f (dirty) (compiled May 28 2020, 15:40:09)\r\n",
      "\r\n",
      "Initializing tool\r\n",
      "... spectrum Evaluating tool\r\n",
      "... spectrum \r\n",
      "... ... Calculating absorption spectrum plot methane.orb\r\n",
      "... ...  Loading QM data from methane.orb\r\n",
      "... ...  Considering 5 excitation with max energy 13.8533 eV / min wave length 89.8777 nm\r\n",
      "... ...  Spectrum in energy range from  9 to 25 eV and with broadening of FWHM 0.2 eV written to file  methane_spectrum.dat"
     ]
    }
   ],
   "source": [
    "!xtp_tools -n methane -e spectrum -o OPTIONFILES/spectrum.xml"
   ]
  },
  {
   "cell_type": "markdown",
   "metadata": {},
   "source": [
    "The results are stored in the `methane_spectrum.dat` file."
   ]
  },
  {
   "cell_type": "markdown",
   "metadata": {},
   "source": [
    "## (Optional) Plot the spectrum"
   ]
  },
  {
   "cell_type": "markdown",
   "metadata": {},
   "source": [
    "We will use [matplotlib](https://matplotlib.org/), [seaborn](https://seaborn.pydata.org/) and [pandas](https://pandas.pydata.org/) libraries to plot the spectrum. You can install it using [pip](https://pip.pypa.io/en/stable/) like"
   ]
  },
  {
   "cell_type": "code",
   "execution_count": 10,
   "metadata": {},
   "outputs": [
    {
     "name": "stdout",
     "output_type": "stream",
     "text": [
      "Requirement already satisfied: seaborn in /home/felipe/miniconda3/envs/jupyter/lib/python3.8/site-packages (0.10.1)\r\n",
      "Requirement already satisfied: scipy>=1.0.1 in /home/felipe/miniconda3/envs/jupyter/lib/python3.8/site-packages (from seaborn) (1.4.1)\r\n",
      "Requirement already satisfied: matplotlib>=2.1.2 in /home/felipe/miniconda3/envs/jupyter/lib/python3.8/site-packages (from seaborn) (3.2.1)\r\n",
      "Requirement already satisfied: numpy>=1.13.3 in /home/felipe/miniconda3/envs/jupyter/lib/python3.8/site-packages (from seaborn) (1.18.4)\r\n",
      "Requirement already satisfied: pandas>=0.22.0 in /home/felipe/miniconda3/envs/jupyter/lib/python3.8/site-packages (from seaborn) (1.0.4)\r\n",
      "Requirement already satisfied: kiwisolver>=1.0.1 in /home/felipe/miniconda3/envs/jupyter/lib/python3.8/site-packages (from matplotlib>=2.1.2->seaborn) (1.2.0)\r\n",
      "Requirement already satisfied: pyparsing!=2.0.4,!=2.1.2,!=2.1.6,>=2.0.1 in /home/felipe/miniconda3/envs/jupyter/lib/python3.8/site-packages (from matplotlib>=2.1.2->seaborn) (2.4.7)\r\n",
      "Requirement already satisfied: cycler>=0.10 in /home/felipe/miniconda3/envs/jupyter/lib/python3.8/site-packages (from matplotlib>=2.1.2->seaborn) (0.10.0)\r\n",
      "Requirement already satisfied: python-dateutil>=2.1 in /home/felipe/miniconda3/envs/jupyter/lib/python3.8/site-packages (from matplotlib>=2.1.2->seaborn) (2.8.1)\r\n",
      "Requirement already satisfied: pytz>=2017.2 in /home/felipe/miniconda3/envs/jupyter/lib/python3.8/site-packages (from pandas>=0.22.0->seaborn) (2020.1)\r\n",
      "Requirement already satisfied: six in /home/felipe/miniconda3/envs/jupyter/lib/python3.8/site-packages (from cycler>=0.10->matplotlib>=2.1.2->seaborn) (1.14.0)\r\n"
     ]
    }
   ],
   "source": [
    "!pip install seaborn"
   ]
  },
  {
   "cell_type": "code",
   "execution_count": 11,
   "metadata": {},
   "outputs": [
    {
     "data": {
      "text/plain": [
       "[]"
      ]
     },
     "execution_count": 11,
     "metadata": {},
     "output_type": "execute_result"
    },
    {
     "data": {
      "image/png": "[encoded data removed]",
      "text/plain": [
       "<Figure size 360x360 with 1 Axes>"
      ]
     },
     "metadata": {
      "needs_background": "light"
     },
     "output_type": "display_data"
    }
   ],
   "source": [
    "import pandas as pd \n",
    "import matplotlib.pyplot as plt\n",
    "import seaborn as sns\n",
    "columns = [\"E(eV)\", \"epsGaussian\",\"IM(eps)Gaussian\",  \"epsLorentz\",  \"Im(esp)Lorentz\"] \n",
    "df = pd.read_table(\"methane_spectrum.dat\", comment=\"#\", sep='\\s+',names=columns) \n",
    "sns.relplot(x=\"E(eV)\", y=\"epsGaussian\", ci=None, kind=\"line\", data=df) \n",
    "plt.plot()"
   ]
  }
 ],
 "metadata": {
  "kernelspec": {
   "display_name": "Python 3",
   "language": "python",
   "name": "python3"
  },
  "language_info": {
   "codemirror_mode": {
    "name": "ipython",
    "version": 3
   },
   "file_extension": ".py",
   "mimetype": "text/x-python",
   "name": "python",
   "nbconvert_exporter": "python",
   "pygments_lexer": "ipython3",
   "version": "3.8.3"
  }
 },
 "nbformat": 4,
 "nbformat_minor": 4
}
