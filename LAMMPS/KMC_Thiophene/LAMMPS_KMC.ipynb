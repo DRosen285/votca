{
 "cells": [
  {
   "cell_type": "markdown",
   "metadata": {},
   "source": [
    "# Kinect Monte Carlo Simulations Using LAMMPS"
   ]
  },
  {
   "cell_type": "markdown",
   "metadata": {},
   "source": [
    "## Requirements\n",
    "* You will need to install **VOTCA** using the instructions described [here](https://github.com/votca/votca/blob/master/share/doc/INSTALL.rst)\n",
    "* Once the installation is completed you need to activate the VOTCA enviroment by running the `VOTCARC.bash` script that has been installed at the `bin` subfolder for the path that you have provided for the installation step above"
   ]
  },
  {
   "cell_type": "markdown",
   "metadata": {},
   "source": [
    "## Setting the environment"
   ]
  },
  {
   "cell_type": "markdown",
   "metadata": {},
   "source": [
    "We will use [matplotlib](https://matplotlib.org/), [seaborn](https://seaborn.pydata.org/) and [pandas](https://pandas.pydata.org/) libraries for plotting. You can install it using [pip](https://pip.pypa.io/en/stable/) like"
   ]
  },
  {
   "cell_type": "code",
   "execution_count": null,
   "metadata": {},
   "outputs": [],
   "source": [
    "!pip install seaborn --user"
   ]
  },
  {
   "cell_type": "markdown",
   "metadata": {},
   "source": [
    "### Notes\n",
    "> * The `${VOTCASHARE}` environmental variable is set to the path that you provided during the VOTCA installation, by the default is set to `/usr/local/votca`.\n",
    "> * In Jupyter the `!` symbol means: *run the following command as a standard unix command*\n",
    "> * In Jupyter the command `%env` set an environmental variable"
   ]
  },
  {
   "cell_type": "markdown",
   "metadata": {},
   "source": [
    "##  Check the mapping\n",
    "\n",
    "Let us first output `.pdb` files for the segments, qmmolecules and classical segments in order to check the mapping."
   ]
  },
  {
   "cell_type": "markdown",
   "metadata": {},
   "source": [
    "We need to update the `mapchecker` options."
   ]
  },
  {
   "cell_type": "markdown",
   "metadata": {},
   "source": [
    "Now we can run the checker as follows,"
   ]
  },
  {
   "cell_type": "code",
   "execution_count": 2,
   "metadata": {},
   "outputs": [
    {
     "name": "stdout",
     "output_type": "stream",
     "text": [
      "==================================================\n",
      "========   VOTCA (http://www.votca.org)   ========\n",
      "==================================================\n",
      "\n",
      "please submit bugs to https://github.com/votca/xtp/issues\n",
      "\n",
      "xtp_run, version 2022-dev gitid: b4c29aa (dirty) (compiled Jul  7 2021, 17:32:21)\n",
      "votca_csg, version 2022-dev gitid: b4c29aa (dirty) (compiled Jul  7 2021, 16:43:14)\n",
      "votca_tools, version 2022-dev gitid: b4c29aa (dirty) (compiled Jul  7 2021, 16:39:10)\n",
      "\n",
      "Initializing calculator\n",
      "... mapchecker\n",
      "1 frames in statefile, Ids are: 10000 \n",
      "Starting at frame 10000\n",
      "Evaluating frame 10000\n",
      "Import MD Topology (i.e. frame 10000) from state.hdf5\n",
      ".... \n",
      "... mapchecker\n",
      " Using 1 threads\n",
      "Writing segments to md_segments_step_10000.pdb\n",
      "Writing qmmolecules to qm_segments_n_step_10000.pdb\n",
      "Writing polarsegments to mp_segments_e_step_10000.pdb\n",
      "Writing polarsegments to mp_segments_h_step_10000.pdb\n",
      "Changes have not been written to state file.\n"
     ]
    }
   ],
   "source": [
    "!xtp_run -e mapchecker -c map_file=system.xml -f state.hdf5"
   ]
  },
  {
   "cell_type": "markdown",
   "metadata": {},
   "source": [
    "## Site energies and pair energy differences\n",
    "We will compute the histrogram using `resolution_sites` of 0.03 eV. See [eanalyze options and defaults](https://votca.github.io/xtp/eanalyze.html) for more information."
   ]
  },
  {
   "cell_type": "code",
   "execution_count": 3,
   "metadata": {},
   "outputs": [
    {
     "name": "stdout",
     "output_type": "stream",
     "text": [
      "==================================================\n",
      "========   VOTCA (http://www.votca.org)   ========\n",
      "==================================================\n",
      "\n",
      "please submit bugs to https://github.com/votca/xtp/issues\n",
      "\n",
      "xtp_run, version 2022-dev gitid: b4c29aa (dirty) (compiled Jul  7 2021, 17:32:21)\n",
      "votca_csg, version 2022-dev gitid: b4c29aa (dirty) (compiled Jul  7 2021, 16:43:14)\n",
      "votca_tools, version 2022-dev gitid: b4c29aa (dirty) (compiled Jul  7 2021, 16:39:10)\n",
      "\n",
      "Initializing calculator\n",
      "... eanalyze\n",
      "1 frames in statefile, Ids are: 10000 \n",
      "Starting at frame 10000\n",
      "Evaluating frame 10000\n",
      "Import MD Topology (i.e. frame 10000) from state.hdf5\n",
      ".... \n",
      "... eanalyze\n",
      " Using 1 threads\n",
      "... ... Short-listed 1000 segments (pattern='*')\n",
      "... ... ... NOTE Statistics of site energies and spatial correlations thereof are based on the short-listed segments only. \n",
      "... ... ...      Statistics of site-energy differences operate on the full list.\n",
      "... ... excited state e\n",
      "... ... excited state h\n",
      "... ... excited state s\n",
      "... ... excited state t\n",
      "Changes have not been written to state file.\n"
     ]
    }
   ],
   "source": [
    "!xtp_run -e eanalyze -c resolution_sites=0.03 -f state.hdf5"
   ]
  },
  {
   "cell_type": "markdown",
   "metadata": {},
   "source": [
    "In the current work directoy you can see the resulting files,"
   ]
  },
  {
   "cell_type": "code",
   "execution_count": 4,
   "metadata": {},
   "outputs": [
    {
     "name": "stdout",
     "output_type": "stream",
     "text": [
      "eanalyze.pairhist_e.out  eanalyze.pairlist_s.out  eanalyze.sitehist_e.out\r\n",
      "eanalyze.pairhist_h.out  eanalyze.pairlist_t.out  eanalyze.sitehist_h.out\r\n",
      "eanalyze.pairhist_s.out  eanalyze.sitecorr_e.out  eanalyze.sitehist_s.out\r\n",
      "eanalyze.pairhist_t.out  eanalyze.sitecorr_h.out  eanalyze.sitehist_t.out\r\n",
      "eanalyze.pairlist_e.out  eanalyze.sitecorr_s.out\r\n",
      "eanalyze.pairlist_h.out  eanalyze.sitecorr_t.out\r\n"
     ]
    }
   ],
   "source": [
    "!ls eanalyze*"
   ]
  },
  {
   "cell_type": "markdown",
   "metadata": {},
   "source": [
    "## Plotting the energies\n",
    "We will the previously installed `pandas` and `seaborn` library to plot the electron histrogram computed in the previous step,"
   ]
  },
  {
   "cell_type": "code",
   "execution_count": 5,
   "metadata": {},
   "outputs": [
    {
     "data": {
      "text/plain": [
       "[]"
      ]
     },
     "execution_count": 5,
     "metadata": {},
     "output_type": "execute_result"
    },
    {
     "data": {
      "image/png": "[encoded data removed]",
      "text/plain": [
       "<Figure size 360x360 with 1 Axes>"
      ]
     },
     "metadata": {
      "needs_background": "light"
     },
     "output_type": "display_data"
    }
   ],
   "source": [
    "import pandas as pd \n",
    "import matplotlib.pyplot as plt\n",
    "import seaborn as sns\n",
    "columns = [\"E(eV)\", \"counts\"] \n",
    "df = pd.read_table(\"eanalyze.pairhist_e.out\", comment=\"#\", sep='\\s+',names=columns, skiprows=2) \n",
    "sns.relplot(x=\"E(eV)\", y=\"counts\", ci=None, kind=\"line\", data=df) \n",
    "plt.plot()"
   ]
  },
  {
   "cell_type": "markdown",
   "metadata": {},
   "source": [
    "## Couplings histrogram\n",
    "In this step we will analyze the electron/hole couplings, using the `ianalyze` calculator using the `resolution_logJ2` parameter of 0.1 units. See the [ianalyze options and defaults](https://votca.github.io/xtp/ianalyze.html) for more information about the calculator."
   ]
  },
  {
   "cell_type": "code",
   "execution_count": 6,
   "metadata": {},
   "outputs": [
    {
     "name": "stdout",
     "output_type": "stream",
     "text": [
      "==================================================\n",
      "========   VOTCA (http://www.votca.org)   ========\n",
      "==================================================\n",
      "\n",
      "please submit bugs to https://github.com/votca/xtp/issues\n",
      "\n",
      "xtp_run, version 2022-dev gitid: b4c29aa (dirty) (compiled Jul  7 2021, 17:32:21)\n",
      "votca_csg, version 2022-dev gitid: b4c29aa (dirty) (compiled Jul  7 2021, 16:43:14)\n",
      "votca_tools, version 2022-dev gitid: b4c29aa (dirty) (compiled Jul  7 2021, 16:39:10)\n",
      "\n",
      "Initializing calculator\n",
      "... ianalyze\n",
      "1 frames in statefile, Ids are: 10000 \n",
      "Starting at frame 10000\n",
      "Evaluating frame 10000\n",
      "Import MD Topology (i.e. frame 10000) from state.hdf5\n",
      ".... \n",
      "... ianalyze\n",
      " Using 1 threads\n",
      "Calculating for state e now.\n",
      "Calculating for state h now.\n",
      "Changes have not been written to state file.\n"
     ]
    }
   ],
   "source": [
    "!xtp_run -e ianalyze -c resolution_logJ2=0.1 states=e,h -f state.hdf5"
   ]
  },
  {
   "cell_type": "markdown",
   "metadata": {},
   "source": [
    "## Plotting the coupling histogram\n",
    "We can now plot the logarithm of the squared coupling for the hole,"
   ]
  },
  {
   "cell_type": "code",
   "execution_count": 7,
   "metadata": {},
   "outputs": [
    {
     "data": {
      "text/plain": [
       "[]"
      ]
     },
     "execution_count": 7,
     "metadata": {},
     "output_type": "execute_result"
    },
    {
     "data": {
      "image/png": "[encoded data removed]",
      "text/plain": [
       "<Figure size 360x360 with 1 Axes>"
      ]
     },
     "metadata": {
      "needs_background": "light"
     },
     "output_type": "display_data"
    }
   ],
   "source": [
    "columns = [\"logJ2\", \"counts\"] \n",
    "df = pd.read_table(\"ianalyze.ihist_h.out\", comment=\"#\", sep='\\s+',names=columns, skiprows=2) \n",
    "sns.relplot(x=\"logJ2\", y=\"counts\", ci=None, kind=\"line\", data=df) \n",
    "plt.plot()"
   ]
  },
  {
   "cell_type": "markdown",
   "metadata": {},
   "source": [
    "## KMC simulations of multiple holes or electrons in periodic boundary conditions\n",
    "Finally, lets do a 1000 seconds KMC simulation for the electron, with a 10 seconds window between output and a field of 10 *V/m* along the x-axis,"
   ]
  },
  {
   "cell_type": "code",
   "execution_count": 9,
   "metadata": {},
   "outputs": [
    {
     "name": "stdout",
     "output_type": "stream",
     "text": [
      "==================================================\n",
      "========   VOTCA (http://www.votca.org)   ========\n",
      "==================================================\n",
      "\n",
      "please submit bugs to https://github.com/votca/xtp/issues\n",
      "\n",
      "xtp_run, version 2022-dev gitid: b4c29aa (dirty) (compiled Jul  7 2021, 17:32:21)\n",
      "votca_csg, version 2022-dev gitid: b4c29aa (dirty) (compiled Jul  7 2021, 16:43:14)\n",
      "votca_tools, version 2022-dev gitid: b4c29aa (dirty) (compiled Jul  7 2021, 16:39:10)\n",
      "\n",
      "Initializing calculator\n",
      "... kmcmultiple\n",
      "1 frames in statefile, Ids are: 10000 \n",
      "Starting at frame 10000\n",
      "Evaluating frame 10000\n",
      "Import MD Topology (i.e. frame 10000) from state.hdf5\n",
      ".... \n",
      "... kmcmultiple\n",
      " Using 1 threads\n",
      " ... \n",
      "-----------------------------------\n",
      "      KMC FOR MULTIPLE CHARGES\n",
      "-----------------------------------\n",
      "\n",
      " ... \n",
      "Calculating initial rates.\n",
      " ... Rate engine initialized:\n",
      " Ratetype:marcus\n",
      " Temperature T[k] = 300\n",
      " Electric field[V/nm](x,y,z) =1e-08 0 0 ||F|| 1e-08\n",
      "\n",
      " ... \n",
      " ...     carriertype: electron\n",
      " ...     Rates for 1000 sites are computed.\n",
      " ... \n",
      "Rates are written to rates.dat\n",
      " ... Nblist has 10151 pairs. Nodes contain 20302 jump events\n",
      "with avg=20.302 std=2.07913 max=28 min=14 jumps per site\n",
      "Minimum jumpdistance =0.366063 nm Maximum distance =1.10167 nm\n",
      "\n",
      " ... spatial carrier density: 0.00729374 nm^-3\n",
      " ... \n",
      "Algorithm: VSSM for Multiple Charges\n",
      " ... number of carriers: 1\n",
      " ... number of nodes: 1000\n",
      " ... stop condition: 1000 steps.\n",
      " ... output frequency: every 10 steps.\n",
      " ... (If you specify runtimes larger than 100 kmcmultiple assumes that you are specifying the number of steps for both runtime and outputtime.)\n",
      " ... Writing trajectory to trajectory.csv.\n",
      " ... looking for injectable nodes...\n",
      " ... starting position for charge 0: segment 697\n",
      " ... \n",
      "Occupations are written to occupation.dat\n",
      " ... \n",
      "finished KMC simulation after 1000 steps.\n",
      "simulated time 5.92255e-09 seconds.\n",
      "\n",
      " ...     carrier 1: 1.205058e+08 5.671523e+07 1.959596e+07\n",
      " ...   Overall average velocity (nm/s): 1.205058e+08 5.671523e+07 1.959596e+07\n",
      " ... \n",
      "Distances travelled (nm): \n",
      " ...     carrier 1: 7.137019e-01 3.358990e-01 1.160581e-01\n",
      " ... \n",
      "Mobilities (nm^2/Vs): \n",
      " ...     carrier 1: mu=1.205058e+16\n",
      " ...   Overall average mobility in field direction <mu>=1.205058e+16 nm^2/Vs  \n",
      " ... \n",
      "Eigenvalues:\n",
      " \n",
      " ... Eigenvalue: 3.070185e-09\n",
      " ... Eigenvector: 1.317081e-01   6.198754e-02   -9.893485e-01\n",
      "\n",
      " ... Eigenvalue: 3.070185e-09\n",
      " ... Eigenvector: 4.258378e-01   -9.047995e-01   2.755120e-18\n",
      "\n",
      " ... Eigenvalue: 5.366503e+07\n",
      " ... Eigenvector: -8.951621e-01   -4.213020e-01   -1.455661e-01\n",
      "Changes have not been written to state file.\n"
     ]
    }
   ],
   "source": [
    "!xtp_run -e kmcmultiple -c runtime=1000 outputtime=10 field=10,0,0 carriertype=electron -f state.hdf5"
   ]
  },
  {
   "cell_type": "markdown",
   "metadata": {},
   "source": [
    "You can find both the *occupation data* and the *rates* for the electron at 300 K, on files `occupation.dat`  and `rates.dat`, respectively."
   ]
  }
 ],
 "metadata": {
  "kernelspec": {
   "display_name": "Python 3",
   "language": "python",
   "name": "python3"
  },
  "language_info": {
   "codemirror_mode": {
    "name": "ipython",
    "version": 3
   },
   "file_extension": ".py",
   "mimetype": "text/x-python",
   "name": "python",
   "nbconvert_exporter": "python",
   "pygments_lexer": "ipython3",
   "version": "3.8.10"
  }
 },
 "nbformat": 4,
 "nbformat_minor": 4
}
